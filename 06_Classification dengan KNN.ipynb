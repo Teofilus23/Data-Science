{
 "cells": [
  {
   "cell_type": "markdown",
   "metadata": {
    "slideshow": {
     "slide_type": "slide"
    }
   },
   "source": [
    "# 06 Classification dengan KNN (K Nearest Neighbours)\n",
    "\n",
    "- KNN adalah model machine learning yang dapat digunakan untuk melakukan prediksi berdasarkan kedekatan karakteristik dengan sejumlah tetangga terdekat.\n",
    "- Prediksi yang dilakukan dapat diterapkan baik pada classification maupun regression tasks.\n",
    "\n",
    "Referensi: [https://en.wikipedia.org/wiki/K-nearest_neighbors_algorithm](https://en.wikipedia.org/wiki/K-nearest_neighbors_algorithm)"
   ]
  },
  {
   "cell_type": "markdown",
   "metadata": {
    "slideshow": {
     "slide_type": "slide"
    }
   },
   "source": [
    "## Sample Dataset"
   ]
  },
  {
   "cell_type": "code",
   "execution_count": 48,
   "metadata": {
    "slideshow": {
     "slide_type": "-"
    }
   },
   "outputs": [
    {
     "data": {
      "text/html": [
       "<div>\n",
       "<style scoped>\n",
       "    .dataframe tbody tr th:only-of-type {\n",
       "        vertical-align: middle;\n",
       "    }\n",
       "\n",
       "    .dataframe tbody tr th {\n",
       "        vertical-align: top;\n",
       "    }\n",
       "\n",
       "    .dataframe thead th {\n",
       "        text-align: right;\n",
       "    }\n",
       "</style>\n",
       "<table border=\"1\" class=\"dataframe\">\n",
       "  <thead>\n",
       "    <tr style=\"text-align: right;\">\n",
       "      <th></th>\n",
       "      <th>tinggi</th>\n",
       "      <th>berat</th>\n",
       "      <th>jk</th>\n",
       "    </tr>\n",
       "  </thead>\n",
       "  <tbody>\n",
       "    <tr>\n",
       "      <th>0</th>\n",
       "      <td>165</td>\n",
       "      <td>64</td>\n",
       "      <td>pria</td>\n",
       "    </tr>\n",
       "    <tr>\n",
       "      <th>1</th>\n",
       "      <td>180</td>\n",
       "      <td>86</td>\n",
       "      <td>pria</td>\n",
       "    </tr>\n",
       "    <tr>\n",
       "      <th>2</th>\n",
       "      <td>193</td>\n",
       "      <td>94</td>\n",
       "      <td>pria</td>\n",
       "    </tr>\n",
       "    <tr>\n",
       "      <th>3</th>\n",
       "      <td>191</td>\n",
       "      <td>80</td>\n",
       "      <td>pria</td>\n",
       "    </tr>\n",
       "    <tr>\n",
       "      <th>4</th>\n",
       "      <td>145</td>\n",
       "      <td>43</td>\n",
       "      <td>wanita</td>\n",
       "    </tr>\n",
       "    <tr>\n",
       "      <th>5</th>\n",
       "      <td>193</td>\n",
       "      <td>89</td>\n",
       "      <td>pria</td>\n",
       "    </tr>\n",
       "    <tr>\n",
       "      <th>6</th>\n",
       "      <td>160</td>\n",
       "      <td>67</td>\n",
       "      <td>wanita</td>\n",
       "    </tr>\n",
       "    <tr>\n",
       "      <th>7</th>\n",
       "      <td>148</td>\n",
       "      <td>45</td>\n",
       "      <td>wanita</td>\n",
       "    </tr>\n",
       "    <tr>\n",
       "      <th>8</th>\n",
       "      <td>178</td>\n",
       "      <td>67</td>\n",
       "      <td>wanita</td>\n",
       "    </tr>\n",
       "  </tbody>\n",
       "</table>\n",
       "</div>"
      ],
      "text/plain": [
       "   tinggi  berat      jk\n",
       "0     165     64    pria\n",
       "1     180     86    pria\n",
       "2     193     94    pria\n",
       "3     191     80    pria\n",
       "4     145     43  wanita\n",
       "5     193     89    pria\n",
       "6     160     67  wanita\n",
       "7     148     45  wanita\n",
       "8     178     67  wanita"
      ]
     },
     "execution_count": 48,
     "metadata": {},
     "output_type": "execute_result"
    }
   ],
   "source": [
    "import pandas as pd\n",
    "\n",
    "sensus = {\n",
    "    'tinggi': [165, 180, 193, 191, 145, 193, 160, 148, 178],\n",
    "    'berat': [64, 86, 94, 80, 43, 89, 67, 45, 67],\n",
    "    'jk': [\n",
    "        'pria', 'pria', 'pria', 'pria', 'wanita', 'pria', 'wanita', 'wanita',\n",
    "        'wanita'\n",
    "    ]\n",
    "}\n",
    "\n",
    "sensus_df = pd.DataFrame(sensus)\n",
    "sensus_df"
   ]
  },
  {
   "cell_type": "markdown",
   "metadata": {},
   "source": [
    "membentuk sebuah dataset yang berisi daftar \"berat\" dan \"tinggi\" badan sejumlah partisipan yang sudah diinput beserta jenis kelaminnya, dataset ini akan kita tampung ke dalam format Pandas DataFrame\n",
    "\n",
    "- import modul pandas (import pandas as pd)\n",
    "- Penyiapan suatu variable dalam kontes yang di atas disebut sebagai \"Sensus\" digunakan untuk menampung data dictionary, yang dimana di dalam dictionary ini terdapat 3(tiga) buah keys yaitu: tinggi, berat, dan jk (jenis kelamin)\n",
    "- dataset ini di tampung ke dalam dataframe \"sensus_df\"\n",
    "- pemunculan data set tinggi, berat, dan jk (jenis kelamin) dengan memanggil (sensus_df)\n",
    "\n",
    "Dataset kali ini terdiri dari 3 buah kolom yaitu 'tinggi', 'berat', dan 'jk'. Pembuatan 3 kolom ini untuk membentuk sebuah model machine learning sederhana yang dapat digunakan untuk memprediksi jenis kelamin seseorang berdasarkan data tinggi dan berat badanya. Dengan kata lain, data tinggi dan berat badan akan berperan sebagai \"features\", sedangkan jenis kelamin akan berperan sebagai \"target\"."
   ]
  },
  {
   "cell_type": "markdown",
   "metadata": {
    "slideshow": {
     "slide_type": "slide"
    }
   },
   "source": [
    "## Visualisasi Data"
   ]
  },
  {
   "cell_type": "code",
   "execution_count": 49,
   "metadata": {},
   "outputs": [
    {
     "data": {
      "image/png": "[encoded data removed]",
      "text/plain": [
       "<Figure size 432x288 with 1 Axes>"
      ]
     },
     "metadata": {
      "needs_background": "light"
     },
     "output_type": "display_data"
    }
   ],
   "source": [
    "import matplotlib.pyplot as plt\n",
    "\n",
    "fig, ax = plt.subplots()\n",
    "for jk, d in sensus_df.groupby('jk'):\n",
    "    ax.scatter(d['tinggi'], d['berat'], label=jk)\n",
    "\n",
    "plt.legend(loc='upper left')\n",
    "plt.title('Sebaran Data Tinggi Badan, Berat Badan, dan Jenis Kelamin')\n",
    "plt.xlabel('Tinggi Badan (cm)')\n",
    "plt.ylabel('Berat Badan (kg)')\n",
    "plt.grid(True)\n",
    "plt.show()"
   ]
  },
  {
   "cell_type": "markdown",
   "metadata": {},
   "source": [
    "Pembuatan visualisasi dataset sensus yang telah kita bentuk sebelumnya ke dalam scatter plot, sebuah sumbu x akan berasosisasi dengan tinggi badan, sedangkan sumbu y akan berasosisasi dengan berat badan.\n",
    "\n",
    "penggunaan dua warna yang berbeda untuk menentukan Pria dan Wanita.\n",
    "\n",
    "\n",
    "- Import modul matplotlib.\n",
    "- Membentuk sebuah subplots, dimana akan menangkap objek figure dan axes nya.\n",
    "- Selanjutnya, kita akan melakukan looping terhadap data sensus df tersebut, dimana sensus df nya kita grouping terlebih dahulu berdasarkan 'jk' atau jenis kelaminnya.\n",
    "- Pada setiap iterasinya, kita akan menangkap 2 nilai yaitu 'jk' yang merepresentasikan jenis kelamin berdasarkan pengelompokannya, dan yang kedua adalah 'd' yang berisi sekumpulan baris data dari kelompok jenis kelamin tertentu. Karena kita ingin membentuk scatter plot, maka kita panggil 'ax.scatter', dimana sumbu x nya akan diasosiasikan dengan data baris dengan kolom 'tinggi', sedangkan sumbu y akan diasosiasi dengan data baris dengan kolom 'berat', lalu kita sertakan label dimana label tersebut akan disesuaikan dengan kelompok jenis kelaminnya.\n",
    "- Legend, yang akan berasosiasi dengan 'label=jk'. Maka legendnya hanya akan menampilkan warna biru dan orange tanpa disertai label pria dan wanita. Lalu berikutnya, ketika memanggil 'plt.legend' serta menyertakan parameter 'loc', parameter 'loc' ini digunakan untuk mengatur lokasi atau posisi dari legendnya, yang dalam kasus ini 'loc' nya sebagai upper left, berarti posisinya ada di sudut kiri atas.\n",
    "- Sebagai data tambahan akan menyertakan judul, label untuk sumbu x dan juga sumbu y 'plt.title', 'plt.xlabel', dan 'plt.ylabel'.\n",
    "- 'plt.grid' yang diberi nilai true untuk pembuatan data dalam tabel.\n",
    "- 'plt.show()' Tugasnya untuk memunculkan hasil ploting.\n",
    "\n",
    "setiap baris ini akan menghasilkan satu data point pada scatter plot nya.\n",
    "\n",
    "Pada kasus kita kali ini, tujuan utamanya adalah ketika  menemukan suatu data point baru, maka data point tersebut akan coba diprediksi apakah dia masuk kedalam kategori 'pria' atau 'wanita.\n"
   ]
  },
  {
   "cell_type": "markdown",
   "metadata": {
    "slideshow": {
     "slide_type": "slide"
    }
   },
   "source": [
    "## Classification dengan KNN"
   ]
  },
  {
   "cell_type": "markdown",
   "metadata": {},
   "source": [
    "Melakukan percobaan untuk menerapkan KNN atau (Key Nearest Neighbours) untuk melakukan klasifikasi jenis kelamin berdasarkan data tinggi dan berat badan."
   ]
  },
  {
   "cell_type": "markdown",
   "metadata": {
    "slideshow": {
     "slide_type": "subslide"
    }
   },
   "source": [
    "### Preprocessing Dataset"
   ]
  },
  {
   "cell_type": "code",
   "execution_count": 50,
   "metadata": {},
   "outputs": [
    {
     "name": "stdout",
     "output_type": "stream",
     "text": [
      "X_train:\n",
      "[[165  64]\n",
      " [180  86]\n",
      " [193  94]\n",
      " [191  80]\n",
      " [145  43]\n",
      " [193  89]\n",
      " [160  67]\n",
      " [148  45]\n",
      " [178  67]]\n",
      "\n",
      "y_train: ['pria' 'pria' 'pria' 'pria' 'wanita' 'pria' 'wanita' 'wanita' 'wanita']\n"
     ]
    }
   ],
   "source": [
    "import numpy as np\n",
    "\n",
    "X_train = np.array(sensus_df[['tinggi', 'berat']])\n",
    "y_train = np.array(sensus_df['jk'])\n",
    "\n",
    "print(f'X_train:\\n{X_train}\\n')\n",
    "print(f'y_train: {y_train}')"
   ]
  },
  {
   "cell_type": "markdown",
   "metadata": {},
   "source": [
    "Sebelum melangkah ke proses training model, author perlu melakukan beberapa penyesuaian pada dataset sensus tersebut, dimana pengkonversikan data tinggi badan dan berat badan ke dalam numpy array. Selanjutnya ditampung ke dalam variabel 'X_train' sebagai kumpulan features untuk training set. Lalu untuk kolom 'jenis kelamin' juga kita akan konversikan menjadi numpy array untuk selanjutnya kita tampung ke dalam variabel 'y_train' sebagai sekumpulan nilai target untuk training set.\n",
    "\n",
    "- import numpy as np untuk pembuatan list array.\n",
    "- Bentuk 2 buah numpy array. Untuk numpy array yang pertama akan dibentuk berdasarkan kolom tinggi dan berat dari 'sensus_df' yang ditampung ke dalam variabel 'X_train', sedangkan numpy array kedua akan dibentuk berdasarkan kolom 'jk' dari 'sensus_df' yang kita tampung ke dalam variabel 'y_train'.\n",
    "- Lalu ditampilkan dengan cara di print kedua variabel tersebut.\n",
    "\n",
    "X_train berisi sekumpulan nilai features, sedangkan y_train akan berisi sekumpulan nilai target. Jika diperhatikan pada sekumpulan nilai features untuk training set yang kita miliki sudah dalam format array dua dimensi dan tipe datanya pun sudah berupa data numerik, artinya sekumpulan nilai features ini sudah siap digunakan untuk proses training. Tetapi jika diperhatikan nilai targetnya, tipe datanya berupa string.\n",
    "\n",
    "Karena jenis kelamin ini hanya terdiri dari 2 nilai, dalam kasus ini adalah 'pria' dan 'wanita', maka kita bisa memanfaatkan label binarizer untuk melakukan konversi nilai string tersebut menjadi nilai numerik biner."
   ]
  },
  {
   "cell_type": "code",
   "execution_count": 51,
   "metadata": {},
   "outputs": [
    {
     "name": "stdout",
     "output_type": "stream",
     "text": [
      "y_train:\n",
      "[[0]\n",
      " [0]\n",
      " [0]\n",
      " [0]\n",
      " [1]\n",
      " [0]\n",
      " [1]\n",
      " [1]\n",
      " [1]]\n"
     ]
    }
   ],
   "source": [
    "from sklearn.preprocessing import LabelBinarizer\n",
    "\n",
    "lb = LabelBinarizer()\n",
    "y_train = lb.fit_transform(y_train)\n",
    "print(f'y_train:\\n{y_train}')"
   ]
  },
  {
   "cell_type": "markdown",
   "metadata": {},
   "source": [
    "\n",
    "- Lakukan import modul ('from sklearn.preprocessing import LabelBinarizer').\n",
    "- Mencoba membentuk objek dari class label binarizer ini, dengan cara memanggil ('lb = LabelBinarizer()') yang akan ditampung ke dalam variabel 'lb'.\n",
    "- Selanjutnya, objek label binarizer tersebut akan dimanfaatkan untuk melakukan transformasi data yang terdapat dalam variabel 'y_train'. panggil ('lb.fit_transform(y_train)') yang nilainya ditampung kembali ke dalam variabel 'y_train'.\n",
    "- Lakukan print out terhadap variabel 'y_train'.\n",
    "\n",
    "Output tersebut hanya terdapat 2 nilai yaitu 0 dan 1. Dalam hal ini nilai 0(nol) akan merepresentasikan data 'pria', sedangkan nilai 1(satu) akan merepresentasikan data wanita.\n",
    "\n",
    "Setelah melalui proses transformasi data dengan label binarizer, sekumpulan nilai target yang kita miliki ini, sekarang tersimpan dalam format array 2 dimensi. Oleh karena itu, kita perlu kembalikan menjadi array satu dimensi dengan method flatten."
   ]
  },
  {
   "cell_type": "code",
   "execution_count": 52,
   "metadata": {},
   "outputs": [
    {
     "name": "stdout",
     "output_type": "stream",
     "text": [
      "y_train: [0 0 0 0 1 0 1 1 1]\n"
     ]
    }
   ],
   "source": [
    "y_train = y_train.flatten()\n",
    "print(f'y_train: {y_train}')"
   ]
  },
  {
   "cell_type": "markdown",
   "metadata": {},
   "source": [
    "Memanggil fungsi 'y_train.flatten()' yang akan ditampung ke dalam variabel y_train.\n",
    "Lakukan pemanggilan dengan print untuk melihat hasilnya.\n"
   ]
  },
  {
   "cell_type": "markdown",
   "metadata": {
    "slideshow": {
     "slide_type": "subslide"
    }
   },
   "source": [
    "### Training KNN Classification Model"
   ]
  },
  {
   "cell_type": "code",
   "execution_count": 53,
   "metadata": {},
   "outputs": [
    {
     "data": {
      "text/plain": [
       "KNeighborsClassifier(n_neighbors=3)"
      ]
     },
     "execution_count": 53,
     "metadata": {},
     "output_type": "execute_result"
    }
   ],
   "source": [
    "from sklearn.neighbors import KNeighborsClassifier\n",
    "\n",
    "K = 3\n",
    "model = KNeighborsClassifier(n_neighbors=K)\n",
    "model.fit(X_train, y_train)"
   ]
  },
  {
   "cell_type": "markdown",
   "metadata": {},
   "source": [
    "\n",
    "- import terlebih dahulu estimater class 'from sklearn.neighbors import KNeighborsClassifier'. Disini memilih KNeighbors Classifier karena akan menggunakan KNN ini untuk clasification task.\n",
    "- Disini terdapat satu parameter yang harus dispesifikasikan nilainya yaitu paremeter 'K'. Untuk kasus kali ini nilai 'K' kita akan set sebagai 3. Nilai parameter 'K' ini digunakan untuk menentukan jumlah tetangga terdekat yang akan dilibatkan untuk proses prediksi, dan untuk kasus kali ini adalah 3 tetangga terdekat.\n",
    "- Setelah nilai 'K' ditentukan, selanjutnya bentuk objek dari class KNeighbors Classifier. KNeighbors Classifier ini akan membutuhkan satu parameter yaitu n_neighbors yang diberi nilai 'K' lalu kita tampung kedalam variabel 'model'.\n",
    "- Untuk selanjutnya, akan melakukan training dengan memanfaatkan X_train dan y_train yang sudah dipersiapkan sebelumnya.\n",
    "- Pada kali ini, proses trainingnya akan dilakukan dengan cara memanggil 'model.fit(X_train, y_train)'"
   ]
  },
  {
   "cell_type": "markdown",
   "metadata": {
    "slideshow": {
     "slide_type": "subslide"
    }
   },
   "source": [
    "### Prediksi Jenis Kelamin"
   ]
  },
  {
   "cell_type": "code",
   "execution_count": 54,
   "metadata": {},
   "outputs": [
    {
     "data": {
      "text/plain": [
       "array([[155,  70]])"
      ]
     },
     "execution_count": 54,
     "metadata": {},
     "output_type": "execute_result"
    }
   ],
   "source": [
    "tinggi_badan = 155\n",
    "berat_badan = 70\n",
    "X_new = np.array([tinggi_badan, berat_badan]).reshape(1, -1)\n",
    "X_new"
   ]
  },
  {
   "cell_type": "markdown",
   "metadata": {},
   "source": [
    "\n",
    "- Tinggi badan sebesar 155 dan berat badan sebesar 70 yang akan kita prediksi jenis kelaminnya apakah pria atau wanita.\n",
    "- Nilai featuresnya harus  dibentuk dulu menjadi suatu numpy array. 'np.array' lalu tinggi badan dan berat badannya '([tinggi_badan, berat_badan])'. Karena disini hanya terdapat satu dataset atau instance saja, maka perlu kita melakukan reshape menjadi array 2 dimensi 'reshape(1, -1)'. Lalu array ini akan ditampung ke dalam variabel 'X_new'.\n",
    "- Tampilkan dengan memanggil X_new\n"
   ]
  },
  {
   "cell_type": "code",
   "execution_count": 55,
   "metadata": {},
   "outputs": [
    {
     "data": {
      "text/plain": [
       "array([1])"
      ]
     },
     "execution_count": 55,
     "metadata": {},
     "output_type": "execute_result"
    }
   ],
   "source": [
    "y_new = model.predict(X_new)\n",
    "y_new"
   ]
  },
  {
   "cell_type": "markdown",
   "metadata": {},
   "source": [
    "- Memanggil fungsi 'model.predict' lalu sertakan '(X_new)'  dimana hasil prediksinya akan ditampung kedalam variabel 'y_new'.\n",
    "- Lalu kita tampilkan pada layar.\n",
    "\n",
    "Hasil prediksi yang keluar di atas menunjukan bahwa hasilnya 1 yaitU perempuan"
   ]
  },
  {
   "cell_type": "code",
   "execution_count": 56,
   "metadata": {},
   "outputs": [
    {
     "data": {
      "text/plain": [
       "array(['wanita'], dtype='<U6')"
      ]
     },
     "execution_count": 56,
     "metadata": {},
     "output_type": "execute_result"
    }
   ],
   "source": [
    "lb.inverse_transform(y_new)"
   ]
  },
  {
   "cell_type": "markdown",
   "metadata": {},
   "source": [
    "hasil konveri baliknya, disini bisa mengetahui bahwa nilai 1 untuk target itu berkolerasi dengan jenis kelamin wanita atau dengan kata lain, tinggi badan 155 dengan berat badan 70 tersebut diprediksi sebagai data 'wanita' oleh model yang sudah kita training sebelumnya."
   ]
  },
  {
   "cell_type": "markdown",
   "metadata": {
    "slideshow": {
     "slide_type": "subslide"
    }
   },
   "source": [
    "### Visualisasi Nearest Neighbours"
   ]
  },
  {
   "cell_type": "code",
   "execution_count": 57,
   "metadata": {},
   "outputs": [
    {
     "data": {
      "image/png": "[encoded data removed]",
      "text/plain": [
       "<Figure size 432x288 with 1 Axes>"
      ]
     },
     "metadata": {
      "needs_background": "light"
     },
     "output_type": "display_data"
    }
   ],
   "source": [
    "fig, ax = plt.subplots()\n",
    "for jk, d in sensus_df.groupby('jk'):\n",
    "    ax.scatter(d['tinggi'], d['berat'], label=jk)\n",
    "\n",
    "plt.scatter(tinggi_badan,\n",
    "            berat_badan,\n",
    "            marker='s',\n",
    "            color='red',\n",
    "            label='misterius')\n",
    "\n",
    "plt.legend(loc='upper left')\n",
    "plt.title('Sebaran Data Tinggi Badan, Berat Badan, dan Jenis Kelamin')\n",
    "plt.xlabel('Tinggi Badan (cm)')\n",
    "plt.ylabel('Berat Badan (kg)')\n",
    "plt.grid(True)\n",
    "plt.show()"
   ]
  },
  {
   "cell_type": "markdown",
   "metadata": {},
   "source": [
    "- Memanggil 'plt.subplots()' untuk mendapatkan objek figure dan axes nya.\n",
    "- Lalu berikutnya, akan mencoba tampilkan kembali data points dari dataset yang kita miliki. Caranya kurang lebih sama dengan cara sebelumnya, hanya saja disini kita akan menyertakan marker baru pada scatter plot kita. Marker baru ini dihasilkan dengan memanggil 'plt.scatter' dimana nilai x nya itu berasal dari variabel tinggi_badan daan nilai y nya berasal dari berat_badan, sedangkan untuk markernya kita beri nilai 's' karena kita bentuk markernya sebagai square atau kotak. Lalu color kita berikan warna merah 'red', dan labelnya kita beri label 'misterius'.\n"
   ]
  },
  {
   "cell_type": "markdown",
   "metadata": {
    "slideshow": {
     "slide_type": "subslide"
    }
   },
   "source": [
    "### Kalkulasi Distance (Euclidean Distance)\n",
    "\n",
    "\n",
    "$distance = \\sqrt{ (t_1 - t_2)^2 + (b_1 - b_2)^2 }$\n",
    "\n",
    "Referensi: [https://en.wikipedia.org/wiki/Euclidean_distance](https://en.wikipedia.org/wiki/Euclidean_distance)\n",
    "\n",
    "\n",
    "Setelah kita mempelajari cara kerja KNN secara umum atau secara general, berikutnya akan dipelajari bagimana KNN mengukur jarak atau kedekatan antara data baru yang diprediksi dengan sekumpulan data lain pada dataset training. Pada kali ini, kita akan mengenal euclidean distance untuk mengukur jarak antara satu data ponit dengan data point lainnya.\n",
    "\n",
    "Rumus Euclidean Distance :\n",
    "\n",
    "- t  : merepresentasikan tinggi badan.\n",
    "- b  : merepresentasikan berat badan.\n",
    "- t1 : merepresentasikan data tinggi badan dari data point yang pertama.\n",
    "- t2 : merepresentasikan data tinggi badan dari data point yang kedua.\n",
    "- b1 : merepresentasikan data berat badan dari data point yang pertama.\n",
    "- b2 : merepresentasikan data berat badan dari data point yang kedua.\n",
    "\n",
    "Formula atau rumus tersebut dapat kita gunakan untuk mengukur jarak atau distance atau kedekatan antara data point pertama dengan data point kedua. proses kalkulasi yang diterapkan oleh KNN dalam menentukan tetangga terdekat untuk suatu data point yang akan diprediksi.\n"
   ]
  },
  {
   "cell_type": "code",
   "execution_count": 58,
   "metadata": {},
   "outputs": [
    {
     "data": {
      "text/plain": [
       "array([155,  70])"
      ]
     },
     "execution_count": 58,
     "metadata": {},
     "output_type": "execute_result"
    }
   ],
   "source": [
    "misterius = np.array([tinggi_badan, berat_badan])\n",
    "misterius"
   ]
  },
  {
   "cell_type": "markdown",
   "metadata": {},
   "source": [
    " data point misterius tersebut akan dibentuk terlebih dahulu ke dalam format numpy array 'np.array([tinggi_badan, berat_badan])'"
   ]
  },
  {
   "cell_type": "code",
   "execution_count": 59,
   "metadata": {},
   "outputs": [
    {
     "data": {
      "text/plain": [
       "array([[165,  64],\n",
       "       [180,  86],\n",
       "       [193,  94],\n",
       "       [191,  80],\n",
       "       [145,  43],\n",
       "       [193,  89],\n",
       "       [160,  67],\n",
       "       [148,  45],\n",
       "       [178,  67]], dtype=int64)"
      ]
     },
     "execution_count": 59,
     "metadata": {},
     "output_type": "execute_result"
    }
   ],
   "source": [
    "X_train"
   ]
  },
  {
   "cell_type": "markdown",
   "metadata": {},
   "source": [
    "tampilkan sekumpulan nilai features dari training set. Mencoba hitung jarak berdasarkan euclidean distance antara data point misterius dengan setiap data point lain pada dataset 'X_train'."
   ]
  },
  {
   "cell_type": "markdown",
   "metadata": {},
   "source": [
    "X_train merupakan list."
   ]
  },
  {
   "cell_type": "code",
   "execution_count": 60,
   "metadata": {},
   "outputs": [
    {
     "data": {
      "text/plain": [
       "[11.661903789690601,\n",
       " 29.68164415931166,\n",
       " 44.94441010848846,\n",
       " 37.36308338453881,\n",
       " 28.792360097775937,\n",
       " 42.485291572496,\n",
       " 5.830951894845301,\n",
       " 25.96150997149434,\n",
       " 23.194827009486403]"
      ]
     },
     "execution_count": 60,
     "metadata": {},
     "output_type": "execute_result"
    }
   ],
   "source": [
    "from scipy.spatial.distance import euclidean\n",
    "\n",
    "data_jarak = [euclidean(misterius, d) for d in X_train]\n",
    "data_jarak"
   ]
  },
  {
   "cell_type": "markdown",
   "metadata": {},
   "source": [
    "- Untuk menghitung jarak antara keduanya, digunakan function euclidean yang sudah disertakan pada scipy cara memanggil  'from scipy.spatial.distance import euclidean'.\n",
    "- Lalu berikutnya kita tinggal pakai saja euclidean distancenya. funtion euclidean system tersebut digunakan untuk mengukur jarak atau kedekatan atau distancenya antara data point misterius dengan suatu data point lain (dalam kasus ini adalah 'd') di dalam variabel 'X_train' yang ditampung ke dalam variabel 'data_jarak'.\n",
    "- jarak antara data point misterius dengan data point pertama pada 'X_train' (158) adalah (6.708203932499369) dan seterusnya."
   ]
  },
  {
   "cell_type": "code",
   "execution_count": 61,
   "metadata": {},
   "outputs": [
    {
     "data": {
      "text/html": [
       "<div>\n",
       "<style scoped>\n",
       "    .dataframe tbody tr th:only-of-type {\n",
       "        vertical-align: middle;\n",
       "    }\n",
       "\n",
       "    .dataframe tbody tr th {\n",
       "        vertical-align: top;\n",
       "    }\n",
       "\n",
       "    .dataframe thead th {\n",
       "        text-align: right;\n",
       "    }\n",
       "</style>\n",
       "<table border=\"1\" class=\"dataframe\">\n",
       "  <thead>\n",
       "    <tr style=\"text-align: right;\">\n",
       "      <th></th>\n",
       "      <th>tinggi</th>\n",
       "      <th>berat</th>\n",
       "      <th>jk</th>\n",
       "      <th>jarak</th>\n",
       "    </tr>\n",
       "  </thead>\n",
       "  <tbody>\n",
       "    <tr>\n",
       "      <th>6</th>\n",
       "      <td>160</td>\n",
       "      <td>67</td>\n",
       "      <td>wanita</td>\n",
       "      <td>5.830952</td>\n",
       "    </tr>\n",
       "    <tr>\n",
       "      <th>0</th>\n",
       "      <td>165</td>\n",
       "      <td>64</td>\n",
       "      <td>pria</td>\n",
       "      <td>11.661904</td>\n",
       "    </tr>\n",
       "    <tr>\n",
       "      <th>8</th>\n",
       "      <td>178</td>\n",
       "      <td>67</td>\n",
       "      <td>wanita</td>\n",
       "      <td>23.194827</td>\n",
       "    </tr>\n",
       "    <tr>\n",
       "      <th>7</th>\n",
       "      <td>148</td>\n",
       "      <td>45</td>\n",
       "      <td>wanita</td>\n",
       "      <td>25.961510</td>\n",
       "    </tr>\n",
       "    <tr>\n",
       "      <th>4</th>\n",
       "      <td>145</td>\n",
       "      <td>43</td>\n",
       "      <td>wanita</td>\n",
       "      <td>28.792360</td>\n",
       "    </tr>\n",
       "    <tr>\n",
       "      <th>1</th>\n",
       "      <td>180</td>\n",
       "      <td>86</td>\n",
       "      <td>pria</td>\n",
       "      <td>29.681644</td>\n",
       "    </tr>\n",
       "    <tr>\n",
       "      <th>3</th>\n",
       "      <td>191</td>\n",
       "      <td>80</td>\n",
       "      <td>pria</td>\n",
       "      <td>37.363083</td>\n",
       "    </tr>\n",
       "    <tr>\n",
       "      <th>5</th>\n",
       "      <td>193</td>\n",
       "      <td>89</td>\n",
       "      <td>pria</td>\n",
       "      <td>42.485292</td>\n",
       "    </tr>\n",
       "    <tr>\n",
       "      <th>2</th>\n",
       "      <td>193</td>\n",
       "      <td>94</td>\n",
       "      <td>pria</td>\n",
       "      <td>44.944410</td>\n",
       "    </tr>\n",
       "  </tbody>\n",
       "</table>\n",
       "</div>"
      ],
      "text/plain": [
       "   tinggi  berat      jk      jarak\n",
       "6     160     67  wanita   5.830952\n",
       "0     165     64    pria  11.661904\n",
       "8     178     67  wanita  23.194827\n",
       "7     148     45  wanita  25.961510\n",
       "4     145     43  wanita  28.792360\n",
       "1     180     86    pria  29.681644\n",
       "3     191     80    pria  37.363083\n",
       "5     193     89    pria  42.485292\n",
       "2     193     94    pria  44.944410"
      ]
     },
     "execution_count": 61,
     "metadata": {},
     "output_type": "execute_result"
    }
   ],
   "source": [
    "sensus_df['jarak'] = data_jarak\n",
    "sensus_df.sort_values(['jarak'])"
   ]
  },
  {
   "cell_type": "markdown",
   "metadata": {},
   "source": [
    "- Membentuk kolom baru pada 'sensus_df' dengan memanfaatkan data jarak 'sensus_df['jarak'] = data_jarak' artinya author membentuk kolom baru pada sensus df dengan nama jarak, lalu datanya kita ambil dari variabel 'data_jarak' \n",
    "- Melihat bahwa datanya sudah terurut berdasarkan kolom jarak. Kali ini nilai 'k' nya adalah 3, maka kita akan hanya memperhatikan 3 data point dengan jarak terdekat atau jarak terkecil dengan data point misterius yang kita miliki. bisa kita lihat bahwa 3 baris pertama merupakan 3 neighbor terdekat yang akan diperhatikan untuk melakukan proses prediksi."
   ]
  },
  {
   "cell_type": "markdown",
   "metadata": {
    "slideshow": {
     "slide_type": "subslide"
    }
   },
   "source": [
    "### Evaluasi KNN Classification Model"
   ]
  },
  {
   "cell_type": "markdown",
   "metadata": {},
   "source": [
    "#### Testing Set"
   ]
  },
  {
   "cell_type": "code",
   "execution_count": 62,
   "metadata": {},
   "outputs": [
    {
     "name": "stdout",
     "output_type": "stream",
     "text": [
      "X_test:\n",
      "[[168  65]\n",
      " [180  96]\n",
      " [160  52]\n",
      " [169  67]]\n",
      "\n",
      "y_test:\n",
      "[0 0 1 1]\n"
     ]
    }
   ],
   "source": [
    "X_test = np.array([[168, 65], [180, 96], [160, 52], [169, 67]])\n",
    "y_test = lb.transform(np.array(['pria', 'pria', 'wanita', 'wanita'])).flatten()\n",
    "\n",
    "print(f'X_test:\\n{X_test}\\n')\n",
    "print(f'y_test:\\n{y_test}')"
   ]
  },
  {
   "cell_type": "markdown",
   "metadata": {},
   "source": [
    "- testing set tersebut terdiri dari 4 data point. numpy array yang terdiri dari 4 baris dan 2 kolom sebagai 'X_test'.\n",
    "- Menyiapkan target yang terdiri dari 4 data yaitu 'pria', 'pria', 'wanita', 'wanita' yang harus ditransformasikan menjadi nilai numerik biner dengan memanfaatkan label binarizer dengan memanggil 'lb.transform' yang akan menghasilkan array 2 dimensi, padahal yang kita harapkan untuk 'y_test'adalah array 1 dimensi. memanggil method flatten.\n",
    "- Jika kita lihat pada hasil outputnya sudah sesuai dengan harapan kita yang dimana X_test nya terdiri dari sekumpulan nilai numerik yang di bundle atau dikemas sebagai array 2 dimensi. Demikian juga nilai y_test nya yang terdiri dari sekumpulan nilai numerik biner untuk kasus kita kali ini yang di bundle dalam suatu numpy array satu dimensi."
   ]
  },
  {
   "cell_type": "markdown",
   "metadata": {},
   "source": [
    "#### Prediksi terhadap testing set"
   ]
  },
  {
   "cell_type": "code",
   "execution_count": 63,
   "metadata": {},
   "outputs": [
    {
     "data": {
      "text/plain": [
       "array([1, 0, 1, 1])"
      ]
     },
     "execution_count": 63,
     "metadata": {},
     "output_type": "execute_result"
    }
   ],
   "source": [
    "y_pred = model.predict(X_test)\n",
    "y_pred"
   ]
  },
  {
   "cell_type": "markdown",
   "metadata": {
    "slideshow": {
     "slide_type": "subslide"
    }
   },
   "source": [
    "#### Accuracy\n",
    "\n",
    "Accuracy is the proportion of test instances that were classified correctly.\n",
    "\n",
    "$accuracy = \\frac{tp\\ +\\ tn}{tp\\ +\\ tn\\ +\\ fp\\ +\\ fn}$\n",
    "\n",
    "\n",
    "\n",
    "rumus accuracy :\n",
    "\n",
    "- tp = true positive\n",
    "- tn = true negative\n",
    "- fp = false postive\n",
    "- fn = false negative\n",
    "\n",
    "True postif dan true negatif merepresentasikan hasil prediksi atau klasifikasi yang benar. True postive berarti sesuatu yang bernilai positif telah dengan tepat diprediksi sebagai positif oleh model, sedangkan true negative berarti sesuatu yang bernilai negatif telah dengan tepat diprediksi sebagai sesuatu yang negatif oleh model atau dengan kata lain.\n",
    "\n",
    "Jika mengacu pada kasus tersebut, true positif berarti model sudah dengan tepat memprediksi data pria sebagai pria dan data wanita sebagai wanita, sedangkan true negatif berarti model sudah dengan tepat memprediksi sebagai data wanita sebagai bukan pria dan data pria sebagai bukan wanita.\n",
    "\n",
    "Dua istilah berikutnya adalah false positive dan false negative, keduanya merepresentasikan hasil prediksi atau klasifikasi yang salah. False positive berarti sesuatu yang bernilai negatif telah keliru diprediksi sebagai positif oleh model. Sedangkan false negative, berarti sesuatu yang bernilai postif telah keliru diprediksi sebagai negatif oleh model atau jika kita kita mengacu pada kasus tersebut, false positif berarti model sudah dengan keliru memprediksi data wanita sebagai pria dan data pria sebagai wanita, sedangkan false negative berarti model sudah dengan keliru memprediksi data pria sebagai bukan pria dan data wanita sebagai bukan wanita.\n",
    "\n",
    "\n",
    "Referensi: [https://en.wikipedia.org/wiki/Precision_and_recall](https://en.wikipedia.org/wiki/Precision_and_recall)"
   ]
  },
  {
   "cell_type": "code",
   "execution_count": 64,
   "metadata": {},
   "outputs": [
    {
     "name": "stdout",
     "output_type": "stream",
     "text": [
      "Accuracy: 0.75\n"
     ]
    }
   ],
   "source": [
    "from sklearn.metrics import accuracy_score\n",
    "\n",
    "acc = accuracy_score(y_test, y_pred)\n",
    "\n",
    "print(f'Accuracy: {acc}')"
   ]
  },
  {
   "cell_type": "markdown",
   "metadata": {},
   "source": [
    "- Cara pemanfaatannya cukup sederhana, kita tinggal memanggil saja 'accuracy_score' dengan menyertakan 2 buah parameter. Parameter pertama adalah 'y_test' dan parameter kedua adalah 'y_pred'. 'y_test' merupakan target dari testing set, sedangkan 'y_pred' merupakan hasil prediksi untuk target dari testing setnya, lalu nilai akurasi ini kita tampung ke dalam variabel acc. \n",
    "- Print(f'Accuracy:{acc}').\n"
   ]
  },
  {
   "cell_type": "markdown",
   "metadata": {
    "slideshow": {
     "slide_type": "subslide"
    }
   },
   "source": [
    "#### Precission \n",
    "\n",
    "Precision is the proportion of test instances that were predicted to be positive that are truly positive. \n",
    "\n",
    "$precission = \\frac{tp}{tp\\ +\\ fp}$\n",
    "\n",
    " rumus atau formula precission :\n",
    "\n",
    "- tp : merepresentasikan nilai true positive.\n",
    "- fp : merepresentasikan nilai false positive.\n",
    "\n",
    "\n",
    "Referensi: [https://en.wikipedia.org/wiki/Precision_and_recall](https://en.wikipedia.org/wiki/Precision_and_recall)"
   ]
  },
  {
   "cell_type": "code",
   "execution_count": 65,
   "metadata": {},
   "outputs": [
    {
     "name": "stdout",
     "output_type": "stream",
     "text": [
      "Precission: 0.6666666666666666\n"
     ]
    }
   ],
   "source": [
    "from sklearn.metrics import precision_score\n",
    "\n",
    "prec = precision_score(y_test, y_pred)\n",
    "\n",
    "print(f'Precission: {prec}')"
   ]
  },
  {
   "cell_type": "markdown",
   "metadata": {},
   "source": [
    "- Import precision score dengan cara 'from sklearn.metrics import precision_score'.\n",
    "- Menggunakan evaluation matrix yang lainnya, cara memanggil 'precision_score(y_test, y_pred)', Serta nilai 'y_test' dan juga 'y_pred' sebagai parameternya.\n",
    "- hasil ditampung ke dalam variabel 'prec'.\n",
    "- Tampilkan print(f'Precission: {prec}').\n"
   ]
  },
  {
   "cell_type": "markdown",
   "metadata": {
    "slideshow": {
     "slide_type": "subslide"
    }
   },
   "source": [
    "#### Recall \n",
    "\n",
    "Recall is the proportion of truly positive test instances that were predicted to be positive.\n",
    "\n",
    "$recall = \\frac{tp}{tp\\ + \\ fn}$\n",
    "\n",
    "formula atau rumus recall :\n",
    "\n",
    "- tp : merepresentasikan nilai true positive.\n",
    "- fn : merepresentasikan nilai false negativ.\n",
    "\n",
    "Referensi: [https://en.wikipedia.org/wiki/Precision_and_recall](https://en.wikipedia.org/wiki/Precision_and_recall)"
   ]
  },
  {
   "cell_type": "code",
   "execution_count": 66,
   "metadata": {},
   "outputs": [
    {
     "name": "stdout",
     "output_type": "stream",
     "text": [
      "Recall: 1.0\n"
     ]
    }
   ],
   "source": [
    "from sklearn.metrics import recall_score\n",
    "\n",
    "rec = recall_score(y_test, y_pred)\n",
    "\n",
    "print(f'Recall: {rec}')"
   ]
  },
  {
   "cell_type": "markdown",
   "metadata": {},
   "source": [
    "- 'rec = recall_score(y_test, y_pred)'. Seperti biasa nilai 'y_test' dan 'y_pred' merupakan parameternya, yang ditampung ke dalam variabel 'rec'.\n",
    "- Tampilkan print(f'Recall: {rec}').\n"
   ]
  },
  {
   "cell_type": "markdown",
   "metadata": {
    "slideshow": {
     "slide_type": "subslide"
    }
   },
   "source": [
    "#### F1 Score \n",
    "\n",
    "The F1 score is the harmonic mean of precision and recall.\n",
    "\n",
    "$F1 = 2 \\times \\frac{precission\\ \\times \\ recall}{precission\\ + \\ recall}$\n",
    "\n",
    "Referensi: [https://en.wikipedia.org/wiki/Precision_and_recall](https://en.wikipedia.org/wiki/Precision_and_recall)"
   ]
  },
  {
   "cell_type": "code",
   "execution_count": 67,
   "metadata": {},
   "outputs": [
    {
     "name": "stdout",
     "output_type": "stream",
     "text": [
      "F1-score: 0.8\n"
     ]
    }
   ],
   "source": [
    "from sklearn.metrics import f1_score\n",
    "\n",
    "f1 = f1_score(y_test, y_pred)\n",
    "\n",
    "print(f'F1-score: {f1}')"
   ]
  },
  {
   "cell_type": "markdown",
   "metadata": {},
   "source": [
    "- Import terlebih dahulu 'from sklearn.metrics import f1_score'.\n",
    "- 'f1 = f1_score(y_test, y_pred)' dimana 'y_test' dan 'y_pred' sebagai parameternya yang akan ditampung ke dalam variabel 'f1'.\n",
    "- print.\n",
    "\n",
    "Berdasarkan output hasil f1-score nya adalah 0.8."
   ]
  },
  {
   "cell_type": "markdown",
   "metadata": {
    "slideshow": {
     "slide_type": "subslide"
    }
   },
   "source": [
    "#### Classification Report"
   ]
  },
  {
   "cell_type": "code",
   "execution_count": 68,
   "metadata": {},
   "outputs": [
    {
     "name": "stdout",
     "output_type": "stream",
     "text": [
      "Classification Report:\n",
      "              precision    recall  f1-score   support\n",
      "\n",
      "           0       1.00      0.50      0.67         2\n",
      "           1       0.67      1.00      0.80         2\n",
      "\n",
      "    accuracy                           0.75         4\n",
      "   macro avg       0.83      0.75      0.73         4\n",
      "weighted avg       0.83      0.75      0.73         4\n",
      "\n"
     ]
    }
   ],
   "source": [
    "from sklearn.metrics import classification_report\n",
    "\n",
    "cls_report = classification_report(y_test, y_pred)\n",
    "\n",
    "print(f'Classification Report:\\n{cls_report}')"
   ]
  },
  {
   "cell_type": "markdown",
   "metadata": {},
   "source": [
    "Bisa dilihat nilai precision, recall, dan f1-score dan juga bisa dilihat pengklasifikasiannya. Keempat matriks evaluasi yang dipelajari ini ditunjukan untuk binary classifier, dimana berapa pun banyaknya jumlah class atau kelompok nilai yang terdapat pada targets tetap akan diasumsikan sebagai dua kelompok nilai saja yaitu positif atau negatif.\n",
    "\n",
    "Disini nilai biner satu akan dipandang sebagai nilai positif secara deafult, sedangkan nilai biner 0 akan dipandang sebagai nilai negatif.\n",
    "\n",
    "Classification report yang ditampilkan mencangkup nilai presicion recall dan f1-score untuk keseluruhan kelas baik yang bernilai 0 maupun 1. Oleh karena itu, sebaiknya untuk menggunakan classification report daripada melakukan pengukuran precision, recall, serta f1-score secara terpisah. Selain itu, classification report juga menampilkan nilai rata-rata untuk precision, recall, dan f1-score."
   ]
  },
  {
   "cell_type": "markdown",
   "metadata": {
    "slideshow": {
     "slide_type": "subslide"
    }
   },
   "source": [
    "#### Matthews Correlation Coefficient (MCC)\n",
    "\n",
    "- MCC merupakan alternatif untuk f1-score yang digunakan untuk keperluan pengukuran performa dari binary classifier. \n",
    "- Nilai tertingginya adalah satu. \n",
    "- Prediksinya dilakukan secara random atau acak dan asal maka nilai scorenya adalah 0, atau jika model classifier nya benar-benar kacau maka akan menghasilkan nilai -1. Oleh karena itu, nilai rentan MCC ini dimulai dari -1 untuk kondisi terburuk sampai dengan 1 untuk kondisi terbaiknya.\n",
    "\n",
    "$MCC = \\frac{tp \\ \\times \\ tn + fp \\ \\times \\ fn}{\\sqrt{(tp + fp) \\ \\times \\ (tp + fn) \\ \\times \\ (tn + fp) \\ \\times \\ (tn + fn)}}$\n",
    "\n",
    "\n",
    "$MCC = \\frac{tp\\ \\times\\ tn\\ + fp\\ \\times\\ fn}{ \\sqrt{ (tp\\ +\\ fp)\\ \\times\\ (tp\\ +\\ fn)\\ \\times\\ (tn\\ +\\ fp)\\ \\times\\ (tn\\ +\\ fn)  }  }$\n",
    "\n",
    "Referensi: [https://en.wikipedia.org/wiki/Matthews_correlation_coefficient](https://en.wikipedia.org/wiki/Matthews_correlation_coefficient)"
   ]
  },
  {
   "cell_type": "code",
   "execution_count": 69,
   "metadata": {},
   "outputs": [
    {
     "name": "stdout",
     "output_type": "stream",
     "text": [
      "MCC: 0.5773502691896258\n"
     ]
    }
   ],
   "source": [
    "from sklearn.metrics import matthews_corrcoef\n",
    "\n",
    "mcc = matthews_corrcoef(y_test, y_pred)\n",
    "\n",
    "print(f'MCC: {mcc}')"
   ]
  },
  {
   "cell_type": "markdown",
   "metadata": {},
   "source": [
    "Tahapan menggunakan MCC untuk melakukan evaluasi model machine learning pada SkLearn.\n",
    "\n",
    "- Pertama, kita memanggil'from sklearn.metrics import matthews_corrcoef'.\n",
    "- Lalu untuk menggunakan matthews correlation coefficient ini kita tinggal panggil saja 'matthews_corrcoef' lalu sertakan parameternya yang dalam hal ini, parameter pertama adalah'y_test' dan parameter kedua adalah 'y_pred' yang kemudian kita tampung ke dalam variabel mcc.\n",
    "- Kemudian tampilkan ke layar print(f'MCC: {mcc}').\n",
    "\n",
    "Berdasarkan output nilai MCC nya adalah 0.5773502691896258.\n"
   ]
  }
 ],
 "metadata": {
  "celltoolbar": "Slideshow",
  "kernelspec": {
   "display_name": "Python 3",
   "language": "python",
   "name": "python3"
  },
  "language_info": {
   "codemirror_mode": {
    "name": "ipython",
    "version": 3
   },
   "file_extension": ".py",
   "mimetype": "text/x-python",
   "name": "python",
   "nbconvert_exporter": "python",
   "pygments_lexer": "ipython3",
   "version": "3.8.8"
  }
 },
 "nbformat": 4,
 "nbformat_minor": 4
}
