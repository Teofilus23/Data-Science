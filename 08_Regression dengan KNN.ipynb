{
 "cells": [
  {
   "cell_type": "markdown",
   "metadata": {
    "slideshow": {
     "slide_type": "slide"
    }
   },
   "source": [
    "# Regression dengan KNN (K Nearest Neighbours)\n",
    "\n",
    "- KNN adalah model machine learning yang dapat digunakan untuk melakukan prediksi berdasarkan kedekatan karakteristik dengan sejumlah tetangga terdekat.\n",
    "- Prediksi yang dilakukan dapat diterapkan baik pada classification maupun regression tasks.\n",
    "- Fokus untuk penerapan KNN untuk regression task.\n",
    "\n",
    "Referensi: [https://en.wikipedia.org/wiki/K-nearest_neighbors_algorithm](https://en.wikipedia.org/wiki/K-nearest_neighbors_algorithm)"
   ]
  },
  {
   "cell_type": "markdown",
   "metadata": {
    "slideshow": {
     "slide_type": "slide"
    }
   },
   "source": [
    "## Sample Dataset"
   ]
  },
  {
   "cell_type": "code",
   "execution_count": 2,
   "metadata": {},
   "outputs": [
    {
     "data": {
      "text/html": [
       "<div>\n",
       "<style scoped>\n",
       "    .dataframe tbody tr th:only-of-type {\n",
       "        vertical-align: middle;\n",
       "    }\n",
       "\n",
       "    .dataframe tbody tr th {\n",
       "        vertical-align: top;\n",
       "    }\n",
       "\n",
       "    .dataframe thead th {\n",
       "        text-align: right;\n",
       "    }\n",
       "</style>\n",
       "<table border=\"1\" class=\"dataframe\">\n",
       "  <thead>\n",
       "    <tr style=\"text-align: right;\">\n",
       "      <th></th>\n",
       "      <th>tinggi</th>\n",
       "      <th>jk</th>\n",
       "      <th>berat</th>\n",
       "    </tr>\n",
       "  </thead>\n",
       "  <tbody>\n",
       "    <tr>\n",
       "      <th>0</th>\n",
       "      <td>191</td>\n",
       "      <td>pria</td>\n",
       "      <td>80</td>\n",
       "    </tr>\n",
       "    <tr>\n",
       "      <th>1</th>\n",
       "      <td>155</td>\n",
       "      <td>wanita</td>\n",
       "      <td>49</td>\n",
       "    </tr>\n",
       "    <tr>\n",
       "      <th>2</th>\n",
       "      <td>163</td>\n",
       "      <td>wanita</td>\n",
       "      <td>59</td>\n",
       "    </tr>\n",
       "    <tr>\n",
       "      <th>3</th>\n",
       "      <td>180</td>\n",
       "      <td>wanita</td>\n",
       "      <td>67</td>\n",
       "    </tr>\n",
       "    <tr>\n",
       "      <th>4</th>\n",
       "      <td>158</td>\n",
       "      <td>wanita</td>\n",
       "      <td>54</td>\n",
       "    </tr>\n",
       "    <tr>\n",
       "      <th>5</th>\n",
       "      <td>170</td>\n",
       "      <td>wanita</td>\n",
       "      <td>67</td>\n",
       "    </tr>\n",
       "    <tr>\n",
       "      <th>6</th>\n",
       "      <td>158</td>\n",
       "      <td>pria</td>\n",
       "      <td>64</td>\n",
       "    </tr>\n",
       "    <tr>\n",
       "      <th>7</th>\n",
       "      <td>170</td>\n",
       "      <td>pria</td>\n",
       "      <td>86</td>\n",
       "    </tr>\n",
       "    <tr>\n",
       "      <th>8</th>\n",
       "      <td>183</td>\n",
       "      <td>pria</td>\n",
       "      <td>84</td>\n",
       "    </tr>\n",
       "  </tbody>\n",
       "</table>\n",
       "</div>"
      ],
      "text/plain": [
       "   tinggi      jk  berat\n",
       "0     191    pria     80\n",
       "1     155  wanita     49\n",
       "2     163  wanita     59\n",
       "3     180  wanita     67\n",
       "4     158  wanita     54\n",
       "5     170  wanita     67\n",
       "6     158    pria     64\n",
       "7     170    pria     86\n",
       "8     183    pria     84"
      ]
     },
     "execution_count": 2,
     "metadata": {},
     "output_type": "execute_result"
    }
   ],
   "source": [
    "import pandas as pd\n",
    "\n",
    "sensus = {'tinggi': [191, 155, 163, 180, 158, 170,158, 170, 183], \n",
    "          'jk': ['pria', 'wanita', 'wanita', 'wanita', 'wanita', 'wanita','pria', 'pria', 'pria'],\n",
    "          'berat': [80, 49, 59, 67, 54, 67, 64, 86, 84]}\n",
    "\n",
    "sensus_df = pd.DataFrame(sensus)\n",
    "sensus_df"
   ]
  },
  {
   "cell_type": "markdown",
   "metadata": {},
   "source": [
    "- import modul pandas 'import pandas as pd' untuk membuat table.\n",
    "-  Siapkan dictionary yang terdiri dari 3 buah keys yaitu, 'tinggi', 'jk', dan 'berat'.\n",
    "<!--  Key 'tinggi' akan berasosiasi dengan sekumpulan nilai tinggi badan. -->\n",
    "<!--  Key 'jk' akan berasosiasi dengan sekumpulan nilai jenis kelamin. Dalam kali ini nilai jenis kelamin terdiri dari 2 nilai string, yaitu 'pria' dan 'wanita'. -->\n",
    "<!-- Key 'berat' akan berasosiasi dengan sekumpulan nilai berat badan. -->\n",
    "- Nilai dictionary tersebut ditampung ke variabel 'sensus'.\n",
    "- Variabel 'sensus' digunakan sebagai dasar pembentukan pandas dataframe 'pd.DataFrame(sensus)'.\n",
    "- Sebuah objek 'pd.DataFrame(sensus)' ini akan ditampung kedalam variabel 'sensus_df'.\n",
    "\n",
    "Soal diatas kita bentuk sebagai model machine learning sederhana yang dapat digunakan untuk memprediksi berat badan seseorang berdasarkan tinggi badan dan jenis kelaminnya. Dengan kata lain, tinggi badan dan jenis kelamin akan berperan sebaagai features, sedangkan berat badan akan berperan sebagai target."
   ]
  },
  {
   "cell_type": "markdown",
   "metadata": {
    "slideshow": {
     "slide_type": "slide"
    }
   },
   "source": [
    "## Regression dengan KNN\n",
    "\n",
    "\n",
    "masuk untuk mencoba menerapkan KNN atau Key Nearest Neighbours untuk melakukan estimasi nilai berat badan.\n",
    "\n",
    "penggunaan KNN Berfokus untuk melakukan regression untuk sebuah estimasi nilai, dimana nilai yang akan prediksi adalah nilai berat badan.\n"
   ]
  },
  {
   "cell_type": "markdown",
   "metadata": {
    "slideshow": {
     "slide_type": "subslide"
    }
   },
   "source": [
    "### Features & Target\n",
    "Pengelompokan dengan menggunakan Features dan Target dari sebuah dataset"
   ]
  },
  {
   "cell_type": "code",
   "execution_count": 3,
   "metadata": {},
   "outputs": [
    {
     "name": "stdout",
     "output_type": "stream",
     "text": [
      "X_train:\n",
      "[[191 'pria']\n",
      " [155 'wanita']\n",
      " [163 'wanita']\n",
      " [180 'wanita']\n",
      " [158 'wanita']\n",
      " [170 'wanita']\n",
      " [158 'pria']\n",
      " [170 'pria']\n",
      " [183 'pria']]\n",
      "\n",
      "y_train: [80 49 59 67 54 67 64 86 84]\n"
     ]
    }
   ],
   "source": [
    "import numpy as np\n",
    "\n",
    "X_train = np.array(sensus_df[['tinggi', 'jk']])\n",
    "y_train = np.array(sensus_df['berat'])\n",
    "\n",
    "print(f'X_train:\\n{X_train}\\n')\n",
    "print(f'y_train: {y_train}')"
   ]
  },
  {
   "cell_type": "markdown",
   "metadata": {},
   "source": [
    "- Import modul numpy 'import numpy as np'.\n",
    "- Nilai features ini adalah tinggi dan jenis kelamin akan  dibundle menjadi suatu numpy array dan berikutnya ditampung kedalam variabel 'X_train'.\n",
    "- Nilai target ini adalah berat badan akan dikoversikan juga menjadi suatu numpy array yang kemudian ditampung kedalam variabel 'y_train'.\n",
    "- Kemudian akan ditampilkan nilai 'X_train' dan 'y_train'.\n",
    "\n",
    "Sebuah data tinggi badan dan jenis kelamin akan dikonversikan kedalam numpy array dan ditampung ke dalam variabel 'X_train' sebagai sekumpulan features untuk training set.\n",
    "\n",
    "Lalu untuk data berat badan juga akan dikonversikan menjadi numpy array, Ditampung kedalam variabel 'y_train' sebagai sekumpulan nilai target untuk training set.\n",
    "\n",
    "Nilai continous akan diprediksi makan nilai terdekat tersebut ditentukan berdasarkan kalkulasi jarak dengan memanfaatkan \"euclidean distance\".\n",
    "\n",
    "Perlu diperhatikan agar nilai featuresnya bertipe data numerik agar dapat dihitung jarak antar data pointnya.\n"
   ]
  },
  {
   "cell_type": "markdown",
   "metadata": {
    "slideshow": {
     "slide_type": "subslide"
    }
   },
   "source": [
    "### Preprocess Dataset: Konversi Label menjadi Numerik Biner\n",
    "Tahapan data preprocessing untuk mengkonversi nilai pria dan wanita menjadi numerik biner 0 dan 1."
   ]
  },
  {
   "cell_type": "code",
   "execution_count": 4,
   "metadata": {},
   "outputs": [
    {
     "name": "stdout",
     "output_type": "stream",
     "text": [
      "X_train:\n",
      "[[191 'pria']\n",
      " [155 'wanita']\n",
      " [163 'wanita']\n",
      " [180 'wanita']\n",
      " [158 'wanita']\n",
      " [170 'wanita']\n",
      " [158 'pria']\n",
      " [170 'pria']\n",
      " [183 'pria']]\n",
      "\n",
      "X_train_transposed:\n",
      "[[191 155 163 180 158 170 158 170 183]\n",
      " ['pria' 'wanita' 'wanita' 'wanita' 'wanita' 'wanita' 'pria' 'pria'\n",
      "  'pria']]\n"
     ]
    }
   ],
   "source": [
    "X_train_transposed = np.transpose(X_train)\n",
    "\n",
    "print(f'X_train:\\n{X_train}\\n')\n",
    "print(f'X_train_transposed:\\n{X_train_transposed}')"
   ]
  },
  {
   "cell_type": "markdown",
   "metadata": {},
   "source": [
    "- lakukan proses transpose terhadap 'X_train'.\n",
    "- Proses transpose ini pada dasarnya akan mengubah posisi baris kolom dan posisi kolom menjadi baris.\n",
    "- Jika diperhatikan pada hasil output posisi barisnya mengindikasikan instance, sedangkan posisi kolomnya mengindikasikan features.\n",
    "- Kolom pertama (sebelah kiri pada output 'X_train') tersebut yang merupakan features pertama yaitu tinggi badan.\n",
    "- Kolom kedua (sebelah kanan pada output 'X_train') tersebut yang merupakan features kedau yaitu jenis kelamin.\n",
    "- Mengubah posisi features agar tidak berada dalam kolom, tetapi yang mau posisi featuresnya berada ingin dimasukan ke dalam baris. Oleh karena itu, lakukan proses transpose.\n",
    "- Panggil 'np.transpose(X_train)' yang ditampung kedalam variabel 'X_train_transposed'.\n",
    "\n",
    "Jika diperhatikan pada hasil output pada hasil 'X_train_transposed', terdiri dari 2 baris saja yaitu baris pertama dan baris kedua, dan jika dilihat nilai pada baris pertama tersebut merepresentasikan nilai 'tinggi badan', sedangkan nilai untuk baris kedua merepresentasikan sekumpulan nilai 'jenis kelamin'."
   ]
  },
  {
   "cell_type": "code",
   "execution_count": 5,
   "metadata": {},
   "outputs": [
    {
     "name": "stdout",
     "output_type": "stream",
     "text": [
      "jk: ['pria' 'wanita' 'wanita' 'wanita' 'wanita' 'wanita' 'pria' 'pria' 'pria']\n",
      "\n",
      "jk_binarised:\n",
      "[[0]\n",
      " [1]\n",
      " [1]\n",
      " [1]\n",
      " [1]\n",
      " [1]\n",
      " [0]\n",
      " [0]\n",
      " [0]]\n"
     ]
    }
   ],
   "source": [
    "from sklearn.preprocessing import LabelBinarizer\n",
    "\n",
    "lb = LabelBinarizer()\n",
    "jk_binarised = lb.fit_transform(X_train_transposed[1])\n",
    "\n",
    "print(f'jk: {X_train_transposed[1]}\\n')\n",
    "print(f'jk_binarised:\\n{jk_binarised}')"
   ]
  },
  {
   "cell_type": "markdown",
   "metadata": {},
   "source": [
    "Penerapan 'LabelBinariser' akan digunakan lagi karena menkonversikan nilai pria dan wanita tersebut menjadi nilai biner 0 dan 1.\n",
    "\n",
    "- mengimport label binarizernya dengan memanggil fungsi 'from sklearn.preprocessing import LabelBinarizer'.\n",
    "- Lalu berikutnya, membentuk objek dari class label binarizer ini yang akan ditampung kedalam variabel 'lb'.\n",
    "- Pada kali ini, proses transformasi label binarizernya akan diterapkan pada 'jenis kelamin'. Oleh karena itu, panggil 'lb.fit_transform' yang akan diterapkan pada 'X_train_transposed[1]' berarti index kesatu. Karena index ke nolnya adalah 'tinggi badan', sedangkan index kesatunya adalah 'jenis kelamin', lalu hasil transformnya ditampung kedalam variabel 'jk_binarised'.\n",
    "- Untuk selanjutnya, akan mencetak baik nilai 'X_train_transposed' index kesatu dan juga 'jk_binarised'.\n",
    "\n",
    "Bisa kita lihat pada hasil output data pria berubah menjadi 0 dan data wanita akan berubah menjadi 1, akan tetapi ada sebuah permasalahan yang lain. Jika dilihat pada kondisi awal, datanya terdiri dari satu dimensi saja, sedangkan setelah proses transformasi datanya berubah menjadi 2 dimensi. Oleh karena itu, perlu yang namanya proses faltten method atau function flatten dapat digunakan untuk mengkonversikan multi- dimension array menjadi single dimenssion array."
   ]
  },
  {
   "cell_type": "code",
   "execution_count": 6,
   "metadata": {},
   "outputs": [
    {
     "data": {
      "text/plain": [
       "array([0, 1, 1, 1, 1, 1, 0, 0, 0])"
      ]
     },
     "execution_count": 6,
     "metadata": {},
     "output_type": "execute_result"
    }
   ],
   "source": [
    "jk_binarised = jk_binarised.flatten()\n",
    "jk_binarised"
   ]
  },
  {
   "cell_type": "markdown",
   "metadata": {},
   "source": [
    "bentuk arraynya sudah dalam satu dimensi. Langkah selanjutnya adalah nilai yang sudah dikonversikan, akan ditampung lagi kedalam 'X_train_tanspose' karena nilai pada output masih berada dalam variabel 'jk_binarised'"
   ]
  },
  {
   "cell_type": "code",
   "execution_count": 7,
   "metadata": {},
   "outputs": [
    {
     "name": "stdout",
     "output_type": "stream",
     "text": [
      "X_train_transposed:\n",
      "[[191 155 163 180 158 170 158 170 183]\n",
      " [0 1 1 1 1 1 0 0 0]]\n",
      "\n",
      "X_train:\n",
      "[[191 0]\n",
      " [155 1]\n",
      " [163 1]\n",
      " [180 1]\n",
      " [158 1]\n",
      " [170 1]\n",
      " [158 0]\n",
      " [170 0]\n",
      " [183 0]]\n"
     ]
    }
   ],
   "source": [
    "X_train_transposed[1] = jk_binarised\n",
    "X_train = X_train_transposed.transpose()\n",
    "\n",
    "print(f'X_train_transposed:\\n{X_train_transposed}\\n')\n",
    "print(f'X_train:\\n{X_train}')"
   ]
  },
  {
   "cell_type": "markdown",
   "metadata": {},
   "source": [
    "- 'X_train_transposed' atau index kesatu yang berkolerasi dengan 'jenis kelamin' yang nilainya akan diganti dengan nilai 'jk_binarised'.\n",
    "- Lalu berikutnya, 'X_train_transposed' tersebut akan ditranspose balik, agar yang tadinya baris kembali menjadi kolom dan yang tadinya kolom akan menjadi baris lalu akan ditampung kedalam variabel 'X_train'.\n",
    "- Terakhir, cetak kembali nilai 'X_train_transposed' dan nilai 'X_train'.\n",
    "\n",
    "Jika kita perhatikan kembali, saat ini sekumpulan nilai features dan targetnya sudah siap digunakan untuk training model."
   ]
  },
  {
   "cell_type": "markdown",
   "metadata": {
    "slideshow": {
     "slide_type": "subslide"
    }
   },
   "source": [
    "### Training KNN Regression Model\n",
    "\n",
    "\n",
    "\n",
    "Setelah training setnya  dipersiapkan, selanjutnya lakukan proses training model dengan Machine Learning KNN."
   ]
  },
  {
   "cell_type": "code",
   "execution_count": 8,
   "metadata": {},
   "outputs": [
    {
     "data": {
      "text/plain": [
       "KNeighborsRegressor(n_neighbors=3)"
      ]
     },
     "execution_count": 8,
     "metadata": {},
     "output_type": "execute_result"
    }
   ],
   "source": [
    "from sklearn.neighbors import KNeighborsRegressor\n",
    "\n",
    "K = 3\n",
    "model = KNeighborsRegressor(n_neighbors=K)\n",
    "model.fit(X_train, y_train)"
   ]
  },
  {
   "cell_type": "markdown",
   "metadata": {},
   "source": [
    "- Import estimeter classnya dengan memanggil fungsi 'from sklearn.neighbors import KNeighborsRegressor'.\n",
    "- Menentukan nilai 'K' yang akan berkolerasi dengan jumlah atau banyaknya neighbors atau banyaknya tetangga yang akan digunakan untuk melakukan proses prediksi yang dalam kasus ini bernilai 3.\n",
    "- Lalu selanjutnya akan membentuk objek modelnya dengan cara memanggil 'KNeighborsRegressor' dan menyertakan nilai parameter 'n_neighbors' yang diinput dengan nilai 'K' atau dengan kata lain 'n_neighbors' set sebagai 3.\n",
    "- Setelah objek modelnya terbentuk, lalu berikutnya melakukan proses training model dengan memanggil 'model.fit' serta '(X_train, y_train)' sebagai parameternya.\n"
   ]
  },
  {
   "cell_type": "markdown",
   "metadata": {
    "slideshow": {
     "slide_type": "subslide"
    }
   },
   "source": [
    "### Prediksi Berat Badan\n",
    "\n",
    "\n",
    "Setelah KNN Regressiornya sudah ditraining, tahapan selanjutnya akan menggunakan train model tersebut untuk melakukan prediksi berat badan berdasarkan data tinggi badan dan jenis kelamin.\n"
   ]
  },
  {
   "cell_type": "code",
   "execution_count": 9,
   "metadata": {},
   "outputs": [
    {
     "data": {
      "text/plain": [
       "array([[155,   1]])"
      ]
     },
     "execution_count": 9,
     "metadata": {},
     "output_type": "execute_result"
    }
   ],
   "source": [
    "X_new = np.array([[155, 1]])\n",
    "X_new"
   ]
  },
  {
   "cell_type": "markdown",
   "metadata": {},
   "source": [
    "- persiapkan terlebih dahulu data baru yang akan digunakan untuk prediksi. siapkan data baru yang dimana nilai tinggi badannya adalah 155 cm dan jenis kelaminnya wanita, disini jenis kelamin wanitanya sudah diencode menajadi nilai 1.\n",
    "- Lalu berikutnya, pasangan nilai array tersebut akan dibundle menjadi suatu array 2 dimensi yang ditampung kedalam variable 'X_new'.\n",
    "\n",
    "Setelah data tinggi badan dan jenis kelaminnya siap, selanjutnya akan lakukan prediksi berat badan dengan memanfaatkan model KNN Regressor yang sudah ditraining sebelumnya."
   ]
  },
  {
   "cell_type": "code",
   "execution_count": 10,
   "metadata": {},
   "outputs": [
    {
     "data": {
      "text/plain": [
       "array([55.66666667])"
      ]
     },
     "execution_count": 10,
     "metadata": {},
     "output_type": "execute_result"
    }
   ],
   "source": [
    "y_pred = model.predict(X_new)\n",
    "y_pred"
   ]
  },
  {
   "cell_type": "markdown",
   "metadata": {},
   "source": [
    "- Memanggil fungsi 'model.predict' dengan menyertakan parameternya yaitu 'X_new'.\n",
    "- Lalu hasil prediksinya ditampung kedalam variabel 'y_pred'.\n",
    "\n",
    "Berdasarkan hasil output bisa dibilang bahwa untuk data dengan tinggi badan 155 cm dan jenis kelamin wanita, ini diprediksi model memiliki berat badan 55,6 kg."
   ]
  },
  {
   "cell_type": "markdown",
   "metadata": {
    "slideshow": {
     "slide_type": "subslide"
    }
   },
   "source": [
    "### Evaluasi KNN Regression Model\n",
    "Disini mulai mempelajari beberapa matrix yang bisa digunakan untuk mengukur performa dari model machine learning untuk kasuk regression task dengan menyiapkan testing setnya."
   ]
  },
  {
   "cell_type": "code",
   "execution_count": 11,
   "metadata": {},
   "outputs": [
    {
     "name": "stdout",
     "output_type": "stream",
     "text": [
      "X_test:\n",
      "[[168   0]\n",
      " [180   0]\n",
      " [160   1]\n",
      " [169   1]]\n",
      "\n",
      "y_test: [65 96 52 67]\n"
     ]
    }
   ],
   "source": [
    "X_test = np.array([[168, 0], [180, 0], [160, 1], [169, 1]])\n",
    "y_test = np.array([65, 96, 52, 67])\n",
    "\n",
    "print(f'X_test:\\n{X_test}\\n')\n",
    "print(f'y_test: {y_test}')"
   ]
  },
  {
   "cell_type": "markdown",
   "metadata": {},
   "source": [
    "- Siapakan sekumpulan nilai features untuk testing setnya yang akan ditampung kedalam variabel 'X_test'.\n",
    "- Setelah itu, Siapkan sekumpulan nilai target lalu ditampung kedalam varibel 'y_test'.\n",
    "\n",
    "Setelah testing setnya siap, selanjutnya lakukan prediksi terhadap testing set tersebut dengan menmafaatkan model KNN Regressor yang sudah ditraining sebelumnya."
   ]
  },
  {
   "cell_type": "code",
   "execution_count": 12,
   "metadata": {},
   "outputs": [
    {
     "data": {
      "text/plain": [
       "array([70.66666667, 79.        , 59.        , 70.66666667])"
      ]
     },
     "execution_count": 12,
     "metadata": {},
     "output_type": "execute_result"
    }
   ],
   "source": [
    "y_pred = model.predict(X_test)\n",
    "y_pred"
   ]
  },
  {
   "cell_type": "markdown",
   "metadata": {},
   "source": [
    "Menerapkan prediksi terhadap sekumpulan features dari 'X_test' ini dengan memanfaatkan model KNN yang sudah ditraining sebelumnya. Oleh karena itu,pemanggilan 'model.predict' lalu menyertakan parameter 'X_test' yang hasil prediksinya ditampung kedalam variabel 'y_pred'.\n",
    "\n",
    "Berdasarkan hasil bisa dibilang bahwa data untuk tinggi 168 cm dan jenis kelamin pria, ini diprediksi memiliki berat badan 70,66, sedangkan data yang diharapkan adalah 65.\n",
    "\n",
    "Lalu berikutnya untuk data point yang paling akhir, bahwa untuk data dengan tinggi badan 169 dan jenis kelamin wanita, ini diprediksi memiliki berat badan 70.66 sekian, sedangkan nilai yang diharapkan adalah 67."
   ]
  },
  {
   "cell_type": "markdown",
   "metadata": {
    "slideshow": {
     "slide_type": "subslide"
    }
   },
   "source": [
    "#### Coefficient of Determination atau $R^2$\n",
    "\n",
    "Referensi: [https://en.wikipedia.org/wiki/Coefficient_of_determination](https://en.wikipedia.org/wiki/Coefficient_of_determination)"
   ]
  },
  {
   "cell_type": "code",
   "execution_count": 12,
   "metadata": {},
   "outputs": [
    {
     "name": "stdout",
     "output_type": "stream",
     "text": [
      "R-squared: 0.6290565226735438\n"
     ]
    }
   ],
   "source": [
    "from sklearn.metrics import r2_score\n",
    "\n",
    "r_squared = r2_score(y_test, y_pred)\n",
    "\n",
    "print(f'R-squared: {r_squared}')"
   ]
  },
  {
   "cell_type": "markdown",
   "metadata": {
    "slideshow": {
     "slide_type": "subslide"
    }
   },
   "source": [
    "#### Mean Absolute Error (MAE) atau Mean Absolute Deviation (MAD)\n",
    "\n",
    "$MAE$ is the average of the absolute values of the errors of the predictions.\n",
    "\n",
    "$MAE = \\frac{1}{n} \\sum_{i=1}^{n} |y_i - \\hat{y}_i|$\n",
    "\n",
    "\n",
    "\n",
    "Diatas merupakan formula untuk MAE yang intinya MAE ini akan menghitung selisih atau error antara $yi$ dengan $\\hat{y}_i$.\n",
    "\n",
    "- $yi$ = merepresentasikan setiap nilai target pada testing set.\n",
    "- $\\hat{y}_i$ = merepresentasikan nilai prediksi yang dihasilkan oleh model kita.\n",
    "- Disini yang dihitung adalah selisih antara $yi$ dengan $\\hat{y}_i$. Proses tersebut memungkinkan untuk menghasilkan nilai positif maupun nilai negatif.\n",
    "- Jika hasil prediksinya ternyata lebih kecil dari nilai yang seharusnya, maka nilainya akan menjadi positif.\n",
    "- Jika hasil prediksinya ternyata lebih besar dari nilai yang seharusnya, maka nilainya akan menjadi negatif.\n",
    "- Untuk menghindari nilai negatif, maka kita harus menerapkan yang namanya absolute function. Absolute function ini akan menghilangkan nilai negatif artinya semua hasilnya, baik itu negatif maupun positif akan diubah menjadi nilai positif.\n",
    "- Lalu berikutnya, selisih nilai ini akan diakumulasikan atau dijumlahkan untuk berikutnya kita akan bagi dengan 'n'. 'n' merepresentasikan jumlah data pointnya.\n",
    "\n",
    "\n",
    "\n",
    "Referensi: [https://en.wikipedia.org/wiki/Mean_absolute_error](https://en.wikipedia.org/wiki/Mean_absolute_error)"
   ]
  },
  {
   "cell_type": "code",
   "execution_count": 13,
   "metadata": {},
   "outputs": [
    {
     "name": "stdout",
     "output_type": "stream",
     "text": [
      "MAE: 8.333333333333336\n"
     ]
    }
   ],
   "source": [
    "from sklearn.metrics import mean_absolute_error\n",
    "\n",
    "MAE = mean_absolute_error(y_test, y_pred)\n",
    "\n",
    "print(f'MAE: {MAE}')"
   ]
  },
  {
   "cell_type": "markdown",
   "metadata": {},
   "source": [
    "- Import mean absolute error dengan memanggil function 'from sklearn.metrics import mean_absolute_error'.\n",
    "- Lalu berikutnya untuk menggunakan function mean absolute error tersebut, Panggil function 'mean_absolute_error' dengan menyertakan parameter 'y_test' serta 'y_pred' yang akan ditampung kedalam variabel 'MAE'.\n",
    "- Lalu tampilkan nilai'MAE' dengan function print.\n",
    "\n",
    "Berdasarkan hasil 'MAE' nya adalah 8,33. Oleh karena disini yang dihitung nilai errornya atau selisih antara nilai prediksi dengan nilai sebenarnya, oleh karenanya semakin kecil nilai 'MAE' nya akan mengindikasikan kualitas modal yang lebih baik."
   ]
  },
  {
   "cell_type": "markdown",
   "metadata": {
    "slideshow": {
     "slide_type": "subslide"
    }
   },
   "source": [
    "#### Mean Squared Error (MSE) atau Mean Squared Deviation (MSD)\n",
    "\n",
    "$MSE$ is the average of the squares of the errors of the predictions.\n",
    "\n",
    "$MSE = \\frac{1}{n} \\sum_{i=1}^{n} (y_i - \\hat{y}_i)^2$\n",
    "\n",
    "\n",
    "\n",
    "Formula $MSE$ pada intinya sama dengan $MAE$, menghitung error artinya disini juga kita menghitung nilai selisih antara $y_i$ dengan $\\hat{y}_i$.\n",
    "\n",
    "- $y_i$ merupakan nilai target dari testing set.\n",
    "- $\\hat{y}_i$ merupakan nilai estimasi yang dihasilkan oleh model kita.\n",
    "- Kedua nilai tersebut kita selisihkan yang dimana serupa dengan kasus sebelumnya, selisih kedua nilai terebut bisa postif dan juga bisa bernilai negatif.\n",
    "- Jika ternyata nilai prediksinya lebih besar dari nilai sebenarnya, maka akan menghasilkan nilai negatif.\n",
    "- Sedangkan jika nilai prediksinya lebih kecil dari nilai sebenarnya atau nilai ekspetasinya, maka akan menghasilkan nilai positif.\n",
    "- Untuk menghindari nilai negatif pada $mse$, selisih nilainya akan kita pangkatkan 2.\n",
    "- Lalu berikutnya, hasil pemangkata ini akan kita akumulasikan untuk kemudian kita bagi dengan 'n' yang diman 'n' merupakan jumlah untuk data pointnya.\n",
    "\n",
    "\n",
    "\n",
    "Referensi: [https://en.wikipedia.org/wiki/Mean_squared_error](https://en.wikipedia.org/wiki/Mean_squared_error)"
   ]
  },
  {
   "cell_type": "code",
   "execution_count": 14,
   "metadata": {},
   "outputs": [
    {
     "name": "stdout",
     "output_type": "stream",
     "text": [
      "MSE: 95.8888888888889\n"
     ]
    }
   ],
   "source": [
    "from sklearn.metrics import mean_squared_error\n",
    "\n",
    "MSE = mean_squared_error(y_test, y_pred)\n",
    "\n",
    "print(f'MSE: {MSE}')"
   ]
  },
  {
   "cell_type": "markdown",
   "metadata": {},
   "source": [
    "- Import Modul dengan memanggil function 'from sklearn.metrics import mean_squared_error'.\n",
    "- Lalu untuk menggunakan mean squared error caranya panggil 'mean_squared_error' dengan menyertakan parameter 'y_test' dan juga 'y_pred' lalu ditampung nilainya kedalam variabel 'MSE'.\n",
    "- Tampilkan nilai 'MSE' tersebut pada layar dengan menggunakan print.\n",
    "\n",
    "Berdasarkan output untuk $MSE$ juga sama konsepnya dengan $MAE$. Karenanya yang dihitung nilai adalah nilai error, maka tentunya makin kecil nilai $MSE$ nya akan mengindikasikan model yang makin baik.\n",
    "\n",
    "Perlu diingat juga bahwa nilai $MSE$ akan selalu lebih besar bila dibandingkan dengan nilai $MAE$ karena setiap nilai errornya untuk $MSE$ akan selalu dipangkatkan 2."
   ]
  },
  {
   "cell_type": "markdown",
   "metadata": {
    "slideshow": {
     "slide_type": "subslide"
    }
   },
   "source": [
    "### Permasalahan Scaling pada Features\n",
    "\n",
    "\n",
    "\n",
    "Pada kali ini, kita akan melihat permasalahan terkait scaling pada nilai features.\n",
    "\n",
    "Dataset yang kita gunakan pada kali ini memiliki 2 features yaitu tinggi badan dan jenis kelamin.\n",
    "\n",
    "- Nilai tinggi badan direpresentasikan dalam satuan cm.\n",
    "- Nilai jenis kelamin direpresentasikan dalam bilangan biner 0 dan 1.\n",
    "\n",
    "Pada intinya, kita pada kali ini akan mempelajari apakah perbedaan satuan pengukuran yang tersedia akan berdampak pada konsistensi hasil kalkulasi euclidean distancenya.\n",
    "\n",
    "Untuk memperjelas pemahaman, kita akan perkecil terlebih dahulu ukuran datasetnya menjadi 2 instances saja, selanjutkan kita akan melakukan 2 eksperimen. Pada eksperimen pertama, kita akan menggunakan milimeter sebagai satuan pengukuran tinggi badan, sedangkan untuk eksperimen kedua kita akan menggunakan meter sebagai satuan pengukurannya.\n"
   ]
  },
  {
   "cell_type": "code",
   "execution_count": 15,
   "metadata": {},
   "outputs": [
    {
     "data": {
      "text/plain": [
       "[60.0, 40.01249804748511]"
      ]
     },
     "execution_count": 15,
     "metadata": {},
     "output_type": "execute_result"
    }
   ],
   "source": [
    "from scipy.spatial.distance import euclidean\n",
    "\n",
    "# tinggi dalam milimeter\n",
    "X_train = np.array([[1700, 0], [1600, 1]])\n",
    "X_new = np.array([[1640, 0]])\n",
    "\n",
    "[euclidean(X_new[0], d) for d in X_train]"
   ]
  },
  {
   "cell_type": "markdown",
   "metadata": {},
   "source": [
    "- Karena kita membutuhkan euclidean distance, maka kita akan mengimport dahulu 'from scipy.spatial.distance import euclidean'.\n",
    "- Lalu berikutnya, kita akan siapkan datasetnya yaitu 'X_train' dan 'X_new'. 'X_train' akan berisi sekumpulan nilai features untuk training set, sedangkan 'X_new' akan berisi sekumpulan fetures untuk data point yang akan kita prediksi.\n",
    "- Hanya saja disni kita perhatikan bahwa nilai features untuk tinggi badan direpresentasikan dalam satuan milimeter.\n",
    "- Oleh karenanya disini untuk data point pertama pada training set, tinggi badannya adalah 1700 dan 1600. Sedangkan pada data point baru yang akan diprediksi, tinggi badannya adalah 1640.\n",
    "- Pada kali ini nilainya akan menjadi besar karena ukuran satuannya diubah yang awalnya cm menjadi mm.\n",
    "- Lalu berikutnya, kita akan mencoba menggukur jarak untuk data point yang baru ini terhadapa 2 data point pada training setnya.\n",
    "- Untuk proses pengukurannya, kita akan memanfaatkan euclidean distance.\n",
    "\n",
    "Berdasarkan hasil code 15, angka 60.0 merupakan jarak antara data point 'X_new' dengan data point pertama pada 'X_train' yaitu 1700. Sedangkan angka 40.01249804748511 merupakan jarak antara data point 'X_new' terhadap data kedua dari 'X_train' atau tranining setnya yaitu 1600.\n",
    "\n",
    "Pada eksperimen pertama ini, terlihat jelas bahwa data point yang baru lebih dekat dengan data point kedua bila dibandingkan dengan data point pertama. Bisa kita lihat bahwa nilai jaraknya lebih pendek."
   ]
  },
  {
   "cell_type": "code",
   "execution_count": 16,
   "metadata": {},
   "outputs": [
    {
     "data": {
      "text/plain": [
       "[0.06000000000000005, 1.0007996802557442]"
      ]
     },
     "execution_count": 16,
     "metadata": {},
     "output_type": "execute_result"
    }
   ],
   "source": [
    "# tinggi dalam meter\n",
    "X_train = np.array([[1.7, 0], [1.6, 1]])\n",
    "X_new = np.array([[1.64, 0]])\n",
    "\n",
    "[euclidean(X_new[0], d) for d in X_train]"
   ]
  },
  {
   "cell_type": "markdown",
   "metadata": {},
   "source": [
    "- Untuk eksperimen kali ini, tinggi badannya diukur dalam satuan meter.\n",
    "- Jika kita lihat untuk traning set nya bernilai 1.7 yang berarti 1,7 meter dan 1.6 yang berarti 1,6 meter untuk tinggi badannya.\n",
    "- Nilai 1,7 meter setara dengan nilai 1700 milimeter, demikian juga dengan 1,6 meter setara dengan nilai 1600 milimeter.\n",
    "- Lalu untuk data point yang baru, disini tinggi badannya adalah 1.64 meter yang setara dengan 1640 milimeter. Disini kita yakin bahwa kedua dataset ini merupakan dataset yang sebenarnya identik, hanya saja direpresentasikan dengan ukuran yang berbeda.\n",
    "- Berikutnya, kita akan coba mengukur jarak antara data point baru ('X_new') dengan kedua nilai data point pada training setnya.\n",
    "- Pada kali ini juga kita akan memanfaatkan euclidean distance.\n",
    "\n",
    "Berdasarkan hasil output bahwa hasil 0.06000000000000005 tersebut merupakan antara data point yang baru 'X_new' dengan data point pertama pada pertama pada 'X_train'. Lalu hasil 1.0007996802557442 merupakan jarak antara yang baru 'X_new' dengan data point kedua pada 'X_train'.\n",
    "\n",
    "Pada eksperimen kali ini, bisa nampak bahwa data point yang baru lebih dekat dengan data point pertama bila dibandingkan dengan data point kedua."
   ]
  },
  {
   "cell_type": "markdown",
   "metadata": {
    "slideshow": {
     "slide_type": "subslide"
    }
   },
   "source": [
    "### Menerapkan Standard Scaler (Standard Score atau Z-Score)\n",
    "\n",
    "Standardize features by removing the mean and scaling to unit variance.\n",
    "\n",
    "\n",
    "$z = \\frac{x - \\bar{x}}{S}$\n",
    "\n",
    "Diatas merupakan formula yang kita gunakan untuk mencari nilai z-score, yang memiliki beberap komponen sebagai berikut :\n",
    "\n",
    "- $x$ : merepresentasikan nilai features.\n",
    "- $\\bar{x}$ : merepresentasikan rata-rata nilai features.\n",
    "- $S$ : merepresentasikan nilai standard deviation dari sekumpulan nilai features.\n",
    "- $z$ : merepresentasikan nilai z-score.\n",
    "\n",
    "\n",
    "Referensi: [https://en.wikipedia.org/wiki/Standard_score](https://en.wikipedia.org/wiki/Standard_score)"
   ]
  },
  {
   "cell_type": "code",
   "execution_count": 17,
   "metadata": {},
   "outputs": [],
   "source": [
    "from sklearn.preprocessing import StandardScaler\n",
    "\n",
    "ss = StandardScaler()"
   ]
  },
  {
   "cell_type": "code",
   "execution_count": 18,
   "metadata": {},
   "outputs": [
    {
     "name": "stdout",
     "output_type": "stream",
     "text": [
      "X_train_scaled:\n",
      "[[ 1. -1.]\n",
      " [-1.  1.]]\n",
      "\n",
      "X_new_scaled: [[-0.2 -1. ]]\n",
      "\n",
      "jarak: [1.2, 2.1540659228538015]\n"
     ]
    }
   ],
   "source": [
    "# tinggi dalam milimeter\n",
    "X_train = np.array([[1700, 0], [1600, 1]])\n",
    "X_train_scaled = ss.fit_transform(X_train)\n",
    "print(f'X_train_scaled:\\n{X_train_scaled}\\n')\n",
    "\n",
    "X_new = np.array([[1640, 0]])\n",
    "X_new_scaled = ss.transform(X_new)\n",
    "print(f'X_new_scaled: {X_new_scaled}\\n')\n",
    "\n",
    "jarak = [euclidean(X_new_scaled[0], d) for d in X_train_scaled]\n",
    "print(f'jarak: {jarak}')"
   ]
  },
  {
   "cell_type": "markdown",
   "metadata": {},
   "source": [
    "- Nilai feature untuk tinggi badan direprsentasikan dalam satuan mm.\n",
    "- Yang berbeda dengan eksperimen sebelumnya adalah setelah nilai features atau X_train nya dibentuk, berikutnya kita akan mengenakan standard scaler ini pada nilai X_train nya.\n",
    "- panggil objek standar scalernnya ('ss') lalu kita panggil ('.fit_transform') yang kita kenakan pada 'X_train' yang hasilnya kita tampung ke dalam variabel 'X_train_scaled' lalu kita cetak dengan print.\n",
    "- Demikian juga untuk 'X_new' nya yang akan kita kenakan proses transformasi. Hanya saja disini untuk proses transformasinya, kita langsung memanggil function transformnya bukan fit_transform karena proses fit nya akan kita kenakan pada 'X_train' tetapi proses transformnya akan kita kenakan baik pada 'X_train' maupun pada 'X_new' yang akan kita tampung kedalam variabel 'X_new_scaled'.\n",
    "- Lalu kita tampilkan ke layar.\n",
    "- Berikutnya kita akan hitung jaraknya dengan menggunakan euclidean distances, yang kita hitung jaraknya disini adalah nilai 'X_new_scaled' dengan nilai 'X_train_scaled'.\n",
    "\n",
    "Bisa kita lihat bahwa nilai-nilai pada hasil output tersebut sudah tidak lagi menggunakan satuan cm atau mm maupun m, melainkan satuannya sudah menggunakan satuan standard score atau $z$-score. Jika kita perhatikan pada hasil 'jarak' 1,2 yaitu merupakan jarak antara 'X_new_scaled' dengan X_train_scaled' untuk data point yang pertama, sedangkan jarak 2.1540659228538015 merupakan jarak antara 'X_new_scaled' dengan data point kedua pada 'X_train_scaled'.\n",
    "\n",
    "Pada hasil output eksperimen tersebut terlihat dengan jelas bahwa data point yang baru lebih dekat dengan data point pertama bila dibandingkan dengan data point kedua."
   ]
  },
  {
   "cell_type": "code",
   "execution_count": 19,
   "metadata": {},
   "outputs": [
    {
     "name": "stdout",
     "output_type": "stream",
     "text": [
      "X_train_scaled:\n",
      "[[ 1. -1.]\n",
      " [-1.  1.]]\n",
      "\n",
      "X_new_scaled: [[-0.2 -1. ]]\n",
      "\n",
      "jarak: [1.2000000000000026, 2.1540659228538006]\n"
     ]
    }
   ],
   "source": [
    "# tinggi dalam meter\n",
    "X_train = np.array([[1.7, 0], [1.6, 1]])\n",
    "X_train_scaled = ss.fit_transform(X_train)\n",
    "print(f'X_train_scaled:\\n{X_train_scaled}\\n')\n",
    "\n",
    "X_new = np.array([[1.64, 0]])\n",
    "X_new_scaled = ss.transform(X_new)\n",
    "print(f'X_new_scaled: {X_new_scaled}\\n')\n",
    "\n",
    "jarak = [euclidean(X_new_scaled[0], d) for d in X_train_scaled]\n",
    "print(f'jarak: {jarak}')"
   ]
  },
  {
   "cell_type": "markdown",
   "metadata": {},
   "source": [
    "- Selanjutnya kita akan melakukan eksperimen kedua dengan memanfaatkan dataset yang sama. Hanya saja kita akan menggunakan meter sebagai satuan pengukuran untuk tinggi badan.\n",
    "- Disini sekumpulan nilai features nya sama, namun yang berbeda adalah satuan pengukurannya saja dalam kasus ini adalah meter (m).\n",
    "- Tetapi sebelum kita menghitung jaraknya dengan menggunakan euclidean distance, nilai-nilai fetaures tersebut kita akan scaling terlebih dahulu dengan memanfaatkan standar scaler.\n",
    "- Disini untuk 'X_train' nya kita panggil terlebih dahulu function 'fit_transform(X_train)' yang hasilnya akan kita tampung kedalam variabel 'X_train_scaled'.\n",
    "- Lalu berikutnya untuk 'X_new', kita tinggal memanggil saja function 'ss.transform' dengan menyertakan paremeter pada 'X_new' nya lalu hasilnya kita tampung kedalam variabel 'X_new_scaled'.\n",
    "- Berikutnya, kita akan menghitung jaraknya. Untuk perhitungan jaraknya, disini juga sama kita akan menggunakan euclidean distance.\n",
    "\n",
    "Berdasarkan hasil nilai di atas mendapatkan nilai 'X_train_scaled', 'X_new_scaled' serta 'jarak'. Eksperimen ini menghasilkan jarak yang sama atau setidaknya sangat mendekati dengan nilai jarak pada eksperimen pertama, disini juga bisa dilihat bahwa data point baru juga lebih dekat dengan data point pertama bila dibandingkan dengan data point kedua."
   ]
  },
  {
   "cell_type": "markdown",
   "metadata": {
    "slideshow": {
     "slide_type": "subslide"
    }
   },
   "source": [
    "### Menerapkan Features Scaling pada KNN\n",
    "\n",
    "\n",
    "Pada kali ini, kita akan ulangi kembali proses training dan evaluasi model KNN yang pernah kita lakukan sebelumnya, tetapi pada kali ini kita akan menerapkan features scaling.\n",
    "\n",
    "Untuk kasus dibawah, features scaling yang akan kita terapkan adalah standard scaler. Kita akan melihat bagaiman features scaling ini berpotensi dalam meningkatkan performa dari model KNN.\n",
    "\n",
    "#### Dataset"
   ]
  },
  {
   "cell_type": "code",
   "execution_count": 20,
   "metadata": {},
   "outputs": [],
   "source": [
    "# Training Set\n",
    "X_train = np.array([[158, 0], [170, 0], [183, 0], [191, 0], [155, 1], [163, 1],\n",
    "                    [180, 1], [158, 1], [170, 1]])\n",
    "\n",
    "y_train = np.array([64, 86, 84, 80, 49, 59, 67, 54, 67])\n",
    "\n",
    "# Test Set\n",
    "X_test = np.array([[168, 0], [180, 0], [160, 1], [169, 1]])\n",
    "y_test = np.array([65, 96, 52, 67])"
   ]
  },
  {
   "cell_type": "markdown",
   "metadata": {},
   "source": [
    "- Siapkan training setnya dengan menyiapkan 'X_train' untuk menampung sekumpulan nilai features untuk training set dan 'y_train' untuk menampung sekumpulan nilai target untuk training setnya.\n",
    "- Selain itu untuk keperluan evaluasi, akan diperisiapkan 'X_test' dan 'y_test'."
   ]
  },
  {
   "cell_type": "markdown",
   "metadata": {},
   "source": [
    "### Features Scaling (Standard Scaler)\n",
    "\n",
    "Yang berbeda disini adalah setelah training dan testing set nya tersedia, kita tidak langsung melakukan proses training model, tetapi kita akan menscaling feturesnya terlebih dahulu."
   ]
  },
  {
   "cell_type": "code",
   "execution_count": 21,
   "metadata": {},
   "outputs": [
    {
     "name": "stdout",
     "output_type": "stream",
     "text": [
      "X_train_scaled:\n",
      "[[-0.9908706  -1.11803399]\n",
      " [ 0.01869567 -1.11803399]\n",
      " [ 1.11239246 -1.11803399]\n",
      " [ 1.78543664 -1.11803399]\n",
      " [-1.24326216  0.89442719]\n",
      " [-0.57021798  0.89442719]\n",
      " [ 0.86000089  0.89442719]\n",
      " [-0.9908706   0.89442719]\n",
      " [ 0.01869567  0.89442719]]\n",
      "\n",
      "X_test_scaled:\n",
      "[[-0.14956537 -1.11803399]\n",
      " [ 0.86000089 -1.11803399]\n",
      " [-0.82260955  0.89442719]\n",
      " [-0.06543485  0.89442719]]\n",
      "\n"
     ]
    }
   ],
   "source": [
    "X_train_scaled = ss.fit_transform(X_train)\n",
    "X_test_scaled = ss.transform(X_test)\n",
    "\n",
    "print(f'X_train_scaled:\\n{X_train_scaled}\\n')\n",
    "print(f'X_test_scaled:\\n{X_test_scaled}\\n')"
   ]
  },
  {
   "cell_type": "markdown",
   "metadata": {},
   "source": [
    "- Panggil function 'ss.fit_transform' yang diterapkan pada 'X_train', lalu hasil scalingnya ditampung kedalam variabel 'X_train_scaled'.\n",
    "- Demikian juga untuk 'X_test' nya, Panggil function 'ss.transform' dengan menyertakan parameter 'X_test' lalu hasil scalingnya akan  ditampung kedalam variabel 'X_test_scaled'."
   ]
  },
  {
   "cell_type": "markdown",
   "metadata": {},
   "source": [
    "### Training & Evaluasi Model\n",
    "Setelah nilai featuresnya discaling, tahapan berikutnya lakukan proses training model."
   ]
  },
  {
   "cell_type": "code",
   "execution_count": 22,
   "metadata": {},
   "outputs": [
    {
     "name": "stdout",
     "output_type": "stream",
     "text": [
      "MAE: 7.583333333333336\n",
      "MSE: 85.13888888888893\n"
     ]
    }
   ],
   "source": [
    "model.fit(X_train_scaled, y_train)\n",
    "y_pred = model.predict(X_test_scaled)\n",
    "\n",
    "MAE = mean_absolute_error(y_test, y_pred)\n",
    "MSE = mean_squared_error(y_test, y_pred)\n",
    "\n",
    "print(f'MAE: {MAE}')\n",
    "print(f'MSE: {MSE}')"
   ]
  },
  {
   "cell_type": "markdown",
   "metadata": {},
   "source": [
    "- Panggil function 'model.fit' dengan menyertakan parameter 'X_train_scaled' dan 'y_train'. features yang telah dilewatkan adalah features yang sudah discaling.\n",
    "- Lalu setelah modelnya kita training, train model atau model yang sudah kita training ini akan kita gunakan untuk melakukan prediksi dengan memanggil function 'model.predict' dengan menyertakan parameter '(X_test_scaled)' yang hasilnya akan kita tampung kedalam variabel 'y_pred'.\n",
    "- Selanjutnya, kita akan hitung nilai errornya. Pada kali ini, nilai error yang akan kita hitung adalah baik MAE maupun MSE nya. Untuk MAE, kita tinggal memanggil function 'mean_absolute_error' dengan menyertakan parameter 'y_test' dan 'y_pred'.\n",
    "- Sedangkan untuk MSE, kita akan memangggil function 'mean_squared_error' dengan menyertakan kembali 'y_test' maupun 'y_pred' nya sebagai parameter.\n",
    "\n",
    "Berdasarkan hasil scaling pada output hasilnya lebih baik setelah kita menerapkan fetures scaling yakni hasilnya menjadi lebih kecil atau dengan kata lain, kita bisa menghasilkan model dengan kualitas atau performa yang lebih baik setelah kita menerapkan features scaling."
   ]
  },
  {
   "cell_type": "code",
   "execution_count": null,
   "metadata": {},
   "outputs": [],
   "source": []
  }
 ],
 "metadata": {
  "celltoolbar": "Slideshow",
  "kernelspec": {
   "display_name": "Python 3 (ipykernel)",
   "language": "python",
   "name": "python3"
  },
  "language_info": {
   "codemirror_mode": {
    "name": "ipython",
    "version": 3
   },
   "file_extension": ".py",
   "mimetype": "text/x-python",
   "name": "python",
   "nbconvert_exporter": "python",
   "pygments_lexer": "ipython3",
   "version": "3.9.12"
  }
 },
 "nbformat": 4,
 "nbformat_minor": 4
}
