{
 "cells": [
  {
   "cell_type": "code",
   "execution_count": 3,
   "metadata": {},
   "outputs": [
    {
     "data": {
      "text/plain": [
       "{'scroll': True, 'width': '100%', 'height': '100%'}"
      ]
     },
     "execution_count": 3,
     "metadata": {},
     "output_type": "execute_result"
    }
   ],
   "source": [
    "# 01 Pengenalan Machine Learning\n",
    "\n",
    "from notebook.services.config import ConfigManager\n",
    "cm = ConfigManager()\n",
    "cm.update('livereveal', {\n",
    "        'scroll': True,\n",
    "        'width': '100%',\n",
    "        'height': '100%',\n",
    "})"
   ]
  },
  {
   "cell_type": "markdown",
   "metadata": {},
   "source": [
    "# Apa itu Machine Learning (ML)? Bukan mobile legend\n",
    "\n",
    "    \"Machine Learning is a study that gives computers the ability to learn without being explicitly programmed\" - Arthur Samuel\n",
    "    \"Machine Learning is a program can be said to learn from experience E with respect to some class of tasks T and performance measure P, if its performance at tasks in T, as measured by P, improves with experience E.\" - Tom Mitchell\n",
    "    Machine Learning adalah bidang ilmu yang memampukan suatu program komputer untuk belajar dari sekumpulan data.\n",
    "\n",
    "\n",
    "\n",
    "\n"
   ]
  },
  {
   "cell_type": "markdown",
   "metadata": {},
   "source": [
    "# Learning Problem\n",
    "\n",
    "    Learning problem dalam konteks Machine Learning (ML) melibatkan suatu dataset (terdiri dari sejumlah $n$ sample data) untuk melakukan prediksi terhadap properties yang tidak diketahui pada dataset lain yang sejenis.\n",
    "    \n",
    "    Secara umum learning problem dapat dibagi menjadi dua, yaitu supervised learning dan unsupervised learning.\n",
    "    \n",
    "    Pada supervised learning problem, program memprediksi suatu nilai output untuk suatu input berdasarkan proses learning dengan memanfaatkan sekumpulan data yang terbagi dalam dua label, yaitu input dan output. Di sini program melakukan learning dari sekumpulan contoh kasus (examples) yang menyertakan \"jawaban benar\".\n",
    "    JAWABAN HARUS BENAR.\n",
    "    \n",
    "    Pada unsupervised learning problem, program tidak melakukan learning dari labeled data; melainkan mencoba menemukan pola (patterns) pada data. Di sini program melakukan learning dari sekumpulan contoh kasus (examples) tanpa disertai \"jawaban benar\".\n",
    "    JAWABAN TIDAK HARUS BENAR.\n"
   ]
  },
  {
   "cell_type": "markdown",
   "metadata": {},
   "source": [
    "# Terminologi Dasar pada Supervised Learning\n",
    "\n",
    "    output: label, response variable, dependent variable, regressand, criterion variable, measured variable, responding variable, explained variable, outcome variable, experimental variable, dan output variable\n",
    "    Harus menyertakan yang diatas itu merupakan istilah intinya mengacu hal sama\n",
    "    \n",
    "    input: features, explanatory variables, predictors, regressors, controlled variables, and exposure variables\n",
    "    \n",
    "    training set: Sekumpulan \"contoh\" yang digunakan untuk proses learning (training) pada supervised learning.\n",
    "    \n",
    "    test set: Sekumpulan \"contoh\" yang digunakan untuk mengukur performa pada supervised learning.\n",
    "    \n",
    "    Pada supervised learning, response variable bisa dianalogikan sebagai kunci jawaban dan explanatory variables bisa dianalogikan sebagai pertanyaannya.\n",
    "    response variable == kunci jawaban   && explanatory variable == pernyataannya."
   ]
  },
  {
   "cell_type": "markdown",
   "metadata": {},
   "source": [
    "# Supervised Machine Learning Tasks\n",
    "\n",
    "    Secara umum terdapat dua jenis Supervised Machine Learning Tasks, yaitu Classification dan Regression.\n",
    "    \n",
    "    Classification tasks menekankan pada proses learning (training) untuk melakukan prediksi nilai discrete (i.e., category, class, label) dari sejumlah features. \n",
    "    fokusnya pengelompokan kategory\n",
    "    \n",
    "    Regression tasks menekankan pada proses learning (training) untuk melakukan prediksi nilai continuos (floating point) dari sejumlah features. \n",
    "    prediksi poting point atau cotinius\n",
    "\n",
    "\n"
   ]
  },
  {
   "cell_type": "markdown",
   "metadata": {},
   "source": [
    "# Unsupervised Machine Learning Tasks\n",
    "\n",
    "    Terdapat beberapa Unsupervised Machine Learning Tasks dan kita akan berfokus pada dua tasks, yaitu Clustering dan Dimensionality Reduction.\n",
    "    \n",
    "    Clustering tasks menekankan pada proses explorasi data untuk menemukan kelompok (group) pada data berdasarkan kemiripan (kedekatan) karakteristik.\n",
    "    \n",
    "    Dimensionality Reduction tasks menekankan pada proses explorasi data untuk menemukan sejumlah features yang paling berdampak terhadap response variable."
   ]
  },
  {
   "cell_type": "markdown",
   "metadata": {},
   "source": [
    "# Rekomendasi Buku\n",
    "\n",
    "    Machine Learning Yearning (by Andrew Ng)\n",
    "    The Hundred-Page Machine Learning Book (by Andriy Burkov)\n",
    "    Learning From Data (by Yaser S. Abu-Mostafa)\n"
   ]
  },
  {
   "cell_type": "code",
   "execution_count": null,
   "metadata": {},
   "outputs": [],
   "source": []
  }
 ],
 "metadata": {
  "kernelspec": {
   "display_name": "Python 3 (ipykernel)",
   "language": "python",
   "name": "python3"
  },
  "language_info": {
   "codemirror_mode": {
    "name": "ipython",
    "version": 3
   },
   "file_extension": ".py",
   "mimetype": "text/x-python",
   "name": "python",
   "nbconvert_exporter": "python",
   "pygments_lexer": "ipython3",
   "version": "3.9.17"
  }
 },
 "nbformat": 4,
 "nbformat_minor": 4
}
