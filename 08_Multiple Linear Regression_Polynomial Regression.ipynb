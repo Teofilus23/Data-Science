{
 "cells": [
  {
   "cell_type": "markdown",
   "metadata": {
    "slideshow": {
     "slide_type": "slide"
    }
   },
   "source": [
    "# 08 Multiple Linear Regression & Polynomial Regression\n",
    "\n",
    "Ada dua model regression yaitu \"Multiple Linear Regression\" dan \"Polynomial Regression\".\n",
    "\n",
    "Keduaanya merupakan pengembangan dari \"Simple Linear Regression\" yang pernah kita pelajari pada sesi sebelumnya."
   ]
  },
  {
   "cell_type": "markdown",
   "metadata": {
    "slideshow": {
     "slide_type": "slide"
    }
   },
   "source": [
    "## Sample Dataset\n",
    "\n",
    "Dataset yang akan  digunakan dalam sesi pembelajaran kali ini. akan memanfaatkan dataset \"pizza\", dan juga akan menyertakan kolom baru yaitu \"jumlah topping\" atau \"n topping\" dan \"diameter\" lalu \"harga\"."
   ]
  },
  {
   "cell_type": "code",
   "execution_count": 2,
   "metadata": {},
   "outputs": [
    {
     "data": {
      "text/html": [
       "<div>\n",
       "<style scoped>\n",
       "    .dataframe tbody tr th:only-of-type {\n",
       "        vertical-align: middle;\n",
       "    }\n",
       "\n",
       "    .dataframe tbody tr th {\n",
       "        vertical-align: top;\n",
       "    }\n",
       "\n",
       "    .dataframe thead th {\n",
       "        text-align: right;\n",
       "    }\n",
       "</style>\n",
       "<table border=\"1\" class=\"dataframe\">\n",
       "  <thead>\n",
       "    <tr style=\"text-align: right;\">\n",
       "      <th></th>\n",
       "      <th>diameter</th>\n",
       "      <th>n_topping</th>\n",
       "      <th>harga</th>\n",
       "    </tr>\n",
       "  </thead>\n",
       "  <tbody>\n",
       "    <tr>\n",
       "      <th>0</th>\n",
       "      <td>4</td>\n",
       "      <td>2</td>\n",
       "      <td>7.0</td>\n",
       "    </tr>\n",
       "    <tr>\n",
       "      <th>1</th>\n",
       "      <td>6</td>\n",
       "      <td>1</td>\n",
       "      <td>9.0</td>\n",
       "    </tr>\n",
       "    <tr>\n",
       "      <th>2</th>\n",
       "      <td>8</td>\n",
       "      <td>0</td>\n",
       "      <td>13.0</td>\n",
       "    </tr>\n",
       "    <tr>\n",
       "      <th>3</th>\n",
       "      <td>10</td>\n",
       "      <td>2</td>\n",
       "      <td>17.5</td>\n",
       "    </tr>\n",
       "    <tr>\n",
       "      <th>4</th>\n",
       "      <td>12</td>\n",
       "      <td>3</td>\n",
       "      <td>18.0</td>\n",
       "    </tr>\n",
       "  </tbody>\n",
       "</table>\n",
       "</div>"
      ],
      "text/plain": [
       "   diameter  n_topping  harga\n",
       "0         4          2    7.0\n",
       "1         6          1    9.0\n",
       "2         8          0   13.0\n",
       "3        10          2   17.5\n",
       "4        12          3   18.0"
      ]
     },
     "execution_count": 2,
     "metadata": {},
     "output_type": "execute_result"
    }
   ],
   "source": [
    "import pandas as pd\n",
    "\n",
    "pizza = {'diameter': [4, 6, 8, 10, 12], \n",
    "         'n_topping': [2, 1, 0, 2, 3],\n",
    "         'harga': [7, 9, 13, 17.5, 18]}\n",
    "\n",
    "train_pizza_df = pd.DataFrame(pizza)\n",
    "train_pizza_df"
   ]
  },
  {
   "cell_type": "markdown",
   "metadata": {},
   "source": [
    "- Mengimport modul pandas \"import pandas as pd\" karena akan membentuk dataset dalam format pandas DataFrame.\n",
    "- Lalu berikutnya, siapkan dataset. Dataset kali ini dibentuk dari suatu dictionary, yang terdiri dari tiga buah key yaitu \"diameter\", \"n_toping\", dan \"harga\".\n",
    "- Setiap key tersebut akan menampung list yang berisi sekumpulan bilangan yang berasosiasi dengan setiap keys tersebut.\n",
    "- Lalu selanjutnya dictionary tersebut akan ditampung ke dalam variabe \"pizza\".\n",
    "- Untuk selanjutnya, dictionary ini akan digunakan sebagai base atau sebagai basis untuk membuat pandas DataFrame.\n",
    "- Lalu selanjutnya dipanggil \"pd.DataFrame(pizza)\", artinya disini akan membentuk suatu pandas DataFrame dari data-data yang tersimpan dalam variabel pizza tersebut.\n",
    "- Selanjutnnya DataFrame yang terbentuk ini akan ditampung kedalam variabel \"train_pizza_df\".\n",
    "- Lalu terakhir, akan mencoba tampilkan ke layar.\n"
   ]
  },
  {
   "cell_type": "markdown",
   "metadata": {},
   "source": [
    "## Sample dataset 2"
   ]
  },
  {
   "cell_type": "code",
   "execution_count": 3,
   "metadata": {},
   "outputs": [
    {
     "data": {
      "text/html": [
       "<div>\n",
       "<style scoped>\n",
       "    .dataframe tbody tr th:only-of-type {\n",
       "        vertical-align: middle;\n",
       "    }\n",
       "\n",
       "    .dataframe tbody tr th {\n",
       "        vertical-align: top;\n",
       "    }\n",
       "\n",
       "    .dataframe thead th {\n",
       "        text-align: right;\n",
       "    }\n",
       "</style>\n",
       "<table border=\"1\" class=\"dataframe\">\n",
       "  <thead>\n",
       "    <tr style=\"text-align: right;\">\n",
       "      <th></th>\n",
       "      <th>diameter</th>\n",
       "      <th>n_topping</th>\n",
       "      <th>harga</th>\n",
       "    </tr>\n",
       "  </thead>\n",
       "  <tbody>\n",
       "    <tr>\n",
       "      <th>0</th>\n",
       "      <td>8</td>\n",
       "      <td>2</td>\n",
       "      <td>11.0</td>\n",
       "    </tr>\n",
       "    <tr>\n",
       "      <th>1</th>\n",
       "      <td>9</td>\n",
       "      <td>0</td>\n",
       "      <td>8.5</td>\n",
       "    </tr>\n",
       "    <tr>\n",
       "      <th>2</th>\n",
       "      <td>11</td>\n",
       "      <td>2</td>\n",
       "      <td>15.0</td>\n",
       "    </tr>\n",
       "    <tr>\n",
       "      <th>3</th>\n",
       "      <td>16</td>\n",
       "      <td>2</td>\n",
       "      <td>18.0</td>\n",
       "    </tr>\n",
       "    <tr>\n",
       "      <th>4</th>\n",
       "      <td>12</td>\n",
       "      <td>0</td>\n",
       "      <td>11.0</td>\n",
       "    </tr>\n",
       "  </tbody>\n",
       "</table>\n",
       "</div>"
      ],
      "text/plain": [
       "   diameter  n_topping  harga\n",
       "0         8          2   11.0\n",
       "1         9          0    8.5\n",
       "2        11          2   15.0\n",
       "3        16          2   18.0\n",
       "4        12          0   11.0"
      ]
     },
     "execution_count": 3,
     "metadata": {},
     "output_type": "execute_result"
    }
   ],
   "source": [
    "pizza = {'diameter': [8, 9, 11, 16, 12], \n",
    "         'n_topping': [2, 0, 2, 2, 0],\n",
    "         'harga': [11, 8.5, 15, 18, 11]}\n",
    "\n",
    "test_pizza_df = pd.DataFrame(pizza)\n",
    "test_pizza_df"
   ]
  },
  {
   "cell_type": "markdown",
   "metadata": {},
   "source": [
    "dari Dataset diatas sama-sama terdiri dari tiga buah kolom yaitu kolom \"diameter\", \"n_topping\", dan \"harga\". kali ini kita akan membentuk suatu model machine learning sederhana yang dapat digunakan untuk memprediksi harga pizza berdasarkan ukuran diameter dan jumlah toppingnya. Dengan kata lain, disini data diameter dan jumlah topping atau \"n_topping\" akan berperan sebagai features, sedangkan harga pizza atau \"harga\" akan berperan sebagai target. Karena disini akan diprediksi berupa nilai continous dan bukan kategori, maka kasus tersebut masuk kedalam \"Regression Task\".\n"
   ]
  },
  {
   "cell_type": "markdown",
   "metadata": {
    "slideshow": {
     "slide_type": "slide"
    }
   },
   "source": [
    "## Preprocessing Dataset\n",
    "Pengelompokan untuk sekumpulan nilai features dan nilai target dari sekumpulan dataset yang dimiliki"
   ]
  },
  {
   "cell_type": "code",
   "execution_count": 4,
   "metadata": {},
   "outputs": [
    {
     "name": "stdout",
     "output_type": "stream",
     "text": [
      "X_train:\n",
      "[[ 4  2]\n",
      " [ 6  1]\n",
      " [ 8  0]\n",
      " [10  2]\n",
      " [12  3]]\n",
      "\n",
      "y_train: [ 7.   9.  13.  17.5 18. ]\n"
     ]
    }
   ],
   "source": [
    "import numpy as np\n",
    "\n",
    "X_train = np.array(train_pizza_df[['diameter', 'n_topping']])\n",
    "y_train = np.array(train_pizza_df['harga'])\n",
    "\n",
    "print(f'X_train:\\n{X_train}\\n')\n",
    "print(f'y_train: {y_train}')"
   ]
  },
  {
   "cell_type": "markdown",
   "metadata": {},
   "source": [
    "-  import \"numpy as np\" untuk menentukan nilai dataset.\n",
    "-  kasus kali ini, akan melakukan konversi ke dalam numpy array yaitu nilai \"diamter\" dan \"jumlah topping\".\n",
    "- Lalu kemudian ditampung kedalam variabel \"X_train\" sebagai kumpulan features untuk training set.\n",
    "- Lalu untuk harga pizza, juga akan mengkonversikan menjadi numpy array untuk selanjutnya ditampung kedalam variabel \"y_train\" sebagai kumpulan nilai target untuk training set.\n",
    "- Proses serupa juga akan diterapkan pada testing setnya.\n",
    "\n",
    "Jika kita melihat outputnya, \"X_train\" selalu berada dalam format array 2 dimensi, sedangkan \"y_train\" akan selalu berada dalam format array 1 dimensi."
   ]
  },
  {
   "cell_type": "code",
   "execution_count": 5,
   "metadata": {},
   "outputs": [
    {
     "name": "stdout",
     "output_type": "stream",
     "text": [
      "X_test:\n",
      "[[ 8  2]\n",
      " [ 9  0]\n",
      " [11  2]\n",
      " [16  2]\n",
      " [12  0]]\n",
      "\n",
      "y_test: [11.   8.5 15.  18.  11. ]\n"
     ]
    }
   ],
   "source": [
    "X_test = np.array(test_pizza_df[['diameter', 'n_topping']])\n",
    "y_test = np.array(test_pizza_df['harga'])\n",
    "\n",
    "print(f'X_test:\\n{X_test}\\n')\n",
    "print(f'y_test: {y_test}')"
   ]
  },
  {
   "cell_type": "markdown",
   "metadata": {},
   "source": [
    "Pada hasil output diatas tersebut merupakan testing set yang kita miliki baik untuk features maupun targetnya."
   ]
  },
  {
   "cell_type": "markdown",
   "metadata": {
    "slideshow": {
     "slide_type": "slide"
    }
   },
   "source": [
    "## Multiple Linear Regression \n",
    "\n",
    "Multiple Linear Regression merupakan generalisasi dari Simple Linear Regression yang memungkinkan untuk menggunakan beberapa explanatory variables.\n",
    "\n",
    "$y = \\alpha + \\beta_1x_1 + \\beta_2x_2 + \\dots + \\beta_nx_n$\n",
    "\n",
    "\n",
    "\n",
    "- Jika diperhatikan pada formula atau rumus tersebut, disana terdapat lebih dari satu nilai x, yaitu ada x1, x2, sampai dengan xn.\n",
    "- Dengan kata lain, jumlah x atau jumlah features ini bisa lebih dari satu.\n",
    "- Yang perlu diperhatikan disini ialah untuk setiap nilai $x$ nya akan dikalikan dengan $\\beta$.\n",
    "- Berarti jika memiliki $x1$, maka $x1$ nilai tersebut akan dikalikan dengan $\\beta1$.\n",
    "- Dan jika memiliki $x2$, maka nilai $x2$ nilai tersebut akan dikalikan dengan $\\beta2$\n",
    "\n",
    "\n",
    "\n",
    "Referensi: [https://en.wikipedia.org/wiki/Linear_regression](https://en.wikipedia.org/wiki/Linear_regression)"
   ]
  },
  {
   "cell_type": "code",
   "execution_count": 7,
   "metadata": {
    "slideshow": {
     "slide_type": "-"
    }
   },
   "outputs": [
    {
     "name": "stdout",
     "output_type": "stream",
     "text": [
      "r_squared: -1.8993494770679265\n"
     ]
    }
   ],
   "source": [
    "from sklearn.linear_model import LinearRegression\n",
    "from sklearn.metrics import r2_score\n",
    "\n",
    "model = LinearRegression()\n",
    "model.fit(X_train, y_train)\n",
    "y_pred = model.predict(X_test)\n",
    "    \n",
    "print(f'r_squared: {r2_score(y_test, y_pred)}')"
   ]
  },
  {
   "cell_type": "markdown",
   "metadata": {},
   "source": [
    "- Pertama-tama lakukan import modul \"from sklearn.linear_model import LinearRegression\".\n",
    "- Selanjutnya, lakukan import juga untuk matrix nya dengan memanggil fungsi \"from sklearn.metrics import r2_score\".\n",
    "- Membentuk objek modelnya dengan memanggil fungsi \"LinearRegression()\", lalu ditampung kedalam variabel \"model\".\n",
    "- Lalu berikutnya, akan melakukan proses training model dengan memanggil fungsi \"model.fit\" dengan menyertakan parameter \"(X_train, y_train)\".\n",
    "- Setelah modelnya ditraining, model tersebut akan digunakan untuk melakukan prediksi. dan gunakan train model untuk melakukan prediksi terhadap feature yang terdapat dalam testing set kita. Oleh karenanya, Panggil fungsi \"y_pred = model.predict(X_test)\" yang akan ditampung kedalam variabel \"y_pred\".\n",
    "- Untuk selanjutnya model prediksi ini akan kita gunakan untuk mengukur peforma dari model itu sendiri.\n",
    "- Dalam kasus kali ini digunakan r2_score sebagai pengukuran peformanya.\n",
    "- Tampilkan nilai tersebut.\n",
    "\n",
    "Pada SkLearn sebenarnya tidak ada perbedaan antara implementasi \"Simple Linear Regression\" dan \"Multiple Linear Regression\". Yang berbeda hanyalah pada jumlah feature yang dilewatkannya."
   ]
  },
  {
   "cell_type": "markdown",
   "metadata": {
    "slideshow": {
     "slide_type": "slide"
    }
   },
   "source": [
    "## Polynomial Regression\n",
    "\n",
    "Polynomial Regression memodelkan hubungan antara independent variable $x$ dan dependent variable $y$ sebagai derajat polynomial dalam $x$.\n",
    "\n",
    "- Independent variable $x$ sebenarnya merupakan features.\n",
    "- Dependent variable $x$ sebenarnya merupakan target.\n",
    "\n",
    "\n",
    "Referensi: [https://en.wikipedia.org/wiki/Polynomial_regression](https://en.wikipedia.org/wiki/Polynomial_regression)"
   ]
  },
  {
   "cell_type": "markdown",
   "metadata": {
    "slideshow": {
     "slide_type": "subslide"
    }
   },
   "source": [
    "### Preprocessing Dataset\n",
    "Memangkas jumlah feature nya menjadi satu feature saja."
   ]
  },
  {
   "cell_type": "code",
   "execution_count": 8,
   "metadata": {},
   "outputs": [
    {
     "name": "stdout",
     "output_type": "stream",
     "text": [
      "X_train:\n",
      "[[ 4]\n",
      " [ 6]\n",
      " [ 8]\n",
      " [10]\n",
      " [12]]\n",
      "\n",
      "y_train: [ 7.   9.  13.  17.5 18. ]\n"
     ]
    }
   ],
   "source": [
    "X_train = np.array(train_pizza_df['diameter']).reshape(-1, 1)\n",
    "y_train = np.array(train_pizza_df['harga'])\n",
    "\n",
    "print(f'X_train:\\n{X_train}\\n')\n",
    "print(f'y_train: {y_train}')"
   ]
  },
  {
   "cell_type": "markdown",
   "metadata": {},
   "source": [
    "- Feturesnya dipangkas menjadi satu feature yang dalam kasus ini yang dijadikan feature adalah \"diameter\" atau diameter pizzanya.\n",
    "- bentuk numpy array \"(train_pizza_df['diameter'])\" karena hanya ingin mengambil kolom diameter saja.\n",
    "- Lalu lakukan proses reshaping atau reshape yang dalam kasus ini (-1, 1) karena pada SkLearn untuk featuresnya itu harus berada dalam array 2 dimensi, sedangkan disini kita hanya memiliki satu kolom saja sebagai featuresnya.\n",
    "- Aritinya fetures yang terdiri dari satu varibel tersebut, perlu kita transformasikan kedalam array dua dimensi dengan memanfaatkan method reshape (-1, 1) lalu kita tampung kedalam variabel \"X_train\".\n",
    "- Selanjutnya bentuk array yang kedua yang dimasukan nilai target dengan memanggil \"np.array(train_pizza_df['harga'])\" karena kolom harga tersebut akan digunakan sebagai target prediksinya yang akan kita tampung kedalam variabel \"y_train\".\n",
    "- Print nilai 'X_train\" dan juga \"y_train\" nya.\n",
    "\n",
    "Walaupun nilai \"X_train\" nya terdiri dari satu features saja, tetapi array yang terbentuk ini tetap dalam format array 2 dimensi. Hal ini dimungkinkan karena kita memanggil method \"reshape(-1, 1)\"."
   ]
  },
  {
   "cell_type": "markdown",
   "metadata": {
    "slideshow": {
     "slide_type": "subslide"
    }
   },
   "source": [
    "### Polynomial Regression: Quadratic\n",
    "\n",
    " Pada SkLearn dengan derajat polynomial 2 atau biasa dikenal dengan istilah \"Quadratic\". Selain derajat polynomial 2, juga bisa menggunakan polynomial lainnya seperti 3, 4, dan seterusnya. Hanya saja, yang paling umum ditemui adalah derajat polynomial 2 dengan 3 atau dikenal dengan \"Quadratic\" dan \"Cubic\".\n",
    "\n",
    "\n",
    "$y = \\alpha + \\beta_1x + \\beta_2x^2$\n",
    "\n",
    "\n",
    "- nilai feature yaitu x.\n",
    "- nilai feature yang tunggal tersebut akan direpresentasikan dalam format polynomial.\n",
    "- Untuk kasus kali ini, akan menggunakan polynomial derajat 2 yang berarti akan memiliki $x^1$ dan $x^2$.\n",
    "- Untuk $x^1$ akan dikalikan dengan $\\beta^1$ dan untuk $x^2$ akan dikalikan dengan $\\beta^2$.\n"
   ]
  },
  {
   "cell_type": "markdown",
   "metadata": {},
   "source": [
    "#### Polynomial Features"
   ]
  },
  {
   "cell_type": "code",
   "execution_count": 9,
   "metadata": {},
   "outputs": [
    {
     "name": "stdout",
     "output_type": "stream",
     "text": [
      "X_train_quadratic:\n",
      "[[  1.   4.  16.]\n",
      " [  1.   6.  36.]\n",
      " [  1.   8.  64.]\n",
      " [  1.  10. 100.]\n",
      " [  1.  12. 144.]]\n",
      "\n"
     ]
    }
   ],
   "source": [
    "from sklearn.preprocessing import PolynomialFeatures\n",
    "\n",
    "quadratic_feature = PolynomialFeatures(degree=2)\n",
    "X_train_quadratic = quadratic_feature.fit_transform(X_train)\n",
    "\n",
    "print(f'X_train_quadratic:\\n{X_train_quadratic}\\n')"
   ]
  },
  {
   "cell_type": "markdown",
   "metadata": {},
   "source": [
    "- import \"from sklearn.preprocessing import PolynomialFeatures\".\n",
    "- Bentuk objek polynomial features dengan memanggil \"PolynomialFeatures\" dengan menyertakan parameter \"(degree=2)\" atau derjat polynomialnya yang dalam kasus ini nilainya adalah 2. Karena dalam kasus kita kali ini kita akan membentuk \"Quadratic Polynomial Regression\", maka degree nya kita beri nilai 2 lalu kita tampung kedalam variabel \"quadratic_feature\".\n",
    "- Objek tersebut akan kita gunakan untuk melakukan proses transformasi terhadap dataset feature yang kita miliki. Oleh karena itu, kita memanggil \"quadratic_feature.fit_transform\" dengan menyertakan parameter \"X_train\". Lalu hasil transformasinya, akan kita tampung ke dalam variabel \"X_train_quadratic\".\n",
    "- Variabel \"X_train_quadratic\" akan berisi features dari training set kita yang sudah ditransformasikan kedalam \"Polynomial Features\".\n",
    "- Langkah akhir, kita akan coba untuk tampilkan hasilnya.\n",
    "\n",
    "Outputnya nilai feature yang tunggal menjadi 3. nilai pada indeks pertama adalah 6, Nilai 1 diperoleh dari nilai x dipangkatkan 0 yang kita ketahui hasilnya adalah 1, nilai 2 diperoleh dari 6 dipangkatkan 1 adalah 6, lalu 6 dipangkatkan 2 adalah 36 dan seterusnya."
   ]
  },
  {
   "cell_type": "markdown",
   "metadata": {},
   "source": [
    "#### Training Model"
   ]
  },
  {
   "cell_type": "code",
   "execution_count": 10,
   "metadata": {},
   "outputs": [
    {
     "data": {
      "text/plain": [
       "LinearRegression()"
      ]
     },
     "execution_count": 10,
     "metadata": {},
     "output_type": "execute_result"
    }
   ],
   "source": [
    "model = LinearRegression()\n",
    "model.fit(X_train_quadratic, y_train)"
   ]
  },
  {
   "cell_type": "markdown",
   "metadata": {},
   "source": [
    "- Import \"LinearRegression()\" yang kita tampung kedalam variabel model.\n",
    "- Training object dengan memanfaatkan nilai fetures yang sudah ditransformasikan kedalam polynomial dengan memanggil \"(X_train_quadratic, y_train)\".\n",
    "- Yang berbeda hanyalah pada polynomial regression yang perlu melakukan transformasi features kedalam polynomial features sebelum mealkukan proses training model.\n"
   ]
  },
  {
   "cell_type": "markdown",
   "metadata": {},
   "source": [
    "#### Visualisasi Model"
   ]
  },
  {
   "cell_type": "code",
   "execution_count": 11,
   "metadata": {},
   "outputs": [
    {
     "data": {
      "image/png": "[encoded data removed]",
      "text/plain": [
       "<Figure size 432x288 with 1 Axes>"
      ]
     },
     "metadata": {
      "needs_background": "light"
     },
     "output_type": "display_data"
    }
   ],
   "source": [
    "import matplotlib.pyplot as plt\n",
    "\n",
    "X_vis = np.linspace(0, 25, 100).reshape(-1, 1)\n",
    "X_vis_quadratic = quadratic_feature.transform(X_vis)\n",
    "y_vis_quadratic = model.predict(X_vis_quadratic)\n",
    "\n",
    "plt.scatter(X_train, y_train)\n",
    "plt.plot(X_vis, y_vis_quadratic, '-r')\n",
    "\n",
    "plt.title('Perbandingan Diameter dan Harga Pizza')\n",
    "plt.xlabel('Diameter (inch)')\n",
    "plt.ylabel('Harga (dollar)')\n",
    "plt.xlim(0, 25)\n",
    "plt.ylim(0, 25)\n",
    "plt.grid(True)\n",
    "plt.show()"
   ]
  },
  {
   "cell_type": "markdown",
   "metadata": {},
   "source": [
    "- Import mathplotlibnya karena ingin divisualiasikan.\n",
    "- Bentuk terlebih dahulu sederet bilangan mulai dari 0 sampai 25 sebanyak 100 data point yang akan ditampung kedalam variabel \"X_vis\".\n",
    "- Lalu variable \"X_vis\" ini akan dikenakan proses transformasi dengan memanggil \"quadratic_feature.transform(X_vis)\". melakukan transform yang akan digunakan quadratic_feature yang sudah dibuat sebelumnya, lalu hasilnya kita tampung kedalam \"X_vis_quadratic\".\n",
    "- Lakukan nilai prediksi terhadap nilai \"X_vis_quadratic\" dengan memanggil \"model.predict(X_vis_quadratic)\" yang hasilnya ditampung kedalam variabel \"y_vis_quadratic\".\n",
    "- hasil visualisasi ada 2 hal. Yang pertama adalah X_train dan y_train nya atau data point yang digunakan untuk melakukan proses trainingnya.\n",
    "- Untuk data training tersebut, divisualisasikan sebagai scatter plot dengan memanggil \"plt.scatter\" dengan menyertakan parameternya yaitu X_train serta y_train nya yang akan menghasilkan 5 titik dan kelima titik tersebut merepresentasikan 5 data point pada training set.\n",
    "- Memploting hasil prediksi dari model kita dengan memanggil \"plt.plot(X_vis, y_vis_quadratic, '-r')\". memploting sebagai line plot atau ploting garis dengan warna merah.\n",
    "- Lalu cetak keterangan tambahan seperti judul, xlabel dan ylabel, xlim dan ylim, grid untuk menampilkan garisnya yang diberi nilai True, lalu kita show atau tampilkan pada layar.\n"
   ]
  },
  {
   "cell_type": "markdown",
   "metadata": {
    "slideshow": {
     "slide_type": "subslide"
    }
   },
   "source": [
    "### Polynomial Regression: Quadratic vs Cubic"
   ]
  },
  {
   "cell_type": "code",
   "execution_count": 12,
   "metadata": {},
   "outputs": [
    {
     "data": {
      "image/png": "[encoded data removed]",
      "text/plain": [
       "<Figure size 432x288 with 1 Axes>"
      ]
     },
     "metadata": {
      "needs_background": "light"
     },
     "output_type": "display_data"
    }
   ],
   "source": [
    "# Training Set\n",
    "plt.scatter(X_train, y_train)\n",
    "\n",
    "# Linear\n",
    "model = LinearRegression()\n",
    "model.fit(X_train, y_train)\n",
    "X_vis = np.linspace(0, 25, 100).reshape(-1, 1)\n",
    "y_vis = model.predict(X_vis)\n",
    "plt.plot(X_vis, y_vis, '--r', label='linear')\n",
    "\n",
    "# Quadratic\n",
    "quadratic_featuriser = PolynomialFeatures(degree=2)\n",
    "X_train_quadratic = quadratic_feature.fit_transform(X_train)\n",
    "model = LinearRegression()\n",
    "model.fit(X_train_quadratic, y_train)\n",
    "X_vis_quadratic = quadratic_feature.transform(X_vis)\n",
    "y_vis = model.predict(X_vis_quadratic)\n",
    "plt.plot(X_vis, y_vis, '--g', label='quadratic')\n",
    "\n",
    "# Cubic\n",
    "cubic_feature = PolynomialFeatures(degree=3)\n",
    "X_train_cubic = cubic_feature.fit_transform(X_train)\n",
    "model = LinearRegression()\n",
    "model.fit(X_train_cubic, y_train)\n",
    "X_vis_cubic = cubic_feature.transform(X_vis)\n",
    "y_vis = model.predict(X_vis_cubic)\n",
    "plt.plot(X_vis, y_vis, '--y', label='cubic')\n",
    "\n",
    "plt.title('Perbandingan Diameter dan Harga Pizza')\n",
    "plt.xlabel('Diameter (inch)')\n",
    "plt.ylabel('Harga (dollar)')\n",
    "plt.legend()\n",
    "plt.xlim(0, 25)\n",
    "plt.ylim(0, 25)\n",
    "plt.grid(True)\n",
    "plt.show()"
   ]
  },
  {
   "cell_type": "markdown",
   "metadata": {},
   "source": [
    "Training Set :\n",
    "\n",
    "- panggil \"plt.scatter(X_train, y_train)\" untuk plotting dataset yang hasil plottingnya berupa kelima data point atau kelima titik biru.\n",
    "\n",
    "Linear :\n",
    "- akan membentuk model simple linear regression.\n",
    "- bentuk objek modelnya dengan memanggil \"LinearRegression()\" yang sudah ditampung kedalam variabel \"model\".\n",
    "- Lalu modelnya ditraining dengan menggunakan \"X_train\" dan \"y_train\".\n",
    "- Berikutnya disini lakukan penyiapan 100 data point dengan jangkauan 0 - 25. Lalu nilai dat point ini sebelum ditampung kedalam variabel \"X_vis\" akan dilakukan reshape dengan parameter (-1, 1).\n",
    "- Selanjutnya nilai yang ditampung dalam variabel \"X_vis\" tersebut akan digunakan sebagai features untuk melakukan prediksi dengan memanggil \"model.predict(X_vis)\" yang ditampung kedalam variabel \"y_vis\".\n",
    "- Lalu berikutnya, hasil prediksi tersebut akan ditampilkan secara visual dengan memanggil \"plt.plot(X_vis, y_vis, '--r', label='linear')\" yang akan menghasilkan garis merah putus-putus.\n",
    "- Garis merah tersebut merepresentasikan model simple linear regression yang terbentuk.\n",
    "\n",
    "Quadratic :\n",
    "- Lalu berikutnya dibandingkan dengan quadratic. Perbedaannya sebenarnya terletak hanya pada penerapan point polynomial feature dengan degree atau derajat 2.\n",
    "- bentuk objeknya dengan memanggil \"PolynomialFeatures(degree=2)\" yang akan ditampug kedalam variabel \"quadratic_feature\".\n",
    "- Selanjutnya kita akan menggunaka objek \"qudratic_feature\" tersebut, untuk melakukan fit.transform terhadap nilai dari \"X_train\" yang hasilnya akan ditampung kedalam variabel \"X_train_quadratic\".\n",
    "- Lalu bentuk objek modelnya yang ditampung kedalam variabel \"model\".\n",
    "- Proses training terhadap model. Hanya saja disini, modelnya akan kita training dengan menggunakan features yang sudah ditranformasikan kedalam quadratic polynomial. Oleh karenanya, panggil \"(X_train_quadratic, y_train)\".\n",
    "- Berikutnya nilai \"X_vis\" nya juga sama, akan ditransformasikan menjadi quadratic polynomial yang selanjutnya akan tampung kedalam variabel \"X_vis_quadratic\".\n",
    "- Lalu nilai \"X_vis_quadratic tersebut akan digunakan untuk mealkukan prediksi.\n",
    "- Selanjutnya hasil prediksi tersebut akan diplotting dengan memanggil \"plt.plot(X_vis, y_vis, '--g', label='quadratic')\".\n",
    "\n",
    "Cubic :\n",
    "\n",
    "- Perbedaan cubic dengan yang lain yaitu sewaktu membentuk objek polynomial features, serta menyertakan degree nya adalah 3.\n",
    "- Lalu untuk proses berikutnya sama persis dengan proses linear dan quadratic.\n",
    "- Untuk cubic polynomial regression disini, akan dibentuk plotting sebagai \"--y\" artinya akan diploting sebagai garis putus-putus berwarna yellow atau kuning lalu kita menyertakan label \"cubic\".\n"
   ]
  },
  {
   "cell_type": "code",
   "execution_count": null,
   "metadata": {},
   "outputs": [],
   "source": []
  }
 ],
 "metadata": {
  "celltoolbar": "Slideshow",
  "kernelspec": {
   "display_name": "Python 3",
   "language": "python",
   "name": "python3"
  },
  "language_info": {
   "codemirror_mode": {
    "name": "ipython",
    "version": 3
   },
   "file_extension": ".py",
   "mimetype": "text/x-python",
   "name": "python",
   "nbconvert_exporter": "python",
   "pygments_lexer": "ipython3",
   "version": "3.8.5"
  }
 },
 "nbformat": 4,
 "nbformat_minor": 4
}
