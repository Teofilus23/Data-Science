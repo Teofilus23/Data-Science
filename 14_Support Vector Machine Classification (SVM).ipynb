{
 "cells": [
  {
   "cell_type": "markdown",
   "id": "67ac701a",
   "metadata": {
    "id": "fe41ca4b"
   },
   "source": [
    "# Classification Task dengan Support Vector Machine (SVM)\n",
    "\n",
    "- NRP : 1973006\n",
    "- Nama : Teofilus Gabrilianus H\n"
   ]
  },
  {
   "cell_type": "markdown",
   "id": "35e31d67",
   "metadata": {
    "id": "8175fc26"
   },
   "source": [
    "**_SVM_** atau  **\"Support Vector Machine\"** termasuk salah satu model machine learning yang cukup umum diterapkan pada **Classification Task**. "
   ]
  },
  {
   "cell_type": "markdown",
   "id": "befa9964",
   "metadata": {
    "id": "0ff7da3a"
   },
   "source": [
    "# Konsep Dasar\n",
    "\n",
    "beberapa konsep yang diharapkan dapat membantu memahami mekanisme kerja dari **Support Vector Machine**."
   ]
  },
  {
   "cell_type": "markdown",
   "id": "7d69bd29",
   "metadata": {},
   "source": [
    "#  Decision Boundary "
   ]
  },
  {
   "cell_type": "markdown",
   "id": "e135e47f",
   "metadata": {
    "id": "03019c10"
   },
   "source": [
    "![title](GambarTaks14/svm_linear.png)\n",
    "\n",
    "Pada kasus ini juga terdapat dua buah feature yaitu $X_1$ dan $X_2$ (bisa diperhatikan pada sumbu $X_1$ dan $X_2$). kita diminta untuk menarik suatu garis lurus atau garis linear yang dapat memisahkan kedua class tersebut. Dalam kasus **Classification Task**, pembatas antar class tersebut juga sering kali dikenal dengan istilah **Decision Boundary**. \n",
    "\n",
    "tiga pilihan garis linear yaitu $H_1, H_2, H_3$. $H_1$ direpresentasikan doleh garis berwarna hijau, $H_2$ direpresentasikan oleh garis berwarna biru, dan $H_3$ direpresentasikan doleh garis berwarna merah. pilih ketiga garis tersebut yang paling baik untuk digunakan sebagai **Decision Boundary** atau pemisah antar 2 class yang kita miliki."
   ]
  },
  {
   "cell_type": "markdown",
   "id": "8fdda9ad",
   "metadata": {
    "id": "4afd920d"
   },
   "source": [
    "# Hyperplane\n",
    "\n",
    "Terminologi pertama yang akan kita pelajari adalah **Hyperplane**. Merupakan terminologi yang umum digunakan dalam dalam **_SVM_** untuk merepresentasikan **Decision Boundary**. Kita akan menggunakan studi kasus dibawah ini yang sudah kita gunakan sebelumnya.\n",
    "\n",
    "![title](GambarTaks14/svm_linear.png)\n",
    "\n",
    "Berdasarkan gambar diatas kita dihadapkan pada 2 buah feature, maka kita memiliki ploting dua dimensi, $X_1$ merupakan feature pertama dan $X_2$ merupakan feature kedua dan ketika datanya diploting, maka kita akan memperoleh ploting dua dimensi. Oleh karenanya, **Decision Boundary** yang kita peroleh berupa suatu garis yang dalam kasus ini berupa garis lurus atau garis linear. Tetapi ketika kita hanya memiliki satu feature saja, maka **Decision Boundary** atau pemisah antara classnya akan berupa titik atau nilai **Threshold**. Lalu ketika terdapat tiga buah feature, maka **Decision Boundary** nya berupa sebuah bidang datar atau juga biasa dikenal dengan istilah **Plane**. Ketika terdapat 4 atau lebih feature, maka pemisah antar classnya berupa bidang multidimensi atau biasa dikenal dengan istilah **Hyperplane**. Pada **_SVM_**, untuk menyederhanakan istilah, maka setiap **Decision Boundary** yang dihasilkan, umumnya akan disebut sebagai **Hyperplane**.\n",
    "\n",
    "Pada intinya, **_SVM_** ini mencari **Decision Boundary** yang dapat memisahkan antar class dengan baik. "
   ]
  },
  {
   "cell_type": "markdown",
   "id": "f581fbc9",
   "metadata": {
    "id": "acfb8e21"
   },
   "source": [
    "# Maximum Margin\n",
    "\n",
    "**Margin** ditentukan berdasarkan jarak terdekat antara **Decision Boundary** dengan anggota dari class yang ingin dipisahkan. Untuk bisa memahaminya dengan lebih baik, kita akan memanfaatkan contoh kasus dibawah ini.\n",
    "\n",
    "![title](GambarTaks14/svm_margin.png)\n",
    "\n",
    "Pada kasus kali ini terdapat dua buah class yaitu kelas **biru** dan kelas **hijau**. Disini juga terdapat dua buah feature yaitu $X_1$ dan $X_2$. **Decision Boundary** berupa garis linear berwarna **merah** (lihat pada gambar) yang digunakan untuk memisahkan kedua class yang kita miliki. Garis linear atau garis lurus berwarna **merah** tersebut merupakan **Decision Boundary** yang memisahkan kelas **biru** dan kelas **hijau** dan area yang diarsir dengan warna **kuning** inilah yang dinamakan dengan **Margin**. Pada gambar tersebut bisa dilihat bahwa terdapat suatu area yang mengapit **Decision Boundary** yang diarsi dengan warna **kuning**, area inilah yang dinamakan **Margin**. **Margin** sendiri diperoleh berdasarkan jarak terdekat antara **Decision Boundary** dengan anggota dari class yang ingin dipisahkan dan setia anggota class yang berperan untuk menentukan **Margin** dikenal sebagai **Support Vector**. Untuk kasus kita disini, terdapat 3 point sebagai **Support Vector** (2 merupakan titik berwarna **biru** dan satu titik berawarna **hijau**). Ketiga data point tersebut berperan sebagai **Support Vector** untuk kasus kita kali ini, dimana **Support Vector** tersebut merupakan anggota dari suatu class yang posisinya paling dekat dengan **Decision Boundary**. Dalam menentukan **Decision Boundary**, **_SVM_** akan memilih berdasarkan **Margin** terbesar atau juga dikenal dengan istilah **Maximum Margin**. "
   ]
  },
  {
   "cell_type": "markdown",
   "id": "9997ca19",
   "metadata": {
    "id": "f59b2e11"
   },
   "source": [
    "# Linearly Inseperable & Kernel Tricks\n",
    "\n",
    "Pada kedua contoh kasus sebelumnya, kita sudah mengenal pemanfaatan dari garis lurus atau linear sebagai **Decision Boundary**. Hanya saja, terdapat beberapa kasus dimana class yang ada tidak bisa dipisahkan dengan memanfaatkan garis linear. Untuk lebih jelasnya, kita akan bersama-sama mempelajari contoh kasus pada gambar dibawah ini.\n",
    "\n",
    "![title](GambarTaks14/svm_kernel_01.png)\n",
    "\n",
    "Pada contoh kasus tersebut, juga terdapat 2 buah class yaitu class **titik** dan class **x** (perhatikan pada gambar sisi kiri). Pada gambar tersebut juga terdapat 2 buah feature sehingga ketika dilakukan plotting, kita akan mendapatkan plotting 2 dimensi tersebut. Jika perhatikan pada kasus kali ini (pada gambar sisi kiri), tidaklah memungkinkan bagi kita untuk menarik garis linear sebagai **Decision Boundary**, kondisi tersebut juga dikenal dengan istilah **Linearly Inseperable**. untuk mengatasi semacam tersebut, *__SVM__* akan memproyeksikan data yang ada ke **Higher Dimention** atau ke dimensi yang lebih tinggi artinya, bila data yang sebelumnya berada dalam 2 dimensi, maka **_SVM_** akan memproyeksikannya ke 3 dimensi (bisa dilihat pada gambar pada sisi sebelah kanan) yang merupakan hasil proyeski 3 dimensi dari data sebelumnya yang berbentuk 2 dimensi, dan bisa kita lihat pada gambar tersebut, setelah diproyeksikan ke dimensi yang lebihi tinggi, kedua class **titik** dan class **x** tersebut bisa dipisahkan dengan lebih mudah yaitu dengan menerapkan **Decision Boundary** berbentuk bidang datar. \n",
    "\n",
    "Jadi pada gambar sisi sebelah kanan atau tiga dimensi tersebut kita bisa menempatkan suatu bidang datar yang akan berperan sebagai **Decision Boundary** yang memisahkan antara class **titik** dengan class **x**. Upaya untuk memproyeksikan sekumpulan data ke dimensi yang lebih tinggi tentunya juga akan berdampak pada kenaikan beban komputasi. Untuk menjawab kebutuhan tersebut, **_SVM_** menawarkan teknik yang sangat efisien yang dikenal dengan istilah **Kernel Tricks**. **_SVM_** sendiri menawarkan beberapan jenis kernel seperti **Polynomial**, **Sigmoid**, dan **_RBF_** atau **Radial Basis Function**. \n",
    "\n",
    "Pemanfaatan **_SVM_** dan **Kernel Tricks** untuk membentuk **Decision Boundary** inilah yang akhirnya menjadikan model machine learning ini diberi nama **Support Vector Machine** yang merupakan beberapa konsep dasar yang perlu diketahui terkait **_SVM_**.\n",
    "\n",
    "Selanjutnya kita akan mempelajari beberapa pengaplikasian **_SVM_** dengan memanfaatkan **SKLearn**.\n",
    "\n"
   ]
  },
  {
   "cell_type": "markdown",
   "id": "5f38f879",
   "metadata": {
    "id": "d6443853"
   },
   "source": [
    "# Dataset : The MNIST Database of Handwritten Digits"
   ]
  },
  {
   "cell_type": "code",
   "execution_count": 14,
   "id": "9c807cd1",
   "metadata": {
    "colab": {
     "base_uri": "https://localhost:8080/"
    },
    "id": "49119980",
    "outputId": "733fee1d-8fdb-481a-b1c6-68bd794cf7fd"
   },
   "outputs": [
    {
     "data": {
      "text/plain": [
       "(70000, 784)"
      ]
     },
     "execution_count": 14,
     "metadata": {},
     "output_type": "execute_result"
    }
   ],
   "source": [
    "from sklearn.datasets import fetch_openml\n",
    "\n",
    "X, y = fetch_openml('mnist_784', data_home='./dataset/mnist', return_X_y=True)\n",
    "X.shape "
   ]
  },
  {
   "cell_type": "markdown",
   "id": "ee0a12ad",
   "metadata": {
    "id": "bb81f743"
   },
   "source": [
    "- Pertama-tama kita akan siapkan terlebih dahulu datasetnya. Untuk kasus kita kali ini, kita akan mengadopsi **Handwritten Digits** yang merupakan open dataset yang ditawarkan oleh **MNIST**.kita bisa mendownloadnya dengan memanfaatkan modul *_fetch_openml_* karena dataset ini juga tersedia pada repositori openml.\n",
    "- modul *_fetch_openml_* dengan memanggil fungsi \"from sklearn.datasets import fetch_openml\".\n",
    "- Lalu berikutnya, kita tinggal panggil saja \"fetch_openml\" dan menyebutkan nama datasetnya adalah 'mnist_784', lalu kita juga akan spesifikasikan lokasi pada lokal machine kita untuk mendownload datasetnya yang untuk kasus kita kali ini, kita akan tempatkan pada directory dataset mnist \"data_home='./dataset/mnist/'\".\n",
    "- Lalu berikutnya, kita akan langsung pisahkan atntara feature dengan target labelnya. Oleh karenanya, kita disini sertakan \"return_X_y\" yang diberi nilai True.\n",
    "- Disini juga kita akan menyertakan variabel X dan y dimana variabel x akan menampung sekumpulan nilai features dan variabel y digunakan untuk menampung sekumpulan nilai target labelnya.\n",
    "- Lalu berikutnya kita akan tampilkan dimensi data dari featuresnya.\n",
    "\n",
    "Dimensi variabel yang dibuat x nya adalah 70000 untuk jumlah barisnya dan 784 untuk jumlah kolomnya, Dataset ini juga umum digunakan untuk melakukan perbandingan model machine learning dalam mengenali angka atau bilangan dari tulisan tangan manusia.\n",
    "\n",
    "Selanjutnya kita akan mencoba untuk menampilkan 8 data pertama dari dataset ini. Karena dataset kali ini merupakan data image atau data gambar, maka kita akan menggunakan *mathplotlib* untuk menampilkan datanya."
   ]
  },
  {
   "cell_type": "code",
   "execution_count": 15,
   "id": "9b3842d7",
   "metadata": {
    "colab": {
     "base_uri": "https://localhost:8080/",
     "height": 67
    },
    "id": "f970f219",
    "outputId": "55e35324-60e5-4df1-dc37-ea4afea6348d"
   },
   "outputs": [
    {
     "data": {
      "image/png": "[encoded data removed]",
      "text/plain": [
       "<Figure size 432x288 with 8 Axes>"
      ]
     },
     "metadata": {
      "needs_background": "light"
     },
     "output_type": "display_data"
    }
   ],
   "source": [
    "import matplotlib.pyplot as plt\n",
    "import matplotlib.cm as cm\n",
    "\n",
    "pos = 1\n",
    "for data in X[:8]:\n",
    "    plt.subplot(1, 8, pos)\n",
    "    plt.imshow(data.reshape((28, 28)), \n",
    "               cmap=cm.Greys_r)\n",
    "    plt.axis('off')\n",
    "    pos += 1\n",
    "\n",
    "plt.show()"
   ]
  },
  {
   "cell_type": "markdown",
   "id": "ceda7c68",
   "metadata": {
    "id": "662c27f9"
   },
   "source": [
    "- Panggil method atau fungsi \"import matplotlib.pyplot as plt\" dan juga kita akan mengimport \"import matplotlib.cm as cm\". Dimana *_cm_* ini merepresentasikan **Colour Map**.\n",
    "- Lakukan looping terhadap 8 baris pertama dari dataset kita. Oleh karenanya kita memanggil \"for data in X[:8]:\" dimana kita melakukan slishing terpada 8 data pertama atau 8 baris pertama dari variabel **X**.\n",
    "- Hasil outputnya ada  8 data pertama yang merupakan tulisan tangan manusia atau **Human Handwritten** yang merepresentasikan bilangan atau angka. Bagi kita manusia, tentunya sangat mudah untuk memahami angka-angka pada hasil output data tersebut. Tetapi bagi komputer, ini bukan merupakan hal yang mudah."
   ]
  },
  {
   "cell_type": "code",
   "execution_count": 16,
   "id": "66df162b",
   "metadata": {
    "colab": {
     "base_uri": "https://localhost:8080/"
    },
    "id": "4b5d5d70",
    "outputId": "9c40a85b-266a-48bc-cf98-159f9cca1080"
   },
   "outputs": [
    {
     "data": {
      "text/plain": [
       "array(['5', '0', '4', '1', '9', '2', '1', '3'], dtype=object)"
      ]
     },
     "execution_count": 16,
     "metadata": {},
     "output_type": "execute_result"
    }
   ],
   "source": [
    "y[:8]"
   ]
  },
  {
   "cell_type": "markdown",
   "id": "1bbab4dc",
   "metadata": {
    "id": "29f2db51"
   },
   "source": [
    "Hasil tadi bertujuan untuk menampilkan 8 label yang berkolerasi dengan 8 data pertama. Dimana data pertama akan diberi label **5**, gambar kedua akan diberi label **0**, gambar ketiga akan diberi label **4**, gambar keempat akan diberi label **1**, gambar kelima akan diberi label **9**, gambar keenam akan diberi label **2**, gambar ketujuh akan diberi label **1**, dan gambar kedelapan akan diberi label **3**."
   ]
  },
  {
   "cell_type": "code",
   "execution_count": 17,
   "id": "16c69b90",
   "metadata": {
    "id": "177486ff"
   },
   "outputs": [],
   "source": [
    "# X_train = X[:60000]\n",
    "# y_train = y[:60000]\n",
    "# X_test = X[60000:]\n",
    "# y_test = y[60000:]\n",
    "\n",
    "X_train = X[:1000]\n",
    "y_train = y[:1000]\n",
    "X_test = X[69000:]\n",
    "y_test = y[69000:]"
   ]
  },
  {
   "cell_type": "markdown",
   "id": "5c7f19b4",
   "metadata": {
    "id": "3573a7e1"
   },
   "source": [
    "- Pada code tersebut terdapat dua bagian yaitu ada bagin yang di comment lalu ada juga yang uncomment. Untuk bagian yang di comment tersebut, merupakan bagian yang sebaiknya dicoba pada pc atua komputer kita masing-masing.\n",
    "- Bisa kita lihat ketika kita mencoba, kita akan menggunakan 60000 data pertama sebagai *_training set_* dan 1000 data yang terakhir akan kita gunakan sebagai *_testing set_* nya. Hanya saja untuk yang kita lakukan atau demokan kali ini, kita hanya akan menggunakan 1000 data pertama sebagai *_training set_* dan 1000 data terakhir sebagai *_testing set_*.\n",
    "- Setalah *_training set_* dan *_testing set_* nya terbentuk, maka kita akan coba melanjutkan pada tahapan berikutnya."
   ]
  },
  {
   "cell_type": "markdown",
   "id": "3142300f",
   "metadata": {
    "id": "5de48953"
   },
   "source": [
    "# Classification dengan SVC (Support Vector Classifier)"
   ]
  },
  {
   "cell_type": "markdown",
   "id": "76d397bc",
   "metadata": {
    "id": "923fe3d4"
   },
   "source": [
    "Pada kali ini kita akan menerapkan **Support Vector Machine** untuk melakukan klasifikasi angka numerik berdasarkan dataset tulisan tangan yang kita miliki."
   ]
  },
  {
   "cell_type": "code",
   "execution_count": 18,
   "id": "bdcb12ef",
   "metadata": {
    "colab": {
     "base_uri": "https://localhost:8080/"
    },
    "id": "211414e6",
    "outputId": "5e01cb4e-f972-450a-e320-df725876f5e2"
   },
   "outputs": [
    {
     "data": {
      "text/plain": [
       "SVC(random_state=0)"
      ]
     },
     "execution_count": 18,
     "metadata": {},
     "output_type": "execute_result"
    }
   ],
   "source": [
    "from sklearn.svm import SVC\n",
    "\n",
    "model = SVC(random_state=0)\n",
    "model.fit(X_train, y_train)"
   ]
  },
  {
   "cell_type": "markdown",
   "id": "054ce970",
   "metadata": {
    "id": "7b9083d1"
   },
   "source": [
    "- Pertama-tama kita akan mengimport moduknya terlebih dahulu dengan memanfaatkan modul **_SVC_** atau **Support Vector Classifier** dengan memanggil method \"from sklearn.svm import SVC\". \n",
    "- Lalu berikutnya kita akan membentuk objek dari modelnya \"SVC\" dengan menyertakan parameter \"(random_state)\" yang kita beri nilai 0. Lalu obejk model yang terbentuk, akan ditampung kedalam variabel \"model\".\n",
    "- Untuk selanjutnya objek \"model\" tersebut akan kita training dengan method \"fit\" dan menyertakan _training set_ nya yaitu \"(X_train, y_train)\".\n",
    "\n",
    "Setelah modelnya ditraining, selanjutnya kita akan melakukan evaluasi performa dari model yang baruo saja kita training tersebut dengan memanfaatkan *_Classification Report_*."
   ]
  },
  {
   "cell_type": "code",
   "execution_count": 19,
   "id": "1963d502",
   "metadata": {
    "colab": {
     "base_uri": "https://localhost:8080/"
    },
    "id": "168a8685",
    "outputId": "1b013733-e8ef-4b74-9f8f-0a2a3ddc8980"
   },
   "outputs": [
    {
     "name": "stdout",
     "output_type": "stream",
     "text": [
      "              precision    recall  f1-score   support\n",
      "\n",
      "           0       0.93      0.98      0.95       102\n",
      "           1       0.97      0.99      0.98       119\n",
      "           2       0.85      0.82      0.84        99\n",
      "           3       0.97      0.87      0.92       102\n",
      "           4       0.88      0.95      0.91        92\n",
      "           5       0.91      0.86      0.88        85\n",
      "           6       0.93      0.95      0.94       102\n",
      "           7       0.92      0.94      0.93       115\n",
      "           8       0.89      0.94      0.91        94\n",
      "           9       0.92      0.84      0.88        90\n",
      "\n",
      "    accuracy                           0.92      1000\n",
      "   macro avg       0.92      0.91      0.91      1000\n",
      "weighted avg       0.92      0.92      0.92      1000\n",
      "\n"
     ]
    }
   ],
   "source": [
    "from sklearn.metrics import classification_report\n",
    "\n",
    "y_pred = model.predict(X_test)\n",
    "print(classification_report(y_test, y_pred))"
   ]
  },
  {
   "cell_type": "markdown",
   "id": "cb064c5a",
   "metadata": {
    "id": "8754196f"
   },
   "source": [
    "- Pertama-tama kita akan mengimport terlebih dahulu *_Classification Report_* nya dengan memanggil method \"from sklearn.metrics import classification_report\".\n",
    "- Lalu berikutnya, kita akan menggunakan *_testing set_* nya untuk melakukan prediksi dengan memanggil method \"model.predict(X_test)\" yang hasil prediksinya akan ditampung kedalam variabel \"y_pred\".\n",
    "- Untuk selanjutnya, hasil prediksi tersebut akan kita bandingkan dengan \"y_test\" nya dengan memanggil method \"(classification_report(y_test, y_pred))\" lalu kita akan print atau cetak hasilnya.\n",
    "\n",
    "Terdapat 10 buah class yang terdapat hasil yaitu class 0 sampai dengan 9 yang untuk setiap kelasnya terdapat nilai *_precission_*, *_recall_*, dan juga *_f1-score_*. Lalu pada hasil code tersebut juga kita memiliki nilai *_precission_*, *_recall_*, *_f1-score_*, dan juga *_accuracy_* secara keseluruhan."
   ]
  },
  {
   "cell_type": "markdown",
   "id": "29b9fe79",
   "metadata": {
    "id": "4d725ee6"
   },
   "source": [
    "# Hyperparameter Tuning dengan GridSearchCV"
   ]
  },
  {
   "cell_type": "markdown",
   "id": "4ca8d2d6",
   "metadata": {
    "id": "86148eda"
   },
   "source": [
    "Sejauh ini dalam pembelajaran mengenai machine learning, kita hampir selalu menggunaka deafult parameter setiap kali melakukan training model. Padahal untuk tiap model machine learning, terdapat sejumlah parameter yang bisa kita sesuaikan. Dalam konteks machine learning, parameter yang digunakan untuk mengatur proses training dari suatu model, dikenal dengan istilah **Hyperparameter**, dan proses untuk mencari komposisi nilai optimum dari **Hyperparameter** dikenal dengan istilah **Hyperparameter Tuning** atau **Hyperparameter Optimization**.\n",
    "\n",
    "Pada kali ini kita akan melakukan **Hyperparameter Tuning** dengan memanfaatkan modul **_GridSearchCV_** yang sudah disertakan oleh SkLearn."
   ]
  },
  {
   "cell_type": "code",
   "execution_count": 20,
   "id": "97b6851b",
   "metadata": {
    "colab": {
     "base_uri": "https://localhost:8080/"
    },
    "id": "52e9f53c",
    "outputId": "d6159be8-9d5f-408f-e386-78e72efd86ff"
   },
   "outputs": [
    {
     "name": "stdout",
     "output_type": "stream",
     "text": [
      "Fitting 5 folds for each of 60 candidates, totalling 300 fits\n"
     ]
    },
    {
     "name": "stderr",
     "output_type": "stream",
     "text": [
      "[Parallel(n_jobs=6)]: Using backend LokyBackend with 6 concurrent workers.\n",
      "[Parallel(n_jobs=6)]: Done  38 tasks      | elapsed:    9.1s\n",
      "[Parallel(n_jobs=6)]: Done 188 tasks      | elapsed:   46.2s\n",
      "[Parallel(n_jobs=6)]: Done 300 out of 300 | elapsed:  1.2min finished\n"
     ]
    },
    {
     "data": {
      "text/plain": [
       "GridSearchCV(estimator=SVC(random_state=0), n_jobs=6,\n",
       "             param_grid={'C': [0.5, 1, 10, 100],\n",
       "                         'gamma': ['scale', 1, 0.1, 0.01, 0.001],\n",
       "                         'kernel': ['rbf', 'poly', 'sigmoid']},\n",
       "             scoring='accuracy', verbose=1)"
      ]
     },
     "execution_count": 20,
     "metadata": {},
     "output_type": "execute_result"
    }
   ],
   "source": [
    "# Code 07\n",
    "\n",
    "from sklearn.model_selection import GridSearchCV\n",
    "\n",
    "parameters = {\n",
    "    'kernel': ['rbf', 'poly', 'sigmoid'],\n",
    "    'C': [0.5, 1, 10, 100],\n",
    "    'gamma': ['scale', 1, 0.1, 0.01, 0.001]\n",
    "}\n",
    "\n",
    "grid_search = GridSearchCV(estimator=SVC(random_state=0),\n",
    "                           param_grid=parameters,\n",
    "                           n_jobs=6,\n",
    "                           verbose=1,\n",
    "                           scoring='accuracy')\n",
    "\n",
    "grid_search.fit(X_train, y_train)"
   ]
  },
  {
   "cell_type": "markdown",
   "id": "463e97d4",
   "metadata": {
    "id": "da2a4692"
   },
   "source": [
    "- Disini pertama-tama kita akan mengimport terlebih dahulu modulnya dengan memanggil method \"from sklearn.model_selection import GridSearchCV\".\n",
    "- Lalu berikutnya kita akan spesfikasikan sekumpulan parameter beserta pilihan nilai yang akan kita kombinasikan. Semisal saja disini, kita ingin melakukan parameter tuning untuk tiga parameter yaitu \"kernel\", \"C\", dan \"gamma\" dan ketiganya tersebut merupakan yang bisa ditemui didalam **_SVM_**.\n",
    "- Lalu berikutnya, untuk setiap parameter tersebut akan kita tentukan pilihan nilainya. Untuk \"kernel\" disini pilihannya ada \"['rbf', 'poly', 'sigmoid']\", untuk nilai \"C\" disini kita tentukan angkanya yaitu \"[0.5, 1, 10, 100]\", dan untuk \"gamma\" nya kita tentukan pilihannya mulai dari \"['scale', 1, 0.1, 0.01, 0.001]\".\n",
    "- Pada intinya disini kita akan mencari tahu kombinasi nilai yang paling baik untuk parameter \"kernel\", \"C\", dan \"gamma\" yang bisa kita terapkan terhadap objek **Support Vector Classifier** pada kasus kita. Kita bisa saja mencobanya satu persatu dengan memanfaatkan looping, hanya saja kode program yang dihasilkan tidak akan bersih. Oleh karenanya, disini kita akan mencoba memanfaatkan fasilitas yang sudah ditawarkan oleh SkLearn yang dalam hal ini adalah **GridSearch**.\n",
    "- Cara menggunakan **GridSearch** pun cukup sederhana. Pertama-tama kita akan membentuk objek dari **GridSearchcv** nya dengan memanggil method \"GridSearchCV\" dengan menyertakan beberapa parameter. Parameter pertama adalah \"(estimator=SVC(random_state=0)\". Lalu berikutnya, kita juga perlu spesfikasikan \"param_grid\" atau parameter grid yang nilainya akan kita asosiasikan dengan \"parameters\" yang baru saja kita spesifikasikan sebelumnya. Selanjutnya yang akan kita atur adalah \"n_jobs\" atau number of jobs yang pada kali ini kita set sebagai 6 yang artinya kita mau menjalankan proses ini secara pararel pada 6 thread dari prosesor kita (yang kita sesuaikan dengan prosesor yang kita miliki). Lalu berikutnya, kita juga akan menset parameter \"verbose\" nya dengan nilai 1 betrtujuan agar ketika prosesnya berjalan, kita juga mendapatkan feedback yang cukup informatif. Lalu berikutnya kita juga perlu menentukan parameter \"scoring\" yang untuk kasus kita kali ini, kita set  nilainya dengan \"accuracy\" artinya nilai pebanding yang kita gunakan adalah accuracy.\n",
    "- Setelah objek \"gridSearchCV\" nya terbentuk, objeknya akan kita tampung kedalam variabel \"grid_search\".\n",
    "- Lalu penerapnnya juga cukup mudah, disini kita tidak lagi memanggil \"model.fit\" melainikan method fit tersebut akan kita panggil dari objek \"grid_search\" nya \"grid_search.fit(X_train, y_train)\"\n",
    "\n",
    "hasil yang keluar dari code di atas tersebut bahwa fiitingnya akan dilakukan 5 fold atau 5 kali dimana untuk setiap foldnya terdapat 60 candidates, artinya total terdapat 300 proses fitting yang terjadi."
   ]
  },
  {
   "cell_type": "code",
   "execution_count": 21,
   "id": "563a987e",
   "metadata": {
    "id": "32d12970",
    "outputId": "fca6d352-6861-48ee-dcfb-622530a8ac84"
   },
   "outputs": [
    {
     "name": "stdout",
     "output_type": "stream",
     "text": [
      "Best Score: 0.907\n",
      "Best Parameters:\n",
      "\tkernel: rbf\n",
      "\tC: 10\n",
      "\tgamma: scale\n"
     ]
    }
   ],
   "source": [
    "print(f'Best Score: {grid_search.best_score_}')\n",
    "\n",
    "best_params = grid_search.best_estimator_.get_params()\n",
    "print(f'Best Parameters:')\n",
    "for param in parameters:\n",
    "    print(f'\\t{param}: {best_params[param]}')"
   ]
  },
  {
   "cell_type": "markdown",
   "id": "04e4bb9e",
   "metadata": {
    "id": "ad869a14"
   },
   "source": [
    "- Pertama-tama disini kita akan mencoba mengakses terlebih dahulu score terbaiknya atau akurasi terbaiknya dengan cara memanggil method \"grid_search.best_score_\" yang kita sertakan fungsi print untuk melihat hasilnya. \n",
    "- Pada tahapan berikutnya, kita juga bisa mendapatkan nilai parameter terbaiknya dengan mengkases method \"grid_search.best_estimator_.get_params()\". Lalu sekumpulna nilai parameter tersebut akan kita tampung kedalam variabel \"best_params\".\n",
    "- Untuk selanjutnya akan kita looping dan coba kita tampilkan pada layar.\n",
    "\n",
    "Score accuracy terbaik dari proses *_Grid Search_* nya adalah 0.907 dan komposisi nilai parameters terbaik yang berhasil ditemukan adalah **kernel** nya adalah *_rbf_*, nilai **C** nya adalah 10, dan nilai parameter **gamma** nya adalah *_scale_*.\n"
   ]
  },
  {
   "cell_type": "markdown",
   "id": "df584ad2",
   "metadata": {
    "id": "a5600002"
   },
   "source": [
    "# Predict & Evaluate"
   ]
  },
  {
   "cell_type": "markdown",
   "id": "8789283d",
   "metadata": {
    "id": "776b9128"
   },
   "source": [
    "Selanjutnya kita akan melakukan evaluasi peforma dari model yang baru saja kita training tadi. Disini kita juga akan memanfaatkan *_Classification Report_*. "
   ]
  },
  {
   "cell_type": "code",
   "execution_count": 22,
   "id": "f19df081",
   "metadata": {
    "id": "5f7b2ac3",
    "outputId": "5ab03653-cdc0-4606-dd8a-8a361caecb3b"
   },
   "outputs": [
    {
     "name": "stdout",
     "output_type": "stream",
     "text": [
      "              precision    recall  f1-score   support\n",
      "\n",
      "           0       0.93      0.98      0.96       102\n",
      "           1       0.98      0.99      0.98       119\n",
      "           2       0.87      0.85      0.86        99\n",
      "           3       0.99      0.89      0.94       102\n",
      "           4       0.91      0.95      0.93        92\n",
      "           5       0.92      0.89      0.90        85\n",
      "           6       0.93      0.94      0.94       102\n",
      "           7       0.93      0.93      0.93       115\n",
      "           8       0.89      0.95      0.92        94\n",
      "           9       0.92      0.88      0.90        90\n",
      "\n",
      "    accuracy                           0.93      1000\n",
      "   macro avg       0.93      0.92      0.92      1000\n",
      "weighted avg       0.93      0.93      0.93      1000\n",
      "\n"
     ]
    }
   ],
   "source": [
    "y_pred = grid_search.predict(X_test)\n",
    "\n",
    "print(classification_report(y_test, y_pred))"
   ]
  },
  {
   "cell_type": "markdown",
   "id": "4819a238",
   "metadata": {
    "id": "ff1f5674"
   },
   "source": [
    "- Untuk melakukan prediksi disini juga agak sedikit berbeda, kita tidak menggunakan \"model.predict\" melainkan kita akan memanfaatkan objek *_grid_search_* nya dengan memanggil method \"grid_search.predict\" dengan menyertakan nilai dari variabel \"(X_test)\". Lalu hasil prediksinya kita akan tampung kedalam variabel \"y_pred\".\n",
    "- Untuk selanjutnya nilai \"y_pred\" tersebut kita akan bandingkan dengan nilai \"y_test\" dengan menggunakan \"classification_report\"."
   ]
  },
  {
   "cell_type": "markdown",
   "id": "0f7c9f57",
   "metadata": {},
   "source": [
    "## Referensi"
   ]
  },
  {
   "cell_type": "markdown",
   "id": "e58c2c27",
   "metadata": {
    "id": "e020ca89"
   },
   "source": [
    "- Referensi : https://www.quora.com/What-is-the-kernel-trick\n",
    "- Referensi : http://yann.lecun.com/exdb/mnist/\n",
    "- Referensi: https://en.wikipedia.org/wiki/Hyperparameter_optimization"
   ]
  }
 ],
 "metadata": {
  "colab": {
   "collapsed_sections": [],
   "name": "14 Support Vector Machine Classification (SVM).ipynb",
   "provenance": []
  },
  "kernelspec": {
   "display_name": "Python 3 (ipykernel)",
   "language": "python",
   "name": "python3"
  },
  "language_info": {
   "codemirror_mode": {
    "name": "ipython",
    "version": 3
   },
   "file_extension": ".py",
   "mimetype": "text/x-python",
   "name": "python",
   "nbconvert_exporter": "python",
   "pygments_lexer": "ipython3",
   "version": "3.9.17"
  }
 },
 "nbformat": 4,
 "nbformat_minor": 5
}
