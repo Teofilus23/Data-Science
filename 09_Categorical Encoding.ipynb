{
 "cells": [
  {
   "cell_type": "markdown",
   "metadata": {},
   "source": [
    "# 09 Mengenal Categorical Encoding:  Label Encoding & One Hot Encoding "
   ]
  },
  {
   "cell_type": "markdown",
   "metadata": {},
   "source": [
    "Mempelajari dua macam categorical encoding yang umum ditemui dalam bidang machine learning yaitu \"Label Encoding\" dan \"One Hot Encoding\"."
   ]
  },
  {
   "cell_type": "markdown",
   "metadata": {},
   "source": [
    "## Categori Encoding"
   ]
  },
  {
   "cell_type": "markdown",
   "metadata": {},
   "source": [
    "Secara umum, suatu dataset akan terbentuk dari kombinasi nilai numerical dan categorical, hanya saja komputer atau mesin memiliki keterbatasan. Dimana pada dasarnya, komputer hanya dapat memahami angka atau numerikal dan tidak dapat memahami teks atau categorical. Oleh karenanya, kita butuh untuk melakukan konversi nilai categorical tersebut menjadi nilai numerikal agar algoritma machine learning dapat memahaminya dengan baik.\n",
    "\n",
    "Proses konversi nilai categorical menjadi nilai numerikal tersebut dikenal dengan istilah \"Categorical Encoding\".\n",
    "\n",
    "Dalam bidang machine learning terdapat banyak jenis categorical encoding dan dua yang paling populer yaitu :\n",
    "\n",
    "- Label Encoding\n",
    "- One Hot Encoding"
   ]
  },
  {
   "cell_type": "markdown",
   "metadata": {},
   "source": [
    "## Label Encoding"
   ]
  },
  {
   "cell_type": "markdown",
   "metadata": {},
   "source": [
    "Pada Label Encoding, setiap kategori pada suatu feature akan diurutkan secara alfabet dan direpresentasikan dengan sebuah nilai integer."
   ]
  },
  {
   "cell_type": "markdown",
   "metadata": {},
   "source": [
    "### Sample Dataset"
   ]
  },
  {
   "cell_type": "code",
   "execution_count": 20,
   "metadata": {},
   "outputs": [
    {
     "data": {
      "text/html": [
       "<div>\n",
       "<style scoped>\n",
       "    .dataframe tbody tr th:only-of-type {\n",
       "        vertical-align: middle;\n",
       "    }\n",
       "\n",
       "    .dataframe tbody tr th {\n",
       "        vertical-align: top;\n",
       "    }\n",
       "\n",
       "    .dataframe thead th {\n",
       "        text-align: right;\n",
       "    }\n",
       "</style>\n",
       "<table border=\"1\" class=\"dataframe\">\n",
       "  <thead>\n",
       "    <tr style=\"text-align: right;\">\n",
       "      <th></th>\n",
       "      <th>country</th>\n",
       "      <th>age</th>\n",
       "      <th>salary</th>\n",
       "    </tr>\n",
       "  </thead>\n",
       "  <tbody>\n",
       "    <tr>\n",
       "      <th>0</th>\n",
       "      <td>Indonesia</td>\n",
       "      <td>25</td>\n",
       "      <td>62000</td>\n",
       "    </tr>\n",
       "    <tr>\n",
       "      <th>1</th>\n",
       "      <td>Canada</td>\n",
       "      <td>44</td>\n",
       "      <td>75000</td>\n",
       "    </tr>\n",
       "    <tr>\n",
       "      <th>2</th>\n",
       "      <td>Japan</td>\n",
       "      <td>56</td>\n",
       "      <td>98000</td>\n",
       "    </tr>\n",
       "    <tr>\n",
       "      <th>3</th>\n",
       "      <td>Belgia</td>\n",
       "      <td>35</td>\n",
       "      <td>85000</td>\n",
       "    </tr>\n",
       "    <tr>\n",
       "      <th>4</th>\n",
       "      <td>Korea</td>\n",
       "      <td>23</td>\n",
       "      <td>64000</td>\n",
       "    </tr>\n",
       "  </tbody>\n",
       "</table>\n",
       "</div>"
      ],
      "text/plain": [
       "     country  age  salary\n",
       "0  Indonesia   25   62000\n",
       "1     Canada   44   75000\n",
       "2      Japan   56   98000\n",
       "3     Belgia   35   85000\n",
       "4      Korea   23   64000"
      ]
     },
     "execution_count": 20,
     "metadata": {},
     "output_type": "execute_result"
    }
   ],
   "source": [
    "import pandas as pd\n",
    "\n",
    "df = pd.DataFrame({\n",
    "    'country': ['Indonesia', 'Canada', 'Japan', 'Belgia', 'Korea'],\n",
    "    'age': [25, 44, 56, 35, 23],\n",
    "    'salary': [62000, 75000, 98000, 85000, 64000]\n",
    "})\n",
    "\n",
    "df"
   ]
  },
  {
   "cell_type": "markdown",
   "metadata": {},
   "source": [
    "Dataset tersebut terbentuk menjadi 3 case yang akan merepresentasikan 3 buah kolom, yaitu country, age, dan salary. Case tersebut akan berisi nilai yang berasosiasi dengan key tersebut. Kemudian dictionary tersebut akan ditampung dalam variabel objek df untuk selanjutnya dapat ditampilkan hasilnya.\n",
    "\n",
    "Output yang keluar terdapat tiga buah kolom pada DataFrame kali ini yaitu \"country\", \"age\", serta \"salary\" yang dari ketiga kolom tersebut terdapat sebuah kolom dengan nilai categorical yaitu kolom \"country\" yang akan kita terapkan label encoding terhadap kolom tersebut.\n",
    "\n",
    "karena kolom country merupakan kolom String"
   ]
  },
  {
   "cell_type": "markdown",
   "metadata": {},
   "source": [
    "### Label Encoding pada Scikit Learn"
   ]
  },
  {
   "cell_type": "code",
   "execution_count": 21,
   "metadata": {},
   "outputs": [
    {
     "data": {
      "text/html": [
       "<div>\n",
       "<style scoped>\n",
       "    .dataframe tbody tr th:only-of-type {\n",
       "        vertical-align: middle;\n",
       "    }\n",
       "\n",
       "    .dataframe tbody tr th {\n",
       "        vertical-align: top;\n",
       "    }\n",
       "\n",
       "    .dataframe thead th {\n",
       "        text-align: right;\n",
       "    }\n",
       "</style>\n",
       "<table border=\"1\" class=\"dataframe\">\n",
       "  <thead>\n",
       "    <tr style=\"text-align: right;\">\n",
       "      <th></th>\n",
       "      <th>country</th>\n",
       "      <th>age</th>\n",
       "      <th>salary</th>\n",
       "    </tr>\n",
       "  </thead>\n",
       "  <tbody>\n",
       "    <tr>\n",
       "      <th>0</th>\n",
       "      <td>2</td>\n",
       "      <td>25</td>\n",
       "      <td>62000</td>\n",
       "    </tr>\n",
       "    <tr>\n",
       "      <th>1</th>\n",
       "      <td>1</td>\n",
       "      <td>44</td>\n",
       "      <td>75000</td>\n",
       "    </tr>\n",
       "    <tr>\n",
       "      <th>2</th>\n",
       "      <td>3</td>\n",
       "      <td>56</td>\n",
       "      <td>98000</td>\n",
       "    </tr>\n",
       "    <tr>\n",
       "      <th>3</th>\n",
       "      <td>0</td>\n",
       "      <td>35</td>\n",
       "      <td>85000</td>\n",
       "    </tr>\n",
       "    <tr>\n",
       "      <th>4</th>\n",
       "      <td>4</td>\n",
       "      <td>23</td>\n",
       "      <td>64000</td>\n",
       "    </tr>\n",
       "  </tbody>\n",
       "</table>\n",
       "</div>"
      ],
      "text/plain": [
       "   country  age  salary\n",
       "0        2   25   62000\n",
       "1        1   44   75000\n",
       "2        3   56   98000\n",
       "3        0   35   85000\n",
       "4        4   23   64000"
      ]
     },
     "execution_count": 21,
     "metadata": {},
     "output_type": "execute_result"
    }
   ],
   "source": [
    "from sklearn.preprocessing import LabelEncoder\n",
    "\n",
    "label_encoder = LabelEncoder()\n",
    "df['country'] = label_encoder.fit_transform(df['country'])\n",
    "df"
   ]
  },
  {
   "cell_type": "markdown",
   "metadata": {},
   "source": [
    "Untuk menerapkan label encoding dengan SkLearn caranya sebagai berikut :\n",
    "\n",
    "1. Pertama-tama, lakukan import modul dengan memanggil \"from sklearn.preprocessing import LabelEncoder\".\n",
    "2. Lalu selanjutnya, bentuk objek dari class \"LabelEncoder()\" yang akan ditampung kedalam variabel \"label_encoder\".\n",
    "3. Berikutnya, \"label_encoder\" tersebut akan digunakan untuk melakukan fit transform terhadap kolom \"country\" dari dataframe dengan memanggil \"label_encoder.fit_transform(df['country'])\" yang hasil tranformasinya akan ditampung kembali kedalam kolom country dengan memanggil \"df['country] =\".\n",
    "4. Selanjutnya tampilkan nilai dfnya pada layar.\n",
    "\n",
    "Berdasarkan output yang keluar bisa dilihat perbedaan sebelum dataset dikenakan dan dikenakan pada label encoding. lalu sebelum label encoding nya diterapkan, kolom \"country\" tersebut berisi data text. Sedangkan setelah label encodingnya diterapkan, kolom \"country\" tersebut menjadi data numerik.\n",
    "\n",
    "Untuk memahami mengapa nilai-nilai tersebut bisa berubah menjadi dari categorical menjadi numerik seperti dalam kasus tersebut makai. Untuk memahami hal tersebut maka Kita coba menggunakan classes"
   ]
  },
  {
   "cell_type": "code",
   "execution_count": 22,
   "metadata": {},
   "outputs": [
    {
     "data": {
      "text/plain": [
       "array(['Belgia', 'Canada', 'Indonesia', 'Japan', 'Korea'], dtype=object)"
      ]
     },
     "execution_count": 22,
     "metadata": {},
     "output_type": "execute_result"
    }
   ],
   "source": [
    "label_encoder.classes_"
   ]
  },
  {
   "cell_type": "markdown",
   "metadata": {},
   "source": [
    "Untuk mengetahui proses perubahan teks menjadi nilai numerik pada country. Hasilnya merupakan kumpulan class atau kategori dari label encoding yang dilakukan. \n",
    "\n",
    "Berdasarkan hasil Output yang keluar pengurutannya berdasarkan Alphabet dan perhitungannya yaitu 'Belgia' = 0, 'Canada' = 1, 'Indonesia' = 2, 'Japan' = 3, 'Korea' = 4\n",
    "\n",
    "Pada Label Encoding ini ada kelemahanan salah satu kelemahan dasar dari label encoding ini. Jika diperhatikan, kategori atau label negara akan diurutkan secara alphabet. Oleh karena itu dengan representasi nilai semacam ini, beberapa algoritma machine learning bisa saja menarik hubungan bahwa Indonesia bernilai lebih kecil dari Japan, dan Japan bernilai lebih kecil dari Korea dan kondisi semecam ini tentunya tidak diharapkan. Untuk mengantisipasi kondisi tersebut, maka kita akan mempelajari jenis categorical encoding yang kedua."
   ]
  },
  {
   "cell_type": "markdown",
   "metadata": {},
   "source": [
    "## One Hot Encoding"
   ]
  },
  {
   "cell_type": "markdown",
   "metadata": {},
   "source": [
    "Jenis categorical encoding kedua yaitu \"One Hot Encoding\". Pada One Hot Encoding, setiap kategori pada suatu feature akan diurutkan secara alfabet dan direpresentasikan sebagai sekumpulan bits."
   ]
  },
  {
   "cell_type": "markdown",
   "metadata": {},
   "source": [
    "### Dataset"
   ]
  },
  {
   "cell_type": "code",
   "execution_count": 23,
   "metadata": {},
   "outputs": [
    {
     "data": {
      "text/html": [
       "<div>\n",
       "<style scoped>\n",
       "    .dataframe tbody tr th:only-of-type {\n",
       "        vertical-align: middle;\n",
       "    }\n",
       "\n",
       "    .dataframe tbody tr th {\n",
       "        vertical-align: top;\n",
       "    }\n",
       "\n",
       "    .dataframe thead th {\n",
       "        text-align: right;\n",
       "    }\n",
       "</style>\n",
       "<table border=\"1\" class=\"dataframe\">\n",
       "  <thead>\n",
       "    <tr style=\"text-align: right;\">\n",
       "      <th></th>\n",
       "      <th>country</th>\n",
       "      <th>age</th>\n",
       "      <th>salary</th>\n",
       "    </tr>\n",
       "  </thead>\n",
       "  <tbody>\n",
       "    <tr>\n",
       "      <th>0</th>\n",
       "      <td>Indonesia</td>\n",
       "      <td>25</td>\n",
       "      <td>62000</td>\n",
       "    </tr>\n",
       "    <tr>\n",
       "      <th>1</th>\n",
       "      <td>Canada</td>\n",
       "      <td>44</td>\n",
       "      <td>75000</td>\n",
       "    </tr>\n",
       "    <tr>\n",
       "      <th>2</th>\n",
       "      <td>Japan</td>\n",
       "      <td>56</td>\n",
       "      <td>98000</td>\n",
       "    </tr>\n",
       "    <tr>\n",
       "      <th>3</th>\n",
       "      <td>Belgia</td>\n",
       "      <td>35</td>\n",
       "      <td>85000</td>\n",
       "    </tr>\n",
       "    <tr>\n",
       "      <th>4</th>\n",
       "      <td>Korea</td>\n",
       "      <td>23</td>\n",
       "      <td>64000</td>\n",
       "    </tr>\n",
       "  </tbody>\n",
       "</table>\n",
       "</div>"
      ],
      "text/plain": [
       "     country  age  salary\n",
       "0  Indonesia   25   62000\n",
       "1     Canada   44   75000\n",
       "2      Japan   56   98000\n",
       "3     Belgia   35   85000\n",
       "4      Korea   23   64000"
      ]
     },
     "execution_count": 23,
     "metadata": {},
     "output_type": "execute_result"
    }
   ],
   "source": [
    "df = pd.DataFrame({\n",
    "    'country': ['Indonesia', 'Canada', 'Japan', 'Belgia', 'Korea'],\n",
    "    'age': [25, 44, 56, 35, 23],\n",
    "    'salary': [62000, 75000, 98000, 85000, 64000]\n",
    "})\n",
    "\n",
    "df"
   ]
  },
  {
   "cell_type": "markdown",
   "metadata": {},
   "source": [
    "Sama dengan dataset yang sebelumnya pada label encoding kemudian akan menerapkan one hot encoding pada kolom country."
   ]
  },
  {
   "cell_type": "markdown",
   "metadata": {},
   "source": [
    "### One Hot Encoding pada Scikit Learn"
   ]
  },
  {
   "cell_type": "code",
   "execution_count": 24,
   "metadata": {},
   "outputs": [
    {
     "data": {
      "text/plain": [
       "array([['Indonesia'],\n",
       "       ['Canada'],\n",
       "       ['Japan'],\n",
       "       ['Belgia'],\n",
       "       ['Korea']], dtype=object)"
      ]
     },
     "execution_count": 24,
     "metadata": {},
     "output_type": "execute_result"
    }
   ],
   "source": [
    "X = df['country'].values.reshape(-1,1)\n",
    "X"
   ]
  },
  {
   "cell_type": "markdown",
   "metadata": {},
   "source": [
    "1. kita akan isolasi terlebih dahulu sekumpulan nilai dari kolom \"country\" tersebut. Dimana sekumpuan nilai tersebut akan kita konversikan menjadi sebuah array dengan memanggil \"df['country'].values.reshape(-1,1)\".\n",
    "2. Lalu nilai array tersebut akan kita tampung kedalam variabel X.\n",
    "3. Selanjutnya kita akan coba tampilkan ke layar.\n",
    "\n",
    "Kita butuh untuk melakukan reshape(-1,1) karena sekumpulan nilai output tersebut akan kita perlakukan sebagai nilai feature, dimana nilai feature dalam sklearn itu diharapkan ditampung dalam suatu array dua dimensi.\n",
    "\n",
    "intinya\n",
    "\n",
    "Mengisolasi sekumpulan nilai menjadi array dengan memanggil df['country'].values.reshape(-1,1) yang akan ditampung pada variabel X yang kemudian akan ditampilkan hasilnya. "
   ]
  },
  {
   "cell_type": "code",
   "execution_count": 25,
   "metadata": {},
   "outputs": [
    {
     "data": {
      "text/plain": [
       "array([[0., 0., 1., 0., 0.],\n",
       "       [0., 1., 0., 0., 0.],\n",
       "       [0., 0., 0., 1., 0.],\n",
       "       [1., 0., 0., 0., 0.],\n",
       "       [0., 0., 0., 0., 1.]])"
      ]
     },
     "execution_count": 25,
     "metadata": {},
     "output_type": "execute_result"
    }
   ],
   "source": [
    "from sklearn.preprocessing import OneHotEncoder\n",
    "\n",
    "onehot_encoder = OneHotEncoder()\n",
    "X = onehot_encoder.fit_transform(X).toarray()\n",
    "X"
   ]
  },
  {
   "cell_type": "markdown",
   "metadata": {},
   "source": [
    "1. Untuk menerapkan one hot encoding deng sklearn, pertama-tama kita perlu mengimport terlebih dahulu modulnya dengan memanggil \"from sklearn.preprocessing import OneHotEncoder\".\n",
    "2. Lalu selanjutnya kita akan membentuk objek dari class one hot encoder ini \"OneHotEncoder()\" yang akan kita tampung kedalam variabel \"onehot_encoder\".\n",
    "3. Berikutnya, objek tersebut akan kita gunakan untuk melakukan fit transform terhadap X yang kita tahu X nya disini berupa array yang menampung sekumpulan nilai features \"country\".\n",
    "4. Lalu berikutnya, hasil tranformasinya akan kita konversikan mennjadi suatu array untuk kemudian kita tampung kembali kedalam variabel \"X\".\n",
    "5. Terkahir kita akan coba tampilkan hasilnya pada layar.\n",
    "\n",
    "Import modul dengan memanggil from sklearn.preprocessing import OneHotEncoder kemudian membentuk kelas OneHotEncoder() yang akan ditampung ke dalam variabel onehot_encoder. Objek tersebut akan dilakukan fit transform yang hasilnya akan menjadi array yang akan ditampung pada variabel X."
   ]
  },
  {
   "cell_type": "code",
   "execution_count": 26,
   "metadata": {},
   "outputs": [
    {
     "data": {
      "text/plain": [
       "[array(['Belgia', 'Canada', 'Indonesia', 'Japan', 'Korea'], dtype=object)]"
      ]
     },
     "execution_count": 26,
     "metadata": {},
     "output_type": "execute_result"
    }
   ],
   "source": [
    "onehot_encoder.categories_"
   ]
  },
  {
   "cell_type": "markdown",
   "metadata": {},
   "source": [
    "Menampilkan hasil array country yang sudah diurutkan secara alfabet, yaitu 'Belgia', 'Canada', 'Indonesia', 'Japan', dan 'Korea' Karena merepresentasikan 6 negara, maka tiap negara akan direpresentasikan dengan bits 5 digit. "
   ]
  },
  {
   "cell_type": "code",
   "execution_count": 27,
   "metadata": {},
   "outputs": [
    {
     "data": {
      "text/html": [
       "<div>\n",
       "<style scoped>\n",
       "    .dataframe tbody tr th:only-of-type {\n",
       "        vertical-align: middle;\n",
       "    }\n",
       "\n",
       "    .dataframe tbody tr th {\n",
       "        vertical-align: top;\n",
       "    }\n",
       "\n",
       "    .dataframe thead th {\n",
       "        text-align: right;\n",
       "    }\n",
       "</style>\n",
       "<table border=\"1\" class=\"dataframe\">\n",
       "  <thead>\n",
       "    <tr style=\"text-align: right;\">\n",
       "      <th></th>\n",
       "      <th>0</th>\n",
       "      <th>1</th>\n",
       "      <th>2</th>\n",
       "      <th>3</th>\n",
       "      <th>4</th>\n",
       "    </tr>\n",
       "  </thead>\n",
       "  <tbody>\n",
       "    <tr>\n",
       "      <th>0</th>\n",
       "      <td>0.0</td>\n",
       "      <td>0.0</td>\n",
       "      <td>1.0</td>\n",
       "      <td>0.0</td>\n",
       "      <td>0.0</td>\n",
       "    </tr>\n",
       "    <tr>\n",
       "      <th>1</th>\n",
       "      <td>0.0</td>\n",
       "      <td>1.0</td>\n",
       "      <td>0.0</td>\n",
       "      <td>0.0</td>\n",
       "      <td>0.0</td>\n",
       "    </tr>\n",
       "    <tr>\n",
       "      <th>2</th>\n",
       "      <td>0.0</td>\n",
       "      <td>0.0</td>\n",
       "      <td>0.0</td>\n",
       "      <td>1.0</td>\n",
       "      <td>0.0</td>\n",
       "    </tr>\n",
       "    <tr>\n",
       "      <th>3</th>\n",
       "      <td>1.0</td>\n",
       "      <td>0.0</td>\n",
       "      <td>0.0</td>\n",
       "      <td>0.0</td>\n",
       "      <td>0.0</td>\n",
       "    </tr>\n",
       "    <tr>\n",
       "      <th>4</th>\n",
       "      <td>0.0</td>\n",
       "      <td>0.0</td>\n",
       "      <td>0.0</td>\n",
       "      <td>0.0</td>\n",
       "      <td>1.0</td>\n",
       "    </tr>\n",
       "  </tbody>\n",
       "</table>\n",
       "</div>"
      ],
      "text/plain": [
       "     0    1    2    3    4\n",
       "0  0.0  0.0  1.0  0.0  0.0\n",
       "1  0.0  1.0  0.0  0.0  0.0\n",
       "2  0.0  0.0  0.0  1.0  0.0\n",
       "3  1.0  0.0  0.0  0.0  0.0\n",
       "4  0.0  0.0  0.0  0.0  1.0"
      ]
     },
     "execution_count": 27,
     "metadata": {},
     "output_type": "execute_result"
    }
   ],
   "source": [
    "df_onehot = pd.DataFrame(X, columns=[str(i) for i in range(X.shape[1])])\n",
    "df_onehot"
   ]
  },
  {
   "cell_type": "markdown",
   "metadata": {},
   "source": [
    "Memanggil pd.DataFrame yang artinya akan membentuk objek data frame di mana objeknya akan dibentuk dari sekumpulan nilai yang ditampung oleh X "
   ]
  },
  {
   "cell_type": "code",
   "execution_count": 28,
   "metadata": {},
   "outputs": [
    {
     "data": {
      "text/html": [
       "<div>\n",
       "<style scoped>\n",
       "    .dataframe tbody tr th:only-of-type {\n",
       "        vertical-align: middle;\n",
       "    }\n",
       "\n",
       "    .dataframe tbody tr th {\n",
       "        vertical-align: top;\n",
       "    }\n",
       "\n",
       "    .dataframe thead th {\n",
       "        text-align: right;\n",
       "    }\n",
       "</style>\n",
       "<table border=\"1\" class=\"dataframe\">\n",
       "  <thead>\n",
       "    <tr style=\"text-align: right;\">\n",
       "      <th></th>\n",
       "      <th>0</th>\n",
       "      <th>1</th>\n",
       "      <th>2</th>\n",
       "      <th>3</th>\n",
       "      <th>4</th>\n",
       "      <th>country</th>\n",
       "      <th>age</th>\n",
       "      <th>salary</th>\n",
       "    </tr>\n",
       "  </thead>\n",
       "  <tbody>\n",
       "    <tr>\n",
       "      <th>0</th>\n",
       "      <td>0.0</td>\n",
       "      <td>0.0</td>\n",
       "      <td>1.0</td>\n",
       "      <td>0.0</td>\n",
       "      <td>0.0</td>\n",
       "      <td>Indonesia</td>\n",
       "      <td>25</td>\n",
       "      <td>62000</td>\n",
       "    </tr>\n",
       "    <tr>\n",
       "      <th>1</th>\n",
       "      <td>0.0</td>\n",
       "      <td>1.0</td>\n",
       "      <td>0.0</td>\n",
       "      <td>0.0</td>\n",
       "      <td>0.0</td>\n",
       "      <td>Canada</td>\n",
       "      <td>44</td>\n",
       "      <td>75000</td>\n",
       "    </tr>\n",
       "    <tr>\n",
       "      <th>2</th>\n",
       "      <td>0.0</td>\n",
       "      <td>0.0</td>\n",
       "      <td>0.0</td>\n",
       "      <td>1.0</td>\n",
       "      <td>0.0</td>\n",
       "      <td>Japan</td>\n",
       "      <td>56</td>\n",
       "      <td>98000</td>\n",
       "    </tr>\n",
       "    <tr>\n",
       "      <th>3</th>\n",
       "      <td>1.0</td>\n",
       "      <td>0.0</td>\n",
       "      <td>0.0</td>\n",
       "      <td>0.0</td>\n",
       "      <td>0.0</td>\n",
       "      <td>Belgia</td>\n",
       "      <td>35</td>\n",
       "      <td>85000</td>\n",
       "    </tr>\n",
       "    <tr>\n",
       "      <th>4</th>\n",
       "      <td>0.0</td>\n",
       "      <td>0.0</td>\n",
       "      <td>0.0</td>\n",
       "      <td>0.0</td>\n",
       "      <td>1.0</td>\n",
       "      <td>Korea</td>\n",
       "      <td>23</td>\n",
       "      <td>64000</td>\n",
       "    </tr>\n",
       "  </tbody>\n",
       "</table>\n",
       "</div>"
      ],
      "text/plain": [
       "     0    1    2    3    4    country  age  salary\n",
       "0  0.0  0.0  1.0  0.0  0.0  Indonesia   25   62000\n",
       "1  0.0  1.0  0.0  0.0  0.0     Canada   44   75000\n",
       "2  0.0  0.0  0.0  1.0  0.0      Japan   56   98000\n",
       "3  1.0  0.0  0.0  0.0  0.0     Belgia   35   85000\n",
       "4  0.0  0.0  0.0  0.0  1.0      Korea   23   64000"
      ]
     },
     "execution_count": 28,
     "metadata": {},
     "output_type": "execute_result"
    }
   ],
   "source": [
    "df = pd.concat([df_onehot, df], axis=1)\n",
    "df"
   ]
  },
  {
   "cell_type": "markdown",
   "metadata": {},
   "source": [
    "1. Untuk kebutuhan semacam ini caranya cukup mudah, kita hanya tinggal memanggil \"pd.concat\" lalu kita masukkan suatu list yang berisi \"df_onehot\" dan \"df\".\n",
    "2. Lalu kita sertakan parameter axis yang bernilai 1.\n",
    "3. Parameter axis kita beri nilai 1 karena proses concatnya akan kita lakukan site by site atau saling berdampingan.\n",
    "4. Lalu kita akan coba tampilkan pada layar.\n",
    "\n",
    "Bisa dilihat hasil outputnya ada tiga buah kolom baru yang terbentuk dari proses one hot encoding.\n",
    "\n",
    "Lalu tahapan berikutnya, karena kolom \"country\" ini sudah kita representasikan dengan menggunakan one hot encoding semacam ini, maka kolom \"country\" nya bisa kita drop dengan cara memanggil \"df.drop\" lalu kita masukan suatu list yang berisi string country serta menyertakan parameter axisnya dengan nilai satu.\n",
    "\n",
    "Memanggil pd.concat untuk menggabungkan dengan data frame sebelumnya yang akan disertakan parameter axis yang diberi nilai 1. "
   ]
  },
  {
   "cell_type": "code",
   "execution_count": 29,
   "metadata": {},
   "outputs": [
    {
     "data": {
      "text/html": [
       "<div>\n",
       "<style scoped>\n",
       "    .dataframe tbody tr th:only-of-type {\n",
       "        vertical-align: middle;\n",
       "    }\n",
       "\n",
       "    .dataframe tbody tr th {\n",
       "        vertical-align: top;\n",
       "    }\n",
       "\n",
       "    .dataframe thead th {\n",
       "        text-align: right;\n",
       "    }\n",
       "</style>\n",
       "<table border=\"1\" class=\"dataframe\">\n",
       "  <thead>\n",
       "    <tr style=\"text-align: right;\">\n",
       "      <th></th>\n",
       "      <th>0</th>\n",
       "      <th>1</th>\n",
       "      <th>2</th>\n",
       "      <th>3</th>\n",
       "      <th>4</th>\n",
       "      <th>age</th>\n",
       "      <th>salary</th>\n",
       "    </tr>\n",
       "  </thead>\n",
       "  <tbody>\n",
       "    <tr>\n",
       "      <th>0</th>\n",
       "      <td>0.0</td>\n",
       "      <td>0.0</td>\n",
       "      <td>1.0</td>\n",
       "      <td>0.0</td>\n",
       "      <td>0.0</td>\n",
       "      <td>25</td>\n",
       "      <td>62000</td>\n",
       "    </tr>\n",
       "    <tr>\n",
       "      <th>1</th>\n",
       "      <td>0.0</td>\n",
       "      <td>1.0</td>\n",
       "      <td>0.0</td>\n",
       "      <td>0.0</td>\n",
       "      <td>0.0</td>\n",
       "      <td>44</td>\n",
       "      <td>75000</td>\n",
       "    </tr>\n",
       "    <tr>\n",
       "      <th>2</th>\n",
       "      <td>0.0</td>\n",
       "      <td>0.0</td>\n",
       "      <td>0.0</td>\n",
       "      <td>1.0</td>\n",
       "      <td>0.0</td>\n",
       "      <td>56</td>\n",
       "      <td>98000</td>\n",
       "    </tr>\n",
       "    <tr>\n",
       "      <th>3</th>\n",
       "      <td>1.0</td>\n",
       "      <td>0.0</td>\n",
       "      <td>0.0</td>\n",
       "      <td>0.0</td>\n",
       "      <td>0.0</td>\n",
       "      <td>35</td>\n",
       "      <td>85000</td>\n",
       "    </tr>\n",
       "    <tr>\n",
       "      <th>4</th>\n",
       "      <td>0.0</td>\n",
       "      <td>0.0</td>\n",
       "      <td>0.0</td>\n",
       "      <td>0.0</td>\n",
       "      <td>1.0</td>\n",
       "      <td>23</td>\n",
       "      <td>64000</td>\n",
       "    </tr>\n",
       "  </tbody>\n",
       "</table>\n",
       "</div>"
      ],
      "text/plain": [
       "     0    1    2    3    4  age  salary\n",
       "0  0.0  0.0  1.0  0.0  0.0   25   62000\n",
       "1  0.0  1.0  0.0  0.0  0.0   44   75000\n",
       "2  0.0  0.0  0.0  1.0  0.0   56   98000\n",
       "3  1.0  0.0  0.0  0.0  0.0   35   85000\n",
       "4  0.0  0.0  0.0  0.0  1.0   23   64000"
      ]
     },
     "execution_count": 29,
     "metadata": {},
     "output_type": "execute_result"
    }
   ],
   "source": [
    "df = df.drop(['country'], axis=1)\n",
    "df"
   ]
  },
  {
   "cell_type": "markdown",
   "metadata": {},
   "source": [
    "Memanggil df.drop dan memasukkan list dengan string country dengan menyertakan parameter axis yang bernilai 1 kemudian ditampung pada variabel df yang akan menampilkan hasil final dari one hot encoding."
   ]
  },
  {
   "cell_type": "markdown",
   "metadata": {},
   "source": [
    "# Label Encoding vs One Hot Encoding"
   ]
  },
  {
   "cell_type": "markdown",
   "metadata": {},
   "source": [
    "Kita menerapkan One Hot Encoding bila:\n",
    "\n",
    "- Nilai categorical adalah nominal\n",
    "- Jumlah kategori yang ada tidak terlalu banyak\n",
    "\n",
    "Kita menerapkan Label Encoding bila:\n",
    "\n",
    "- Nilai categorical adalah ordinal\n",
    "- Jumlah kategori yang ada relatif banyak"
   ]
  },
  {
   "cell_type": "code",
   "execution_count": null,
   "metadata": {},
   "outputs": [],
   "source": []
  }
 ],
 "metadata": {
  "kernelspec": {
   "display_name": "Python 3",
   "language": "python",
   "name": "python3"
  },
  "language_info": {
   "codemirror_mode": {
    "name": "ipython",
    "version": 3
   },
   "file_extension": ".py",
   "mimetype": "text/x-python",
   "name": "python",
   "nbconvert_exporter": "python",
   "pygments_lexer": "ipython3",
   "version": "3.8.5"
  }
 },
 "nbformat": 4,
 "nbformat_minor": 4
}
