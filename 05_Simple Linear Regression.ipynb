{
 "cells": [
  {
   "cell_type": "markdown",
   "metadata": {
    "slideshow": {
     "slide_type": "slide"
    }
   },
   "source": [
    "# 05 Simple Linear Regression\n",
    "\n",
    "Referensi: [https://en.wikipedia.org/wiki/Simple_linear_regression](https://en.wikipedia.org/wiki/Simple_linear_regression)"
   ]
  },
  {
   "cell_type": "markdown",
   "metadata": {
    "slideshow": {
     "slide_type": "slide"
    }
   },
   "source": [
    "## Sample Dataset"
   ]
  },
  {
   "cell_type": "code",
   "execution_count": 18,
   "metadata": {},
   "outputs": [],
   "source": [
    "import pandas as pd"
   ]
  },
  {
   "cell_type": "markdown",
   "metadata": {},
   "source": [
    "    Mengimport modul pandas terlebih dahulu."
   ]
  },
  {
   "cell_type": "code",
   "execution_count": 19,
   "metadata": {},
   "outputs": [
    {
     "data": {
      "text/html": [
       "<div>\n",
       "<style scoped>\n",
       "    .dataframe tbody tr th:only-of-type {\n",
       "        vertical-align: middle;\n",
       "    }\n",
       "\n",
       "    .dataframe tbody tr th {\n",
       "        vertical-align: top;\n",
       "    }\n",
       "\n",
       "    .dataframe thead th {\n",
       "        text-align: right;\n",
       "    }\n",
       "</style>\n",
       "<table border=\"1\" class=\"dataframe\">\n",
       "  <thead>\n",
       "    <tr style=\"text-align: right;\">\n",
       "      <th></th>\n",
       "      <th>diameter</th>\n",
       "      <th>harga</th>\n",
       "    </tr>\n",
       "  </thead>\n",
       "  <tbody>\n",
       "    <tr>\n",
       "      <th>0</th>\n",
       "      <td>3</td>\n",
       "      <td>4.0</td>\n",
       "    </tr>\n",
       "    <tr>\n",
       "      <th>1</th>\n",
       "      <td>4</td>\n",
       "      <td>6.0</td>\n",
       "    </tr>\n",
       "    <tr>\n",
       "      <th>2</th>\n",
       "      <td>11</td>\n",
       "      <td>15.0</td>\n",
       "    </tr>\n",
       "    <tr>\n",
       "      <th>3</th>\n",
       "      <td>12</td>\n",
       "      <td>16.5</td>\n",
       "    </tr>\n",
       "    <tr>\n",
       "      <th>4</th>\n",
       "      <td>24</td>\n",
       "      <td>26.0</td>\n",
       "    </tr>\n",
       "  </tbody>\n",
       "</table>\n",
       "</div>"
      ],
      "text/plain": [
       "   diameter  harga\n",
       "0         3    4.0\n",
       "1         4    6.0\n",
       "2        11   15.0\n",
       "3        12   16.5\n",
       "4        24   26.0"
      ]
     },
     "execution_count": 19,
     "metadata": {},
     "output_type": "execute_result"
    }
   ],
   "source": [
    "pizza = {'diameter': [3, 4, 11, 12, 24], \n",
    "         'harga': [4, 6, 15, 16.5, 26]}\n",
    "\n",
    "pizza_df = pd.DataFrame(pizza)\n",
    "pizza_df"
   ]
  },
  {
   "cell_type": "markdown",
   "metadata": {},
   "source": [
    "Membentuk dataset yang berisi daftar diameter sebuah pizza beserta harganya, dataset ini kita akan di tampung ke dalam format pandas data frame.\n",
    "\n",
    "Dalam case ini kita buat 2 buah dictionary key yaitu \"diameter\" dan \"harga\" yang setiap key nya akan berhubungan dengan list.\n",
    "- List Diameter adalah \"3, 4, 11, 12, dan 24\",\n",
    "- List Harga \"4, 6, 15, 16.5, dan 26\".\n",
    "\n",
    "Sebuah dictionary yang ada di atas ini ditampung ke dalam variable pizza untuk selanjutnya kita bentuk sebagai objek data frame.\n",
    "\n",
    "Proses pembentukan data frame bisa kita lakukan dengan cara menggunakan cara\n",
    "- pd.DataFrame(pizza) \n",
    "- variable = pizza_df\n",
    "adalah pizza sebagai parameter yang di tampung ke dalam variable\n",
    "\n",
    "Dari kasus yang dibuat kita bisa memprediksi harga pizza bila diketahui ukuran diamenternya, dengan kata lain disini nilai \"diameter\" akan berperan sebagai feature sedangkan \"harga\" akan berperan sebagai target.\n"
   ]
  },
  {
   "cell_type": "markdown",
   "metadata": {
    "slideshow": {
     "slide_type": "slide"
    }
   },
   "source": [
    "## Visualisasi Data"
   ]
  },
  {
   "cell_type": "code",
   "execution_count": 20,
   "metadata": {},
   "outputs": [],
   "source": [
    "import matplotlib.pyplot as plt"
   ]
  },
  {
   "cell_type": "markdown",
   "metadata": {},
   "source": [
    "Mengimport modul matplotlib dialiaskan sebagai \"plt\"."
   ]
  },
  {
   "cell_type": "code",
   "execution_count": 21,
   "metadata": {},
   "outputs": [
    {
     "data": {
      "image/png": "[encoded data removed]",
      "text/plain": [
       "<Figure size 432x288 with 1 Axes>"
      ]
     },
     "metadata": {
      "needs_background": "light"
     },
     "output_type": "display_data"
    }
   ],
   "source": [
    "pizza_df.plot(kind='scatter', x='diameter', y='harga')\n",
    "\n",
    "plt.title('Perbandingan Diameter dan Harga Pizza')\n",
    "plt.xlabel('Diameter (inch)')\n",
    "plt.ylabel('Harga (dollar)')\n",
    "plt.xlim(0, 35)\n",
    "plt.ylim(0, 35)\n",
    "plt.grid(True)\n",
    "plt.show()"
   ]
  },
  {
   "cell_type": "markdown",
   "metadata": {},
   "source": [
    "Pada bagian ini, kita akan mencoba memvisualisasikan dataset \"pizza\" ke dalam scatter plot, \n",
    "\n",
    "- sumbu x  nya akan berasosiasi dengan diameter pizza\n",
    "- sumbu y nya akan berasosisasi dengan harga pizza\n",
    "\n",
    "melakukan visualisasi berupa scatter plot, maka panggil\n",
    "## pizza_df.plot (kind='scatter', x='diameter', y='harga') \n",
    "memiliki 3 parameter\n",
    "- Parameter pertama adalah \"kind\" yang berisi nilai \"scatter\", ploting yang ingin kita hasilkan kali ini adalah scatter plot.\n",
    "\n",
    "- Parameter ke 2 adalah \"x\" akan kita asosiasikan dengan \"diameter\"\n",
    "- Parameter ke 3 adalah \"y\" akan kita asosiasikan dengan \"harga\"\n",
    "- \"plt.title\" kita gunakan untuk mengeset \"judul\".\n",
    "- \"plt.xlabel\" untuk mengatur tampilan label pada sumbu \"x\", begitu juga dengan sumbu \"y\" dengan code \"plt.ylabel\".\n",
    "- \"plt.xlim\" digunakan untuk mengatur jangkauan sumbu \"x', begitu juga dengan sumbu \"y\". (0,35) artinya jangkauan sumbu x dan y nya adalah 0 sampai dengan 35.\n",
    "- \"plt.grid(True)\" digunakan untuk mengaktifkan gridnya.\n",
    "- \"plt.show()\" digunakan untuk menampilkan plotting yang sudah dibuat."
   ]
  },
  {
   "cell_type": "markdown",
   "metadata": {
    "slideshow": {
     "slide_type": "slide"
    }
   },
   "source": [
    "## Simple Linear Regression Model"
   ]
  },
  {
   "cell_type": "markdown",
   "metadata": {
    "slideshow": {
     "slide_type": "subslide"
    }
   },
   "source": [
    "### Penyesuaian Dataset"
   ]
  },
  {
   "cell_type": "code",
   "execution_count": 22,
   "metadata": {},
   "outputs": [
    {
     "name": "stdout",
     "output_type": "stream",
     "text": [
      "X: [ 3  4 11 12 24]\n",
      "y: [ 4.   6.  15.  16.5 26. ]\n"
     ]
    }
   ],
   "source": [
    "import numpy as np\n",
    "\n",
    "X = np.array(pizza_df['diameter'])\n",
    "y = np.array(pizza_df['harga'])\n",
    "\n",
    "print(f'X: {X}')\n",
    "print(f'y: {y}')"
   ]
  },
  {
   "cell_type": "markdown",
   "metadata": {},
   "source": [
    "melakukan beberapa penyesuaian terhadap dataset pizza yang kita miliki.\n",
    "\n",
    "- Langkah pertama yang kita lakukan adalah mengelompokkan feature dan target ke dalam 2 variabel terpisah.\n",
    "- Selanjutnya kita akan melkaukan konversi struktur data dari yang semula menggunakan pandas data frame menjadi numpy array.\n",
    "\n",
    "\n",
    "Melakukan import numpy as np.\n",
    "\n",
    "Untuk diameter, karena diameter ini merupakan feature maka akan kita konversikan terlebih dahulu lalu kita koversikan menjadi suatu numpy array yang beikutnya akan kita tampung kedalam variabel \"x\", dimana variabel \"x\" akan kita pandang sebagai features.\n",
    "    \n",
    "    \n",
    "Lalu berikutnya, untuk kolom harga akan kita koversikan menjadi numpy array dan nilainya akan ditampung ke dalam variabel \"y' sebagai variabel target.\n",
    "    \"X: [ 3  4 11 12 24]\" merupakan kumpulan nilai features.\n",
    "    \"Y: [ 4.   6.  15.  16.5 26. ]\" merupakan kumpulan nilai target."
   ]
  },
  {
   "cell_type": "code",
   "execution_count": 23,
   "metadata": {},
   "outputs": [
    {
     "data": {
      "text/plain": [
       "(5, 1)"
      ]
     },
     "execution_count": 23,
     "metadata": {},
     "output_type": "execute_result"
    }
   ],
   "source": [
    "X = X.reshape(-1, 1)\n",
    "X.shape"
   ]
  },
  {
   "cell_type": "markdown",
   "metadata": {},
   "source": [
    "- Memanggil \"X.reshape(-1, 1)\" yang kita beri nilai parameternya adalah -1 dan 1 yang ditampung ke dalam variabel \"X\".\n",
    "- \"X.shape\" digunakan untuk menampilkan shape atau dimensi dari \"X\" setelah proses reshapping.\n",
    "- reshapping dimensinya menjadi (5,1), variable x akan menampung suatu array 2 dimensi dimana jumlah barisnya berjumlah 5 dan jumlah kolomnya berjumlah 1.\n"
   ]
  },
  {
   "cell_type": "code",
   "execution_count": 24,
   "metadata": {},
   "outputs": [
    {
     "data": {
      "text/plain": [
       "array([[ 3],\n",
       "       [ 4],\n",
       "       [11],\n",
       "       [12],\n",
       "       [24]], dtype=int64)"
      ]
     },
     "execution_count": 24,
     "metadata": {},
     "output_type": "execute_result"
    }
   ],
   "source": [
    "X"
   ]
  },
  {
   "cell_type": "markdown",
   "metadata": {},
   "source": [
    "Tipe data x atau list tipe data x"
   ]
  },
  {
   "cell_type": "markdown",
   "metadata": {
    "slideshow": {
     "slide_type": "subslide"
    }
   },
   "source": [
    "### Training Simple Linear Regression Model"
   ]
  },
  {
   "cell_type": "code",
   "execution_count": 25,
   "metadata": {},
   "outputs": [
    {
     "data": {
      "text/plain": [
       "LinearRegression()"
      ]
     },
     "execution_count": 25,
     "metadata": {},
     "output_type": "execute_result"
    }
   ],
   "source": [
    "from sklearn.linear_model import LinearRegression\n",
    "\n",
    "model = LinearRegression()\n",
    "model.fit(X, y)"
   ]
  },
  {
   "cell_type": "markdown",
   "metadata": {},
   "source": [
    "- Import estimeter class yang kali ini adalah linear regression dengan cara \"from sklearn.linear_model import LinearRegression\". \n",
    "- Membuat objek model dari estemater class dengan\"LinearRegression()\" yang ditampung ke dalam varibel \"model\".\n",
    "- Training objek model dengan cara memanggi method Fit \"model.fit(X, y)\" yang membutuhkan 2 buah parameter yaitu sekumpulan nilai features dan juga nilai targetnya dimana sekumpulan nilai features dan targetnya sudah kita tempatkan kedalam variable \"X\" dan \"y\". jika sudah muncul output \"LinearRegression()\" berarti proses training modelnya sudah selesai, sekarang objek model berstatus train model (objek model yang sudah training).\n"
   ]
  },
  {
   "cell_type": "markdown",
   "metadata": {
    "slideshow": {
     "slide_type": "subslide"
    }
   },
   "source": [
    "### Visualisasi Simple Linear Regression Model"
   ]
  },
  {
   "cell_type": "code",
   "execution_count": 26,
   "metadata": {},
   "outputs": [],
   "source": [
    "X_vis = np.array([0, 35]).reshape(-1, 1)\n",
    "y_vis = model.predict(X_vis)"
   ]
  },
  {
   "cell_type": "code",
   "execution_count": 27,
   "metadata": {},
   "outputs": [
    {
     "data": {
      "image/png": "[encoded data removed]",
      "text/plain": [
       "<Figure size 432x288 with 1 Axes>"
      ]
     },
     "metadata": {
      "needs_background": "light"
     },
     "output_type": "display_data"
    }
   ],
   "source": [
    "plt.scatter(X, y)\n",
    "plt.plot(X_vis, y_vis, '-r')\n",
    "\n",
    "plt.title('Perbandingan Diameter dan Harga Pizza')\n",
    "plt.xlabel('Diameter (inch)')\n",
    "plt.ylabel('Harga (dollar)')\n",
    "plt.xlim(0, 25)\n",
    "plt.ylim(0, 25)\n",
    "plt.grid(True)\n",
    "plt.show()"
   ]
  },
  {
   "cell_type": "markdown",
   "metadata": {},
   "source": [
    "- Siapkan nilai x atau featur di isi secara bebas kalau saya mengisi dengan (0, 35). Kedua nilai ini ditentukan akan melakukan ploting pada area dengan ukuran 35 x 35, dan disini kita ambil nilai terkecil dan nilai terbesarnya yaitu o dan 35.\n",
    "- Kita akan siapkan 2 buah nilai untuk features yaitu 0 dan 35 dan kedua nilai ini akan kita bentuk sebagi numpy array.\n",
    "- Karena numpy array akan digunakan sebagai features, maka perlu kita reshape agar menghasilkan array 2 dimensi dengan memanggil \"reshape(-1, 1)\" yang kita tampung ke dalam variable \"X_vis\".\n",
    "- Lalu berikutnya, berdarsarkan nilai \"X_vis\", kita akan melakukan prediksi terhadap nilai y nya dengan memanggil \"model.predict(X_vis)\" yang kita tampung ke dalam variabel \"y_vis\"."
   ]
  },
  {
   "cell_type": "markdown",
   "metadata": {},
   "source": [
    "Formula Linear Regression: $y = \\alpha + \\beta x$ \n",
    "- $y$: response variable\n",
    "- $x$: explanatory variable\n",
    "- $\\alpha$: intercept\n",
    "- $\\beta$: slope"
   ]
  },
  {
   "cell_type": "code",
   "execution_count": 28,
   "metadata": {},
   "outputs": [
    {
     "name": "stdout",
     "output_type": "stream",
     "text": [
      "intercept: 2.272277227722773\n",
      "slope: [1.03960396]\n"
     ]
    }
   ],
   "source": [
    "print(f'intercept: {model.intercept_}')\n",
    "print(f'slope: {model.coef_}')"
   ]
  },
  {
   "cell_type": "markdown",
   "metadata": {},
   "source": [
    "\n",
    "- Nilai interceptnya adalah \"1.965517241379315\" menunjuka titik awal garis yang bewarna merah.\n",
    "- Nilai \"0.9762931\" adalah slopenya\n"
   ]
  },
  {
   "cell_type": "markdown",
   "metadata": {
    "slideshow": {
     "slide_type": "subslide"
    }
   },
   "source": [
    "### Mencari nilai slope\n",
    "\n",
    "Nilai slope pada Linear Regression bisa diperoleh dengan memanfaatkan formula berikut:\n",
    "\n",
    "$\\beta = \\frac{cov(x, y)}{var(x)}$"
   ]
  },
  {
   "cell_type": "code",
   "execution_count": 29,
   "metadata": {},
   "outputs": [
    {
     "name": "stdout",
     "output_type": "stream",
     "text": [
      "X:\n",
      "[[ 3]\n",
      " [ 4]\n",
      " [11]\n",
      " [12]\n",
      " [24]]\n",
      "\n",
      "X flatten: [ 3  4 11 12 24]\n",
      "\n",
      "y: [ 4.   6.  15.  16.5 26. ]\n"
     ]
    }
   ],
   "source": [
    "print(f'X:\\n{X}\\n')\n",
    "print(f'X flatten: {X.flatten()}\\n')\n",
    "print(f'y: {y}')"
   ]
  },
  {
   "cell_type": "markdown",
   "metadata": {},
   "source": [
    "- \"flatten: X.flatten()\" method faltten mengembalikan kepada bentuk asal. Dari2 dimensi kembali menjadi 1 dimensi.\n",
    "- \"{y}\" untuk menampilkan nilai y yang sudah berbentuk 1 dimensi. "
   ]
  },
  {
   "cell_type": "markdown",
   "metadata": {},
   "source": [
    "#### Variance"
   ]
  },
  {
   "cell_type": "code",
   "execution_count": 30,
   "metadata": {},
   "outputs": [
    {
     "name": "stdout",
     "output_type": "stream",
     "text": [
      "variance: 70.7\n"
     ]
    }
   ],
   "source": [
    "variance_x = np.var(X.flatten(), ddof=1)\n",
    "\n",
    "print(f'variance: {variance_x}')"
   ]
  },
  {
   "cell_type": "markdown",
   "metadata": {},
   "source": [
    "\n",
    "- \"np.var\". variance ini akan membutuhkan 2 parameter. Parameter pertama adalah nilai dari variable x yang sudah di flatten kan. Parameter kedua yaitu ddof yaitu \"degree of freedom\" yang kita set dengan angka 1. Hasil perhitungan ditampung ke dalam variable \"variance_x\".\n",
    "- Lalu menampilkan hasilnya, yang pada kali ini hasilnya adalah 23.2\n"
   ]
  },
  {
   "cell_type": "markdown",
   "metadata": {},
   "source": [
    "#### Covariance"
   ]
  },
  {
   "cell_type": "code",
   "execution_count": 31,
   "metadata": {},
   "outputs": [
    {
     "data": {
      "text/plain": [
       "array([[70.7, 73.5],\n",
       "       [73.5, 78.5]])"
      ]
     },
     "execution_count": 31,
     "metadata": {},
     "output_type": "execute_result"
    }
   ],
   "source": [
    "np.cov(X.flatten(), y)"
   ]
  },
  {
   "cell_type": "markdown",
   "metadata": {},
   "source": [
    " Memanggil np.cov,\n",
    "- membutuhkan 2 parameter. Parameter pertama adalah nilai x yang sudah di flatten kan, \n",
    "- lalu parameter kedua adalah y.\n",
    "- Pemanggilan fungsi \"np.cov\" ini akan menghasilkan covariance matriks yang terdiri dari 2 kolom dan 2 baris, tetapi nilai yang mau kita gunakan adalah \"22.65\" dan \"22.65\" atau yang berada dalam diagonal atau bersebrangan.\n"
   ]
  },
  {
   "cell_type": "code",
   "execution_count": 32,
   "metadata": {},
   "outputs": [
    {
     "name": "stdout",
     "output_type": "stream",
     "text": [
      "covariance: 73.5\n"
     ]
    }
   ],
   "source": [
    "covariance_xy = np.cov(X.flatten(), y)[0][1]\n",
    "\n",
    "print(f'covariance: {covariance_xy}')"
   ]
  },
  {
   "cell_type": "markdown",
   "metadata": {},
   "source": [
    "#### Slope"
   ]
  },
  {
   "cell_type": "code",
   "execution_count": 33,
   "metadata": {},
   "outputs": [
    {
     "name": "stdout",
     "output_type": "stream",
     "text": [
      "slope: 1.0396039603960396\n"
     ]
    }
   ],
   "source": [
    "slope = covariance_xy / variance_x\n",
    "\n",
    "print(f'slope: {slope}')"
   ]
  },
  {
   "cell_type": "markdown",
   "metadata": {
    "slideshow": {
     "slide_type": "subslide"
    }
   },
   "source": [
    "### Mencari nilai intercept\n",
    "\n",
    "Nilai intercept pada Linear Regression bisa diperoleh dengan memanfaatkan formula berikut:\n",
    "\n",
    "$\\alpha = \\bar{y} - \\beta \\bar{x}$"
   ]
  },
  {
   "cell_type": "code",
   "execution_count": 34,
   "metadata": {},
   "outputs": [
    {
     "name": "stdout",
     "output_type": "stream",
     "text": [
      "intercept: 2.272277227722771\n"
     ]
    }
   ],
   "source": [
    "intercept = np.mean(y) - slope * np.mean(X)\n",
    "\n",
    "print(f'intercept: {intercept}')"
   ]
  },
  {
   "cell_type": "markdown",
   "metadata": {
    "slideshow": {
     "slide_type": "subslide"
    }
   },
   "source": [
    "### Prediksi Harga Pizza"
   ]
  },
  {
   "cell_type": "code",
   "execution_count": 35,
   "metadata": {},
   "outputs": [
    {
     "data": {
      "text/plain": [
       "array([[15],\n",
       "       [20],\n",
       "       [25]])"
      ]
     },
     "execution_count": 35,
     "metadata": {},
     "output_type": "execute_result"
    }
   ],
   "source": [
    "diameter_pizza = np.array([15, 20, 25]).reshape(-1, 1)\n",
    "diameter_pizza"
   ]
  },
  {
   "cell_type": "markdown",
   "metadata": {},
   "source": [
    "- Saya menyiapkan 3 nilai diameter yaitu 15, 20, dan 25 sebagai features yang akan kita prediksi.\n",
    "- Karena kita hanya memiliki satu nilai features yaitu diameter saja, maka array nya perlu kita reshape untuk menjadi array 2 dimensi pada code \"reshape(-1, 1)\".\n",
    "- Lalu nilai array yang terbentuk ini kita tampung ke dalam variable diameter_pizza.\n"
   ]
  },
  {
   "cell_type": "code",
   "execution_count": 36,
   "metadata": {},
   "outputs": [
    {
     "data": {
      "text/plain": [
       "array([17.86633663, 23.06435644, 28.26237624])"
      ]
     },
     "execution_count": 36,
     "metadata": {},
     "output_type": "execute_result"
    }
   ],
   "source": [
    "prediksi_harga = model.predict(diameter_pizza)\n",
    "prediksi_harga"
   ]
  },
  {
   "cell_type": "markdown",
   "metadata": {},
   "source": [
    "Hasil prediksinya adalah 17.86633663, 23.06435644, 28.26237624"
   ]
  },
  {
   "cell_type": "code",
   "execution_count": 37,
   "metadata": {},
   "outputs": [
    {
     "name": "stdout",
     "output_type": "stream",
     "text": [
      "Diameter: [15] predilsi harga: 17.866336633663366\n",
      "Diameter: [20] predilsi harga: 23.06435643564356\n",
      "Diameter: [25] predilsi harga: 28.262376237623755\n"
     ]
    }
   ],
   "source": [
    "for dmtr, hrg in zip(diameter_pizza, prediksi_harga):\n",
    "    print(f'Diameter: {dmtr} predilsi harga: {hrg}')"
   ]
  },
  {
   "cell_type": "markdown",
   "metadata": {
    "slideshow": {
     "slide_type": "subslide"
    }
   },
   "source": [
    "### Evaluasi Simple Linear Regression Model"
   ]
  },
  {
   "cell_type": "markdown",
   "metadata": {
    "slideshow": {
     "slide_type": "-"
    }
   },
   "source": [
    "#### Training & Testing Dataset"
   ]
  },
  {
   "cell_type": "code",
   "execution_count": 38,
   "metadata": {},
   "outputs": [],
   "source": [
    "X_train = np.array([6, 8, 10, 14, 18]).reshape(-1, 1)\n",
    "y_train = np.array([7, 9, 13, 17.5, 18])\n",
    "\n",
    "X_test = np.array([8, 9, 11, 16, 12]).reshape(-1, 1)\n",
    "y_test = np.array([11, 8.5, 15, 18, 11])"
   ]
  },
  {
   "cell_type": "markdown",
   "metadata": {},
   "source": [
    "#### Training Simple Linear Regression Model"
   ]
  },
  {
   "cell_type": "code",
   "execution_count": 39,
   "metadata": {},
   "outputs": [
    {
     "data": {
      "text/plain": [
       "LinearRegression()"
      ]
     },
     "execution_count": 39,
     "metadata": {},
     "output_type": "execute_result"
    }
   ],
   "source": [
    "model = LinearRegression()\n",
    "model.fit(X_train, y_train)"
   ]
  },
  {
   "cell_type": "markdown",
   "metadata": {},
   "source": [
    "#### Evaluasi Linear Regression Model dengan Coefficient of Determination atau R-squared ($R^2$)\n"
   ]
  },
  {
   "cell_type": "code",
   "execution_count": 40,
   "metadata": {},
   "outputs": [
    {
     "name": "stdout",
     "output_type": "stream",
     "text": [
      "R-squared: 0.6620052929422553\n"
     ]
    }
   ],
   "source": [
    "from sklearn.metrics import r2_score\n",
    "\n",
    "y_pred = model.predict(X_test)\n",
    "\n",
    "r_squared = r2_score(y_test, y_pred)\n",
    "\n",
    "print(f'R-squared: {r_squared}')"
   ]
  },
  {
   "cell_type": "markdown",
   "metadata": {},
   "source": [
    "- Mengimport matriks evaluasi r2_score.\n",
    "- proses prediksi nilai target dengan memanfaatkan nilai features pada testing set kita yang nilai prediksi tampung kedalam variabel y_pred.\n",
    "- Mengukur nilai \"y\" hasil prediksi dan nilai \"y\" real dengan memanggil fungsi \"r2_score(y_test, y_pred)\" yang ditampung ke dalam variable \"r_squared\".\n",
    "- Nilai r squared nya adalah \"0.6620052929422553\". Nilai r squared semakin dia mendekati 1 (satu) akan semakin baik, tetapi jika semakin menjauhi 1 atau semakin mendekati nilai 0 akan semakin buruk. Lalu yang terburuknya akan mendapat nilai negatif\n"
   ]
  },
  {
   "cell_type": "markdown",
   "metadata": {
    "slideshow": {
     "slide_type": "subslide"
    }
   },
   "source": [
    "### Mencari nilai R-squared ($R^2$)\n",
    "\n",
    "$R^{2} = 1 - \\frac{SS_{res}}{SS_{tot}}$\n",
    "\n",
    "\n",
    "$SS_{res} =  \\sum_{i=1}^{n}(y_i - f(x_i))^2$\n",
    "\n",
    "\n",
    "$SS_{tot} =  \\sum_{i=1}^{n}(y_i - \\bar{y})^2$"
   ]
  },
  {
   "cell_type": "markdown",
   "metadata": {},
   "source": [
    "#### $SS_{res}$"
   ]
  },
  {
   "cell_type": "code",
   "execution_count": 41,
   "metadata": {},
   "outputs": [
    {
     "name": "stdout",
     "output_type": "stream",
     "text": [
      "ss_res: 19.1980993608799\n"
     ]
    }
   ],
   "source": [
    "ss_res = sum([(y_i - model.predict(x_i.reshape(-1, 1))[0])**2\n",
    "              for x_i, y_i in zip(X_test, y_test)])\n",
    "\n",
    "print(f'ss_res: {ss_res}')"
   ]
  },
  {
   "cell_type": "markdown",
   "metadata": {},
   "source": [
    "#### $SS_{tot}$"
   ]
  },
  {
   "cell_type": "code",
   "execution_count": 42,
   "metadata": {},
   "outputs": [
    {
     "name": "stdout",
     "output_type": "stream",
     "text": [
      "ss_tot: 56.8\n"
     ]
    }
   ],
   "source": [
    "mean_y = np.mean(y_test)\n",
    "ss_tot = sum([(y_i - mean_y)**2 for y_i in y_test])\n",
    "\n",
    "print(f'ss_tot: {ss_tot}')"
   ]
  },
  {
   "cell_type": "markdown",
   "metadata": {},
   "source": [
    "#### $R^2$"
   ]
  },
  {
   "cell_type": "code",
   "execution_count": 43,
   "metadata": {},
   "outputs": [
    {
     "name": "stdout",
     "output_type": "stream",
     "text": [
      "R-squared: 0.6620052929422553\n"
     ]
    }
   ],
   "source": [
    "r_squared = 1 - (ss_res / ss_tot)\n",
    "\n",
    "print(f'R-squared: {r_squared}')"
   ]
  },
  {
   "cell_type": "code",
   "execution_count": null,
   "metadata": {},
   "outputs": [],
   "source": []
  }
 ],
 "metadata": {
  "celltoolbar": "Slideshow",
  "kernelspec": {
   "display_name": "Python 3",
   "language": "python",
   "name": "python3"
  },
  "language_info": {
   "codemirror_mode": {
    "name": "ipython",
    "version": 3
   },
   "file_extension": ".py",
   "mimetype": "text/x-python",
   "name": "python",
   "nbconvert_exporter": "python",
   "pygments_lexer": "ipython3",
   "version": "3.8.8"
  }
 },
 "nbformat": 4,
 "nbformat_minor": 4
}
